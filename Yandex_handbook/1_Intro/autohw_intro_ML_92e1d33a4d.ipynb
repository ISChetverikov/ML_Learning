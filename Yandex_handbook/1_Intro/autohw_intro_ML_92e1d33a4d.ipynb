{
 "cells": [
  {
   "cell_type": "markdown",
   "metadata": {
    "id": "k3zbLLaSGH6Z"
   },
   "source": [
    "## Лабораторная работа \"Введение в ML\""
   ]
  },
  {
   "cell_type": "markdown",
   "metadata": {
    "id": "SL3v975uGH6h"
   },
   "source": [
    "В этой лабораторной вы:\n",
    "\n",
    "- познакомитесь с базовыми библиотеками для работы с табличными данными — `numpy` и `pandas`\n",
    "- поближе посмотрите на простейшие задачи машинного обучения: классификацию и регрессию\n",
    "- попробуете несколько метрик и поймёте, почему выбор метрики это важно\n",
    "- обучите несколько простых моделей\n",
    "- увидите связь между сложностью модели и переобучением\n",
    "- убедитесь, что без данных всё тлен"
   ]
  },
  {
   "cell_type": "markdown",
   "metadata": {
    "id": "ad3nBqBSGH6j"
   },
   "source": [
    "Загрузка самых базовых библиотек:"
   ]
  },
  {
   "cell_type": "code",
   "execution_count": 1,
   "metadata": {
    "execution": {
     "iopub.execute_input": "2025-07-30T02:51:38.836303Z",
     "iopub.status.busy": "2025-07-30T02:51:38.834878Z",
     "iopub.status.idle": "2025-07-30T02:51:43.509882Z",
     "shell.execute_reply": "2025-07-30T02:51:43.508763Z",
     "shell.execute_reply.started": "2025-07-30T02:51:38.836245Z"
    },
    "id": "Z8Iht5qhGH6l",
    "tags": []
   },
   "outputs": [],
   "source": [
    "import numpy as np\n",
    "import pandas as pd\n",
    "import matplotlib.pyplot as plt\n",
    "%matplotlib inline\n",
    "\n",
    "from sklearn.model_selection import train_test_split"
   ]
  },
  {
   "cell_type": "markdown",
   "metadata": {
    "id": "4W8Eq0sTGH6n"
   },
   "source": [
    "### [NumPy](https://numpy.org/doc/stable/user/index.html)\n",
    "\n",
    "С 1995 numeric, с 2006 NumPy — «Numerical Python extensions» или просто «NumPy»\n",
    "\n",
    "Возможности библиотеки NumPy:\n",
    "* работать с многомерными массивами (таблицами)\n",
    "* быстро вычислять математические функций на многомерных массивах\n",
    "\n",
    "Ядро пакета NumPy — объект [ndarray](https://docs.scipy.org/doc/numpy/reference/generated/numpy.ndarray.html)\n",
    "\n",
    "**Важные отличия** между NumPy arrays и Python sequences:\n",
    "* NumPy array имеет фиксированную длину, которая определяется в момент его создания (в отличие от Python lists, которые могут расти динамически)\n",
    "* Элементы в NumPy array должны быть одного типа\n",
    "* Можно выполнять операции непосредственно над NumPy arrays\n",
    "\n",
    "**Скорость** NumPy достигается с помощью:\n",
    "* реализации на C\n",
    "* векторизации и броадкастинга (broadcasting). Например, произведение массивов совместимых форм.\n",
    "\n",
    "Теперь давайте разберёмся подробнее и сделаем что-нибудь приятное и полезное в `numpy`!"
   ]
  },
  {
   "cell_type": "markdown",
   "metadata": {
    "id": "eS3UKcU6GH6o"
   },
   "source": [
    "### Индексация"
   ]
  },
  {
   "cell_type": "markdown",
   "metadata": {
    "id": "VqBzoEfvGH6p"
   },
   "source": [
    "В NumPy работает привычная индексация Python, ура! Включая использование отрицательных индексов и срезов (slices)"
   ]
  },
  {
   "cell_type": "markdown",
   "metadata": {
    "id": "Anq_nSYTGH6q"
   },
   "source": [
    "<div class=\"alert alert-info\">\n",
    "<b>Замечание 1:</b> Индексы и срезы в многомерных массивах не нужно разделять квадратными скобками,\n",
    "т.е. вместо <b>matrix[i][j]</b> нужно использовать <b>matrix[i, j]</b>. Первое тоже работает, но сначала выдаёт строку i, потом элемент j в ней.\n",
    "</div>"
   ]
  },
  {
   "cell_type": "markdown",
   "metadata": {
    "id": "OoHXSVIrGH6q"
   },
   "source": [
    "<div class=\"alert alert-danger\">\n",
    "<b>Замечание 2:</b> Срезы в NumPy создают view, а не копии, как в случае срезов встроенных последовательностей Python (string, tuple and list).\n",
    "</div>"
   ]
  },
  {
   "cell_type": "code",
   "execution_count": 6,
   "metadata": {
    "execution": {
     "iopub.execute_input": "2025-07-28T07:06:17.044273Z",
     "iopub.status.busy": "2025-07-28T07:06:17.043063Z",
     "iopub.status.idle": "2025-07-28T07:06:17.071583Z",
     "shell.execute_reply": "2025-07-28T07:06:17.070496Z",
     "shell.execute_reply.started": "2025-07-28T07:06:17.044218Z"
    },
    "id": "YJKxBB4dGH6s",
    "outputId": "61139b1d-46db-4f7f-d5bb-96b7c3f96284",
    "tags": []
   },
   "outputs": [
    {
     "data": {
      "text/plain": [
       "array([[0., 1., 0., 1., 0.],\n",
       "       [1., 1., 1., 1., 1.],\n",
       "       [0., 1., 0., 1., 0.],\n",
       "       [1., 1., 1., 1., 1.],\n",
       "       [0., 1., 0., 1., 0.]])"
      ]
     },
     "execution_count": 6,
     "metadata": {},
     "output_type": "execute_result"
    }
   ],
   "source": [
    "ones_matrix = np.ones((5, 5))\n",
    "ones_submatrix_view = ones_matrix[::2,::2] # creates a view, not copy\n",
    "ones_matrix[::2,::2] = np.zeros((3, 3))\n",
    "ones_matrix"
   ]
  },
  {
   "cell_type": "markdown",
   "metadata": {
    "id": "jpEF1rp2GH6v"
   },
   "source": [
    "### Ссылка на Яндекс.Контест\n",
    "\n",
    "Решения и ответы в задачах, расположенных ниже, загружайте в контест на автоматическую проверку:\n",
    "https://new.contest.yandex.ru/60376/start\n"
   ]
  },
  {
   "cell_type": "markdown",
   "metadata": {
    "id": "eZpuxPhJGH6v"
   },
   "source": [
    "**1.** Реализуйте функцию, принимающую на вход два одномерных массива `first_array` и `second_array` и возвращающую матрицу, в которой первый массив соответствует первому столбцу матрицы, второй — второму.\n",
    "\n",
    "Вероятно первое, что приходит вам на ум, это конкатенация и транспонирование:"
   ]
  },
  {
   "cell_type": "code",
   "execution_count": 32,
   "metadata": {
    "execution": {
     "iopub.execute_input": "2025-07-28T07:39:45.646785Z",
     "iopub.status.busy": "2025-07-28T07:39:45.645456Z",
     "iopub.status.idle": "2025-07-28T07:39:45.663410Z",
     "shell.execute_reply": "2025-07-28T07:39:45.662326Z",
     "shell.execute_reply.started": "2025-07-28T07:39:45.646737Z"
    },
    "id": "hmQk1N6rGH6w",
    "tags": []
   },
   "outputs": [
    {
     "data": {
      "text/plain": [
       "array([[1, 3],\n",
       "       [2, 4],\n",
       "       [6, 7]])"
      ]
     },
     "execution_count": 32,
     "metadata": {},
     "output_type": "execute_result"
    }
   ],
   "source": [
    "def construct_matrix(first_array, second_array):\n",
    "    \"\"\"\n",
    "    Construct matrix from pair of arrays\n",
    "    :param first_array: first array\n",
    "    :param second_array: second array\n",
    "    :return: constructed matrix\n",
    "    \"\"\"\n",
    "    m = len(first_array)\n",
    "    n = 2\n",
    "    \n",
    "    return np.hstack([first_array.reshape(m, 1), second_array.reshape(m, 1)])\n",
    "\n",
    "construct_matrix(np.array([1, 2, 6]),np.array([3,4, 7]))"
   ]
  },
  {
   "cell_type": "code",
   "execution_count": 18,
   "metadata": {
    "execution": {
     "iopub.execute_input": "2025-07-28T07:23:12.645777Z",
     "iopub.status.busy": "2025-07-28T07:23:12.644461Z",
     "iopub.status.idle": "2025-07-28T07:23:12.665596Z",
     "shell.execute_reply": "2025-07-28T07:23:12.664437Z",
     "shell.execute_reply.started": "2025-07-28T07:23:12.645734Z"
    },
    "id": "TeFqyCz4GH6x",
    "outputId": "ecd0b7d3-7acf-40f2-878e-057d17136e8c",
    "scrolled": true,
    "tags": []
   },
   "outputs": [
    {
     "data": {
      "text/plain": [
       "array([[1, 3],\n",
       "       [2, 4],\n",
       "       [6, 7]])"
      ]
     },
     "execution_count": 18,
     "metadata": {},
     "output_type": "execute_result"
    }
   ],
   "source": [
    "construct_matrix(np.array([1,2, 6]),np.array([3,4, 7]))"
   ]
  },
  {
   "cell_type": "markdown",
   "metadata": {
    "id": "lP-lmcA2GH6y"
   },
   "source": [
    "(в скобках заметим, что конкатенировать можно vertically, horizontally, depth wise методами vstack, hstack, dstack по трём осям (0, 1 и 2, соотвественно), либо в общем случае `np.concatenate` — поиграйтесь ниже с прекрасным примером четырёхмерной точки, чтобы точно всё для себя понять)"
   ]
  },
  {
   "cell_type": "code",
   "execution_count": 24,
   "metadata": {
    "execution": {
     "iopub.execute_input": "2025-07-28T07:24:18.415137Z",
     "iopub.status.busy": "2025-07-28T07:24:18.414228Z",
     "iopub.status.idle": "2025-07-28T07:24:18.430089Z",
     "shell.execute_reply": "2025-07-28T07:24:18.429123Z",
     "shell.execute_reply.started": "2025-07-28T07:24:18.415088Z"
    },
    "tags": []
   },
   "outputs": [
    {
     "data": {
      "text/plain": [
       "2"
      ]
     },
     "execution_count": 24,
     "metadata": {},
     "output_type": "execute_result"
    }
   ],
   "source": [
    "len(np.arange(1, 20, 5)[::2])"
   ]
  },
  {
   "cell_type": "code",
   "execution_count": 16,
   "metadata": {
    "execution": {
     "iopub.execute_input": "2025-07-28T07:09:55.455628Z",
     "iopub.status.busy": "2025-07-28T07:09:55.454343Z",
     "iopub.status.idle": "2025-07-28T07:09:55.484501Z",
     "shell.execute_reply": "2025-07-28T07:09:55.483353Z",
     "shell.execute_reply.started": "2025-07-28T07:09:55.455580Z"
    },
    "id": "xguxLJ0VGH6y",
    "outputId": "2f32df14-6f5d-4800-96b5-bb8fba9c9ec0"
   },
   "outputs": [
    {
     "data": {
      "text/plain": [
       "array([[[[0]]]])"
      ]
     },
     "execution_count": 16,
     "metadata": {},
     "output_type": "execute_result"
    }
   ],
   "source": [
    "p = np.arange(1).reshape([1, 1, 1, 1])\n",
    "p"
   ]
  },
  {
   "cell_type": "code",
   "execution_count": 17,
   "metadata": {
    "execution": {
     "iopub.execute_input": "2025-07-28T07:10:03.378114Z",
     "iopub.status.busy": "2025-07-28T07:10:03.376549Z",
     "iopub.status.idle": "2025-07-28T07:10:03.401346Z",
     "shell.execute_reply": "2025-07-28T07:10:03.400183Z",
     "shell.execute_reply.started": "2025-07-28T07:10:03.378059Z"
    },
    "id": "z1JFw75eGH6y",
    "outputId": "16e3c894-2e0e-4a5a-edd4-7a974cfa43e4"
   },
   "outputs": [
    {
     "name": "stdout",
     "output_type": "stream",
     "text": [
      "vstack:  (2, 1, 1, 1)\n",
      "hstack:  (1, 2, 1, 1)\n",
      "dstack:  (1, 1, 2, 1)\n"
     ]
    }
   ],
   "source": [
    "print(\"vstack: \", np.vstack((p, p)).shape)\n",
    "print(\"hstack: \", np.hstack((p, p)).shape)\n",
    "print(\"dstack: \", np.dstack((p, p)).shape)"
   ]
  },
  {
   "cell_type": "code",
   "execution_count": null,
   "metadata": {
    "id": "cvbthbDDGH6z",
    "outputId": "d89430e5-8c64-4b5f-f2b3-4343f4c659ed"
   },
   "outputs": [
    {
     "data": {
      "text/plain": [
       "(1, 1, 1, 2)"
      ]
     },
     "execution_count": 8,
     "metadata": {},
     "output_type": "execute_result"
    }
   ],
   "source": [
    "np.concatenate((p, p), axis=3).shape"
   ]
  },
  {
   "cell_type": "markdown",
   "metadata": {
    "id": "-5GkuWwaGH60"
   },
   "source": [
    "Но, поскольку операция транспонирования [делает массив non-contiguous](https://numpy.org/doc/stable/user/basics.copies.html#other-operations), мы в этой задаче **запретим** ей пользоваться и порекомедуем воспользоваться, например, методом [reshape](https://numpy.org/doc/stable/reference/generated/numpy.reshape.html)."
   ]
  },
  {
   "cell_type": "markdown",
   "metadata": {
    "id": "n3ce_o75GH61"
   },
   "source": [
    "**2.** Реализуйте функцию, принимающую на вход массив целых неотрицательных чисел `nums` и возвращающую самый частый элемент массива."
   ]
  },
  {
   "cell_type": "code",
   "execution_count": 21,
   "metadata": {
    "execution": {
     "iopub.execute_input": "2025-07-29T10:44:43.696161Z",
     "iopub.status.busy": "2025-07-29T10:44:43.694804Z",
     "iopub.status.idle": "2025-07-29T10:44:43.714512Z",
     "shell.execute_reply": "2025-07-29T10:44:43.713500Z",
     "shell.execute_reply.started": "2025-07-29T10:44:43.696100Z"
    },
    "id": "XZysMovaGH61",
    "tags": []
   },
   "outputs": [
    {
     "data": {
      "text/plain": [
       "6"
      ]
     },
     "execution_count": 21,
     "metadata": {},
     "output_type": "execute_result"
    }
   ],
   "source": [
    "def most_frequent(nums):\n",
    "    \"\"\"\n",
    "    Find the most frequent value in an array\n",
    "    :param nums: array of ints\n",
    "    :return: the most frequent value\n",
    "    \"\"\"\n",
    "    d = {}\n",
    "    for i in nums:\n",
    "        if i in d:\n",
    "            d[i] += 1\n",
    "        else:\n",
    "            d[i] = 1\n",
    "            \n",
    "    m = 0\n",
    "    m_key = 0 \n",
    "    for k, v in d.items():\n",
    "        if v > m:\n",
    "            m = v\n",
    "            m_key = k\n",
    "    \n",
    "    return m_key\n",
    "\n",
    "most_frequent(np.array([1, 2, 6, 6]))"
   ]
  },
  {
   "cell_type": "markdown",
   "metadata": {
    "id": "e6kjITZMGH62"
   },
   "source": [
    "### Переходим к работе с данными\n",
    "\n",
    "Прежде всего, загрузим данные и сделаем из них красивые pandas-таблички. Они взяты из параллели RecSys соревнования https://yandex.ru/cup/ml/. Но мы будем иметь дело не со всеми данными, а только с их частью. Данные у нас будут про заведения общественного питания (больше бюрократический терминологии!)\n",
    "\n",
    "Файлы с данными можно найти [здесь](https://disk.yandex.ru/d/YWvCNRQMb7QSQA).\n",
    "\n",
    "Задачей будет **предсказание среднего чека** (average_bill) по некоторым другим свойствам заведения."
   ]
  },
  {
   "cell_type": "code",
   "execution_count": 7,
   "metadata": {
    "execution": {
     "iopub.execute_input": "2025-07-29T07:14:50.031534Z",
     "iopub.status.busy": "2025-07-29T07:14:50.030143Z",
     "iopub.status.idle": "2025-07-29T07:14:50.058681Z",
     "shell.execute_reply": "2025-07-29T07:14:50.057480Z",
     "shell.execute_reply.started": "2025-07-29T07:14:50.031482Z"
    },
    "tags": []
   },
   "outputs": [
    {
     "data": {
      "text/plain": [
       "'/home/jupyter/work/resources'"
      ]
     },
     "execution_count": 7,
     "metadata": {},
     "output_type": "execute_result"
    }
   ],
   "source": [
    "import os\n",
    "\n",
    "os.getcwd()"
   ]
  },
  {
   "cell_type": "code",
   "execution_count": 2,
   "metadata": {
    "execution": {
     "iopub.execute_input": "2025-07-29T10:19:18.720582Z",
     "iopub.status.busy": "2025-07-29T10:19:18.719627Z",
     "iopub.status.idle": "2025-07-29T10:19:18.739930Z",
     "shell.execute_reply": "2025-07-29T10:19:18.738949Z",
     "shell.execute_reply.started": "2025-07-29T10:19:18.720532Z"
    },
    "id": "yJPF3OclGH62",
    "tags": []
   },
   "outputs": [],
   "source": []
  },
  {
   "cell_type": "code",
   "execution_count": 5,
   "metadata": {
    "execution": {
     "iopub.execute_input": "2025-07-29T10:19:27.025151Z",
     "iopub.status.busy": "2025-07-29T10:19:27.023973Z",
     "iopub.status.idle": "2025-07-29T10:19:27.222438Z",
     "shell.execute_reply": "2025-07-29T10:19:27.221428Z",
     "shell.execute_reply.started": "2025-07-29T10:19:27.025110Z"
    },
    "id": "uzDIu6uXGH62",
    "tags": []
   },
   "outputs": [],
   "source": []
  },
  {
   "cell_type": "markdown",
   "metadata": {
    "id": "k-AwDM7bGH63"
   },
   "source": [
    "В основном мы будем работать с табличкой `data`; остальное вам может пригодиться, если вы захотите знать, какое содержание стоит за кодами признаков."
   ]
  },
  {
   "cell_type": "markdown",
   "metadata": {
    "id": "4hrvEN_3GH63"
   },
   "source": [
    "## Изучение данных"
   ]
  },
  {
   "cell_type": "markdown",
   "metadata": {
    "id": "PI9YQMuCGH63"
   },
   "source": [
    "Посмотрите на данные. В этом вам поможет метод ``head`` pandas-таблички."
   ]
  },
  {
   "cell_type": "code",
   "execution_count": 13,
   "metadata": {
    "execution": {
     "iopub.execute_input": "2025-07-29T07:17:32.908579Z",
     "iopub.status.busy": "2025-07-29T07:17:32.907204Z",
     "iopub.status.idle": "2025-07-29T07:17:32.939586Z",
     "shell.execute_reply": "2025-07-29T07:17:32.938487Z",
     "shell.execute_reply.started": "2025-07-29T07:17:32.908529Z"
    },
    "id": "VA_0DG29GH64",
    "tags": []
   },
   "outputs": [
    {
     "data": {
      "text/html": [
       "<div>\n",
       "<style scoped>\n",
       "    .dataframe tbody tr th:only-of-type {\n",
       "        vertical-align: middle;\n",
       "    }\n",
       "\n",
       "    .dataframe tbody tr th {\n",
       "        vertical-align: top;\n",
       "    }\n",
       "\n",
       "    .dataframe thead th {\n",
       "        text-align: right;\n",
       "    }\n",
       "</style>\n",
       "<table border=\"1\" class=\"dataframe\">\n",
       "  <thead>\n",
       "    <tr style=\"text-align: right;\">\n",
       "      <th></th>\n",
       "      <th>org_id</th>\n",
       "      <th>city</th>\n",
       "      <th>average_bill</th>\n",
       "      <th>rating</th>\n",
       "      <th>rubrics_id</th>\n",
       "      <th>features_id</th>\n",
       "    </tr>\n",
       "  </thead>\n",
       "  <tbody>\n",
       "    <tr>\n",
       "      <th>0</th>\n",
       "      <td>15903868628669802651</td>\n",
       "      <td>msk</td>\n",
       "      <td>1500.0</td>\n",
       "      <td>4.270968</td>\n",
       "      <td>30776 30774</td>\n",
       "      <td>3501685156 3501779478 20422 3502045016 3502045...</td>\n",
       "    </tr>\n",
       "    <tr>\n",
       "      <th>1</th>\n",
       "      <td>16076540698036998306</td>\n",
       "      <td>msk</td>\n",
       "      <td>500.0</td>\n",
       "      <td>4.375000</td>\n",
       "      <td>30771</td>\n",
       "      <td>1509 1082283206 273469383 10462 11617 35017794...</td>\n",
       "    </tr>\n",
       "    <tr>\n",
       "      <th>2</th>\n",
       "      <td>8129364761615040323</td>\n",
       "      <td>msk</td>\n",
       "      <td>500.0</td>\n",
       "      <td>4.000000</td>\n",
       "      <td>31495</td>\n",
       "      <td>10462 11177 11617 11629 1416 1018 11704 11867 ...</td>\n",
       "    </tr>\n",
       "    <tr>\n",
       "      <th>3</th>\n",
       "      <td>15262729117594253452</td>\n",
       "      <td>msk</td>\n",
       "      <td>500.0</td>\n",
       "      <td>4.538813</td>\n",
       "      <td>30776 30770</td>\n",
       "      <td>3501618484 2020795524 11629 11617 1018 11704 2...</td>\n",
       "    </tr>\n",
       "    <tr>\n",
       "      <th>4</th>\n",
       "      <td>13418544315327784420</td>\n",
       "      <td>msk</td>\n",
       "      <td>500.0</td>\n",
       "      <td>4.409091</td>\n",
       "      <td>31495</td>\n",
       "      <td>11617 10462 11177 1416 11867 3501744275 20282 ...</td>\n",
       "    </tr>\n",
       "  </tbody>\n",
       "</table>\n",
       "</div>"
      ],
      "text/plain": [
       "                 org_id  ...                                        features_id\n",
       "0  15903868628669802651  ...  3501685156 3501779478 20422 3502045016 3502045...\n",
       "1  16076540698036998306  ...  1509 1082283206 273469383 10462 11617 35017794...\n",
       "2   8129364761615040323  ...  10462 11177 11617 11629 1416 1018 11704 11867 ...\n",
       "3  15262729117594253452  ...  3501618484 2020795524 11629 11617 1018 11704 2...\n",
       "4  13418544315327784420  ...  11617 10462 11177 1416 11867 3501744275 20282 ...\n",
       "\n",
       "[5 rows x 6 columns]"
      ]
     },
     "execution_count": 25,
     "metadata": {},
     "output_type": "execute_result"
    }
   ],
   "source": [
    "data.head()"
   ]
  },
  {
   "cell_type": "markdown",
   "metadata": {
    "id": "GN9kZbURGH64"
   },
   "source": [
    "Полезно посмотреть внимательнее на то, с какими признаками нам предстоит работать.\n",
    "\n",
    "* **org_id** вам не понадобится;\n",
    "* **city** - город, в котором находится заведение (``msk`` или ``spb``);\n",
    "* **average_bill** - средний чек в заведении - он будет нашим таргетом;\n",
    "* **rating** - рейтинг заведения;\n",
    "* **rubrics_id** - тип заведения (или несколько типов). Соответствие кодов каким-то человекочитаемым типам живёт в табличке ``rubrics``\n",
    "* **features_id** - набор неких фичей заведения. Соответствие кодов каким-то человекочитаемым типам живёт в табличке ``features``\n",
    "\n",
    "Обратите внимание, что **rubrics_id** и **features_id** - это не списки, а разделённые пробелами строки. Когда вам захочется работать с отдельными фичами из мешка фичей для данного заведения, вам придётся всё-таки превратить их в списки (здесь поможет метод `split` для строк)."
   ]
  },
  {
   "cell_type": "markdown",
   "metadata": {
    "id": "J0IJIWz3GH64"
   },
   "source": [
    "Чтобы быстро восстанавливать по рубрикам и фичам их нормальные названия, сделайте словари вида ``код_фичи:название_фичи``"
   ]
  },
  {
   "cell_type": "code",
   "execution_count": 18,
   "metadata": {
    "execution": {
     "iopub.execute_input": "2025-07-29T07:23:16.879393Z",
     "iopub.status.busy": "2025-07-29T07:23:16.877862Z",
     "iopub.status.idle": "2025-07-29T07:23:16.891806Z",
     "shell.execute_reply": "2025-07-29T07:23:16.890900Z",
     "shell.execute_reply.started": "2025-07-29T07:23:16.879341Z"
    },
    "id": "8KwKEKr7GH65",
    "tags": []
   },
   "outputs": [],
   "source": [
    "rubric_dict = dict(zip(rubrics.rubric_id, rubrics.rubric_name))\n",
    "features_dict = dict(zip(features.feature_id, features.feature_name)) "
   ]
  },
  {
   "cell_type": "markdown",
   "metadata": {
    "id": "DNd4PkyQGH65"
   },
   "source": [
    "Посмотрим, какими бывают типы заведений:"
   ]
  },
  {
   "cell_type": "code",
   "execution_count": 20,
   "metadata": {
    "execution": {
     "iopub.execute_input": "2025-07-29T09:15:33.627032Z",
     "iopub.status.busy": "2025-07-29T09:15:33.625828Z",
     "iopub.status.idle": "2025-07-29T09:15:33.667522Z",
     "shell.execute_reply": "2025-07-29T09:15:33.666425Z",
     "shell.execute_reply.started": "2025-07-29T09:15:33.626977Z"
    },
    "id": "8WhaPPEeGH65",
    "outputId": "aaf9cc8c-64ae-4bac-d8f8-6dd4d03033d8",
    "tags": []
   },
   "outputs": [
    {
     "data": {
      "text/plain": [
       "1006"
      ]
     },
     "execution_count": 20,
     "metadata": {},
     "output_type": "execute_result"
    }
   ],
   "source": [
    "len(features_dict)"
   ]
  },
  {
   "cell_type": "markdown",
   "metadata": {
    "id": "qA6Bm_8EGH66"
   },
   "source": [
    "Мы что-то поняли про признаки, которыми нам предстоит пользоваться. Теперь время посмотреть на таргет. Вооружившись функциями ``hist`` и ``scatter`` из библиотеки ``matplotlib``, а также методом ``isna`` для pandas-таблиц разберитесь, какие значения принимают таргеты, есть ли там там выбросы, пропуски или ещё какие-то проблемы.\n",
    "\n",
    "&nbsp;\n",
    "\n",
    "<details>\n",
    "  <summary>Когда будете готовы, кликните сюда, чтобы посмотреть ответ</summary>\n",
    "    <ol>\n",
    "      <li>Среди таргетов довольно много пропусков;</li>\n",
    "      <li>Все таргеты - это числа, кратные 500;</li>\n",
    "      <li>Есть какие-то адские значения, превышающие 100 000 (видимо, выбросы);</li>\n",
    "      <li>В целом, число ресторанов с данным средним чеком быстро падает с ростом среднего чека. Для средних чеков, больших 2500, заведений уже совсем мало. Примерно у 2/3 заведений средний чек 500.</li>\n",
    "    </ol>\n",
    "</details>"
   ]
  },
  {
   "cell_type": "code",
   "execution_count": 36,
   "metadata": {
    "execution": {
     "iopub.execute_input": "2025-07-29T07:34:29.625640Z",
     "iopub.status.busy": "2025-07-29T07:34:29.624312Z",
     "iopub.status.idle": "2025-07-29T07:34:29.637729Z",
     "shell.execute_reply": "2025-07-29T07:34:29.636609Z",
     "shell.execute_reply.started": "2025-07-29T07:34:29.625588Z"
    }
   },
   "outputs": [],
   "source": [
    "pd.set_option('display.max_rows', 100)"
   ]
  },
  {
   "cell_type": "code",
   "execution_count": 46,
   "metadata": {
    "execution": {
     "iopub.execute_input": "2025-07-29T07:41:29.874262Z",
     "iopub.status.busy": "2025-07-29T07:41:29.873121Z",
     "iopub.status.idle": "2025-07-29T07:41:30.159623Z",
     "shell.execute_reply": "2025-07-29T07:41:30.158563Z",
     "shell.execute_reply.started": "2025-07-29T07:41:29.874213Z"
    },
    "tags": []
   },
   "outputs": [
    {
     "data": {
      "text/plain": [
       "<Axes: >"
      ]
     },
     "execution_count": 46,
     "metadata": {},
     "output_type": "execute_result"
    },
    {
     "data": {
      "image/png": "[encoded data removed]",
      "text/plain": [
       "<Figure size 640x480 with 1 Axes>"
      ]
     },
     "metadata": {},
     "output_type": "display_data"
    }
   ],
   "source": [
    "data.average_bill.hist(bins=range(500, 7000, 500))"
   ]
  },
  {
   "cell_type": "code",
   "execution_count": 40,
   "metadata": {
    "execution": {
     "iopub.execute_input": "2025-07-29T07:35:51.231781Z",
     "iopub.status.busy": "2025-07-29T07:35:51.230401Z",
     "iopub.status.idle": "2025-07-29T07:35:51.259516Z",
     "shell.execute_reply": "2025-07-29T07:35:51.258468Z",
     "shell.execute_reply.started": "2025-07-29T07:35:51.231733Z"
    },
    "id": "f6bg-kmIGH66",
    "outputId": "69beeb66-b7aa-4905-bc73-59a6ab27edf3",
    "scrolled": true,
    "tags": []
   },
   "outputs": [
    {
     "data": {
      "text/plain": [
       "[(500.0, 22329),\n",
       " (1000.0, 5482),\n",
       " (1500.0, 2696),\n",
       " (2000.0, 1184),\n",
       " (2500.0, 445),\n",
       " (3000.0, 242),\n",
       " (3500.0, 140),\n",
       " (4000.0, 67),\n",
       " (4500.0, 38),\n",
       " (5000.0, 31),\n",
       " (5500.0, 9),\n",
       " (6000.0, 16),\n",
       " (6500.0, 4),\n",
       " (7000.0, 7),\n",
       " (7500.0, 9),\n",
       " (8000.0, 5),\n",
       " (8500.0, 1),\n",
       " (9000.0, 7),\n",
       " (9500.0, 1),\n",
       " (10000.0, 7),\n",
       " (12000.0, 1),\n",
       " (12500.0, 3),\n",
       " (13500.0, 2),\n",
       " (15000.0, 3),\n",
       " (16500.0, 1),\n",
       " (17500.0, 1),\n",
       " (18500.0, 1),\n",
       " (19000.0, 3),\n",
       " (20000.0, 1),\n",
       " (21000.0, 2),\n",
       " (22000.0, 1),\n",
       " (23000.0, 3),\n",
       " (24000.0, 1),\n",
       " (24500.0, 2),\n",
       " (25500.0, 1),\n",
       " (26500.0, 1),\n",
       " (29500.0, 3),\n",
       " (30000.0, 1),\n",
       " (31500.0, 1),\n",
       " (36500.0, 1),\n",
       " (40000.0, 1),\n",
       " (41500.0, 2),\n",
       " (43000.0, 2),\n",
       " (45500.0, 1),\n",
       " (46000.0, 1),\n",
       " (49500.0, 1),\n",
       " (50500.0, 1),\n",
       " (57500.0, 1),\n",
       " (60000.0, 1),\n",
       " (62500.0, 1),\n",
       " (65500.0, 1),\n",
       " (68000.0, 1),\n",
       " (76000.0, 1),\n",
       " (88000.0, 1),\n",
       " (100000.0, 1),\n",
       " (101500.0, 1),\n",
       " (117000.0, 1),\n",
       " (152000.0, 1),\n",
       " (203500.0, 1),\n",
       " (246000.0, 1),\n",
       " (250000.0, 1),\n",
       " (500000.0, 1),\n",
       " (7502000.0, 1)]"
      ]
     },
     "execution_count": 40,
     "metadata": {},
     "output_type": "execute_result"
    }
   ],
   "source": [
    "vcs = data.average_bill.value_counts()\n",
    "\n",
    "sorted(vcs.items())"
   ]
  },
  {
   "cell_type": "markdown",
   "metadata": {
    "id": "trfl5F_4GH66"
   },
   "source": [
    "**Базовая очистка данных**\n",
    "\n",
    "Раз есть треш, давайте чистить данные.\n",
    "\n",
    "С пропусками можно бороться по-разному (даже и с пропусками в таргете), но пока мы сделаем самую простую вещь: дропнем все заведения, для которых мы не знаем средний чек.\n",
    "\n",
    "Уберите из них все заведения, у которых средний чек неизвестен или превышает 2500. Пока есть опасение, что их слишком мало, чтобы мы смогли обучить на них что-нибудь.\n",
    "\n",
    "**3. Введите в Контест количество заведений, которое у вас получилось после очистки**.\n",
    "\n",
    "Дальше мы будем работать с очищенными данными."
   ]
  },
  {
   "cell_type": "code",
   "execution_count": 56,
   "metadata": {
    "execution": {
     "iopub.execute_input": "2025-07-29T07:49:27.222121Z",
     "iopub.status.busy": "2025-07-29T07:49:27.220935Z",
     "iopub.status.idle": "2025-07-29T07:49:27.246859Z",
     "shell.execute_reply": "2025-07-29T07:49:27.245910Z",
     "shell.execute_reply.started": "2025-07-29T07:49:27.222083Z"
    },
    "tags": []
   },
   "outputs": [
    {
     "data": {
      "text/html": [
       "<div>\n",
       "<style scoped>\n",
       "    .dataframe tbody tr th:only-of-type {\n",
       "        vertical-align: middle;\n",
       "    }\n",
       "\n",
       "    .dataframe tbody tr th {\n",
       "        vertical-align: top;\n",
       "    }\n",
       "\n",
       "    .dataframe thead th {\n",
       "        text-align: right;\n",
       "    }\n",
       "</style>\n",
       "<table border=\"1\" class=\"dataframe\">\n",
       "  <thead>\n",
       "    <tr style=\"text-align: right;\">\n",
       "      <th></th>\n",
       "      <th>org_id</th>\n",
       "      <th>city</th>\n",
       "      <th>average_bill</th>\n",
       "      <th>rating</th>\n",
       "      <th>rubrics_id</th>\n",
       "      <th>features_id</th>\n",
       "    </tr>\n",
       "  </thead>\n",
       "  <tbody>\n",
       "  </tbody>\n",
       "</table>\n",
       "</div>"
      ],
      "text/plain": [
       "Empty DataFrame\n",
       "Columns: [org_id, city, average_bill, rating, rubrics_id, features_id]\n",
       "Index: []"
      ]
     },
     "execution_count": 56,
     "metadata": {},
     "output_type": "execute_result"
    }
   ],
   "source": [
    "t = data[data.average_bill.isna()]\n",
    "t[t.average_bill > 2500]"
   ]
  },
  {
   "cell_type": "code",
   "execution_count": 7,
   "metadata": {
    "execution": {
     "iopub.execute_input": "2025-07-29T10:19:36.698233Z",
     "iopub.status.busy": "2025-07-29T10:19:36.696770Z",
     "iopub.status.idle": "2025-07-29T10:19:36.868584Z",
     "shell.execute_reply": "2025-07-29T10:19:36.867563Z",
     "shell.execute_reply.started": "2025-07-29T10:19:36.698181Z"
    },
    "id": "OxIkRsA1GH67",
    "tags": []
   },
   "outputs": [
    {
     "data": {
      "text/plain": [
       "32136"
      ]
     },
     "execution_count": 7,
     "metadata": {},
     "output_type": "execute_result"
    }
   ],
   "source": [
    "\n"
   ]
  },
  {
   "cell_type": "markdown",
   "metadata": {
    "id": "GsNzGAp1GH67"
   },
   "source": [
    "**4. Посчитайте и введите в Контест разность между средними арифметическими average_bill в кафе Москвы и Санкт-Петербурга. Округлите ответ до целого.**\n",
    "\n",
    "&nbsp;\n",
    "\n",
    "<details>\n",
    "  <summary>Небольшая подсказка</summary>\n",
    "  Примените часто используемый метод groupby.\n",
    "</details>"
   ]
  },
  {
   "cell_type": "code",
   "execution_count": 8,
   "metadata": {
    "execution": {
     "iopub.execute_input": "2025-07-29T10:19:38.727558Z",
     "iopub.status.busy": "2025-07-29T10:19:38.725885Z",
     "iopub.status.idle": "2025-07-29T10:19:38.823687Z",
     "shell.execute_reply": "2025-07-29T10:19:38.822578Z",
     "shell.execute_reply.started": "2025-07-29T10:19:38.727500Z"
    },
    "id": "gLdl3zVCGH67",
    "tags": []
   },
   "outputs": [
    {
     "data": {
      "text/plain": [
       "142.40368719534695"
      ]
     },
     "execution_count": 8,
     "metadata": {},
     "output_type": "execute_result"
    }
   ],
   "source": [
    "cafe_data = cleaned_data[cleaned_data.rubrics_id.str.contains('30774')]\n",
    "\n",
    "cafe_data[cafe_data.city == 'msk'].average_bill.mean() - \\\n",
    "cafe_data[cafe_data.city == 'spb'].average_bill.mean()"
   ]
  },
  {
   "cell_type": "code",
   "execution_count": 9,
   "metadata": {
    "execution": {
     "iopub.execute_input": "2025-07-29T10:19:40.642369Z",
     "iopub.status.busy": "2025-07-29T10:19:40.640790Z",
     "iopub.status.idle": "2025-07-29T10:19:40.694752Z",
     "shell.execute_reply": "2025-07-29T10:19:40.693640Z",
     "shell.execute_reply.started": "2025-07-29T10:19:40.642314Z"
    },
    "tags": []
   },
   "outputs": [],
   "source": [
    "msk_data = cleaned_data[cleaned_data.city == 'msk'].average_bill\n",
    "spb_data = cleaned_data[cleaned_data.city == 'spb'].average_bill"
   ]
  },
  {
   "cell_type": "code",
   "execution_count": 14,
   "metadata": {
    "execution": {
     "iopub.execute_input": "2025-07-29T10:21:14.164182Z",
     "iopub.status.busy": "2025-07-29T10:21:14.162927Z",
     "iopub.status.idle": "2025-07-29T10:21:14.193288Z",
     "shell.execute_reply": "2025-07-29T10:21:14.192238Z",
     "shell.execute_reply.started": "2025-07-29T10:21:14.164129Z"
    },
    "tags": []
   },
   "outputs": [],
   "source": [
    "from scipy.stats import mannwhitneyu\n",
    "U1, p = mannwhitneyu(pub_data, rest_data, method=\"asymptotic\")"
   ]
  },
  {
   "cell_type": "code",
   "execution_count": 15,
   "metadata": {
    "execution": {
     "iopub.execute_input": "2025-07-29T10:21:16.456163Z",
     "iopub.status.busy": "2025-07-29T10:21:16.454621Z",
     "iopub.status.idle": "2025-07-29T10:21:16.483075Z",
     "shell.execute_reply": "2025-07-29T10:21:16.481912Z",
     "shell.execute_reply.started": "2025-07-29T10:21:16.456110Z"
    },
    "tags": []
   },
   "outputs": [
    {
     "name": "stdout",
     "output_type": "stream",
     "text": [
      "22899216.0\n",
      "2.062321913206694e-83\n"
     ]
    }
   ],
   "source": [
    "print(U1)\n",
    "print(p)"
   ]
  },
  {
   "cell_type": "code",
   "execution_count": 13,
   "metadata": {
    "execution": {
     "iopub.execute_input": "2025-07-29T10:21:05.257010Z",
     "iopub.status.busy": "2025-07-29T10:21:05.255818Z",
     "iopub.status.idle": "2025-07-29T10:21:05.305207Z",
     "shell.execute_reply": "2025-07-29T10:21:05.304126Z",
     "shell.execute_reply.started": "2025-07-29T10:21:05.256958Z"
    },
    "tags": []
   },
   "outputs": [
    {
     "name": "stdout",
     "output_type": "stream",
     "text": [
      "814.2432556012803\n",
      "995.471580262336\n"
     ]
    }
   ],
   "source": [
    "pub_data = cleaned_data[cleaned_data.rubrics_id.str.contains('30770')].average_bill\n",
    "rest_data = cleaned_data[cleaned_data.rubrics_id.str.contains('30776')].average_bill\n",
    "\n",
    "print(pub_data.mean())\n",
    "print(rest_data.mean())"
   ]
  },
  {
   "cell_type": "code",
   "execution_count": 17,
   "metadata": {
    "execution": {
     "iopub.execute_input": "2025-07-29T10:24:24.583477Z",
     "iopub.status.busy": "2025-07-29T10:24:24.582478Z",
     "iopub.status.idle": "2025-07-29T10:24:24.953643Z",
     "shell.execute_reply": "2025-07-29T10:24:24.952515Z",
     "shell.execute_reply.started": "2025-07-29T10:24:24.583426Z"
    },
    "tags": []
   },
   "outputs": [
    {
     "data": {
      "text/plain": [
       "<Axes: title={'center': 'rating'}, xlabel='average_bill'>"
      ]
     },
     "execution_count": 17,
     "metadata": {},
     "output_type": "execute_result"
    },
    {
     "data": {
      "image/png": "[encoded data removed]",
      "text/plain": [
       "<Figure size 640x480 with 1 Axes>"
      ]
     },
     "metadata": {},
     "output_type": "display_data"
    }
   ],
   "source": [
    "cleaned_data.boxplot(by='average_bill', column='rating')"
   ]
  },
  {
   "cell_type": "markdown",
   "metadata": {
    "id": "Qncnmi8bGH7F"
   },
   "source": [
    "Давайте ещё немного поизучаем данные. Ответьте на вопросы:\n",
    "\n",
    "1. Есть ли разница между средними чеками в Москве и Санкт-Петербурге?\n",
    "2. Коррелирует ли средний чек с рейтингом?\n",
    "3. Есть ли разница в среднем чеке между ресторанами и пабами (см. соответствующие типы из ``rubrics``)?\n",
    "\n",
    "&nbsp;\n",
    "\n",
    "<details>\n",
    "  <summary>Когда будете готовы, кликните сюда, чтобы посмотреть ответ</summary>\n",
    "    <ol>\n",
    "      <li>В целом, да. Вы могли бы сравнить средние (в Москве больше) или медианы (они равны, потому что уж больно много где средний чек 500). Этого, конечно, мало для того, чтобы сделать вывод. Нужно проверять какие-то статические критерии, которые изучаются в курсе по статистике. Не будем останавливаться на этом подробно. Поскольку данные совсем не нормальные, никакой t-тест не сработает; мы бы предложили использовать критерий Манна-Уитни (см. википедию и функцию mannwhitneyu из библиотеки scipy.stats).</li>\n",
    "      <li>Какая-то корреляция между ними есть но уж больно неубедительная (рекомендуем построим на одном графике boxplot рейтинга по каждому значению среднего чека для визуализации). Конечно, дна становится меньше с ростом среднего чека, но, видимо, в предсказании это особо не используешь;</li>\n",
    "      <li>Несомненно, в ресторанах средний чек выше. Это и невооружённым глазом видно, и с помощью критерия Манна-Уитни можно проверить.</li>\n",
    "    </ol>\n",
    "</details>"
   ]
  },
  {
   "cell_type": "markdown",
   "metadata": {
    "id": "ATY5075lGH7F"
   },
   "source": [
    "## Формулируем задачу"
   ]
  },
  {
   "cell_type": "markdown",
   "metadata": {
    "id": "znpEgJGIGH7F"
   },
   "source": [
    "Прежде, чем решать задачу, её надо сформулировать.\n",
    "\n",
    "**Вопрос первый**: это классификация или регрессия? Подумайте над этим.\n",
    "\n",
    "&nbsp;\n",
    "\n",
    "<details>\n",
    "  <summary>Когда будете готовы, кликните сюда, чтобы посмотреть ответ</summary>\n",
    "    Ответ не столь однозначен, как хотелось бы. С одной стороны, таргет принимает всего четыре значения, и потому это может быть классификацией с 4 классами. С другой стороны, таргеты - это не абстрактные \"треугольник\", \"круг\", \"квадрат\", а вещественные числа, и когда мы вместо 500 предсказываем 2500, это явно хуже, чем вместо 1500 предсказать 2000. В целом, задачу можно решать и так, и так; мы будем смотреть на метрики обеих задач.\n",
    "</details>"
   ]
  },
  {
   "cell_type": "markdown",
   "metadata": {
    "id": "aaVuazxsGH7G"
   },
   "source": [
    "**Вопрос второй**: какие метрики мы будем использовать для оценки качества решения? Какие метрики вы предложили бы для этой задачи как для задачи классификации? А для этой задачи, как для задачи регрессии?\n",
    "\n",
    "&nbsp;\n",
    "\n",
    "<details>\n",
    "  <summary>Когда будете готовы, кликните сюда, чтобы посмотреть ответ</summary>\n",
    "    \n",
    "    Начнём с классификации. Метрика accuracy не очень хороша из-за несбалансированности классов. Действительно, классификатор, который всегда говорит 500, будет иметь accuracy примерно 0.66, хотя это никак не отражает практическую ценность модели. Как мы увидим, самая большая проблема будет заключаться в том, чтобы научиться выделять заведения с большими чеками, а их меньше всего и в accuracy они вносят самый маленький вклад. Есть разные способы с этим бороться, один -- использовать sklearn.metrics.balanced_accuracy_score. Его идея, грубо говоря, в том, чтобы по каждому классу найти, какая доля объектов этого класса правильно классифицирована, а потом эти доли усреднить. Тогда у бессмысленного классификатора, который всем ставит 500, будет скор 1/5 (ведь классов 5), а чтобы получить прежние 2/3, нужно будет научиться в каждом классе правильно ставить хотя бы 2/3 меток.    \n",
    "    \n",
    "    Теперь что касается регрессии. Основых метрики две - MSE и MAE. Из первой стоит извлекать корень, чтобы получать интерпретируемые человеком значения, а вторая менее агрессивна к выбросам (впрочем, выбросов тут уже нет, мы их все выкинули). Без дополнительной информации не очень понятно, какую выбирать, можно брать любую. А выбирать надо: ведь даже банальные модели \"предсказывай всегда среднее\" и \"предсказывай всегда медиану\" будут по-разному ранжироваться этими метриками.\n",
    "    \n",
    "</details>"
   ]
  },
  {
   "cell_type": "markdown",
   "metadata": {
    "id": "vs-jkCj-GH7G"
   },
   "source": [
    "**Вопрос третий**: а не взять ли нам какую-нибудь более экзотическую метрику? Например, MAPE (определение в учебнике в главе про оценку качества моделей). А как вам такое соображение: допустим, заказчик говорит, что пользователи будут расстраиваться, только если мы завысили средний чек - так давайте поправим MSE или MAE, обнуляя те слагаемые, для которых предсказанный таргет меньше истинного. Вот это хорошая метрика или нет?\n",
    "\n",
    "&nbsp;\n",
    "\n",
    "<details>\n",
    "  <summary>Когда будете готовы, кликните сюда, чтобы посмотреть ответ</summary>\n",
    "    \n",
    "    Что касается MAPE, у нас нет тех проблем, с которой она борется. Вот если бы у нас были средние чеки от 500 до миллиона, мы бы столкнулись с ситуацией, что большие ошибки для больших чеков доминировали бы в сумме для MSE и MAE (500 вместо 1000 меркнет по сравнению с 500к вместо миллиона). Говоря поэтически, мы бы оптимизировали модель для миллионеров, забыв про простых трудяг. И было бы логично перейти от парадигмы \"ошибаемся на 500 рублей\" к парадигме \"ошибаемся на 50%\". Но у нас все таргеты примерно одного порядка, MAPE нам особо ни к чему.\n",
    "    \n",
    "    Вторая метрика коварна тем, что её можно \"накрутить\" безо всякой пользы для дела. А именно, модель, которая всегда предсказывает средний чек в миллион, была бы идеальна. Но все бы расстраивались и не ходили есть. Другое дело, что можно ввести разные веса для ошибок в большую и в меньшую сторону, но опять же - пока нет показаний к тому, что это нужно.\n",
    "    \n",
    "</details>"
   ]
  },
  {
   "cell_type": "markdown",
   "metadata": {
    "id": "VCjV_SoAGH7G"
   },
   "source": [
    "## Применяем ML"
   ]
  },
  {
   "cell_type": "markdown",
   "metadata": {
    "id": "lqkvcLSPGH7G"
   },
   "source": [
    "Теперь время разбить данные на обучающую и тестовую выборку. Делается это с помощью функции ``train_test_split`` из пакета ``sklearn``. При этом очень важно сделать две вещи:\n",
    "\n",
    "* Зафиксировать ``random_state=42`` (да, именно этот, а то ваши модели могут не зайти в Контест), чтобы всё, что мы делаем, было воспроизводимо (иначе от перезапуска к перезапуску числа могут меняться, и мы не будем понимать, из-за чего это происходит).\n",
    "* Сделать стратификацию по таргету. В противном случае у нас в трейне и тесте могут оказаться разные пропорции классов (обычно особенно страдают мало представленные классы), что неутешительно скажется на результате.\n",
    "\n",
    "**Обратите внимание**, что если вы побьёте выборку на train и test по-другому, ваши результаты могут не зайти в контест."
   ]
  },
  {
   "cell_type": "code",
   "execution_count": 19,
   "metadata": {
    "execution": {
     "iopub.execute_input": "2025-07-29T10:37:26.663012Z",
     "iopub.status.busy": "2025-07-29T10:37:26.661510Z",
     "iopub.status.idle": "2025-07-29T10:37:26.727442Z",
     "shell.execute_reply": "2025-07-29T10:37:26.726376Z",
     "shell.execute_reply.started": "2025-07-29T10:37:26.662960Z"
    }
   },
   "outputs": [],
   "source": [
    "clean_data = cleaned_data.copy()"
   ]
  },
  {
   "cell_type": "code",
   "execution_count": 20,
   "metadata": {
    "execution": {
     "iopub.execute_input": "2025-07-29T10:37:28.890779Z",
     "iopub.status.busy": "2025-07-29T10:37:28.889402Z",
     "iopub.status.idle": "2025-07-29T10:37:28.926048Z",
     "shell.execute_reply": "2025-07-29T10:37:28.924901Z",
     "shell.execute_reply.started": "2025-07-29T10:37:28.890737Z"
    },
    "id": "AF2IVpOjGH7H",
    "tags": []
   },
   "outputs": [],
   "source": [
    "clean_data = cleaned_data.copy()\n",
    "\n",
    "clean_data_train, clean_data_test = train_test_split(\n",
    "    clean_data, stratify=clean_data['average_bill'], test_size=0.33, random_state=42)"
   ]
  },
  {
   "cell_type": "markdown",
   "metadata": {
    "id": "S161veFJGH7H"
   },
   "source": [
    "Теперь нам нужен **бейзлайн** - очень простая модель, с которой мы в дальнейшем будем сравниваться.\n",
    "\n",
    "Поскольку мы ещё не знаем никаких умных классов моделей, все модели мы будем писать руками. А именно, мы напишем две простых модели на основе ``sklearn.baseRegressorMixin`` и ``sklearn.base.ClassifierMixin`` (посмотрите примеры в документации sklearn и сделайте так же):\n",
    "\n",
    "* Модель для задачи регрессии, которая для всех заведений предсказывает одно число — среднее значение среднего чека;\n",
    "* Модель для задачи классификации, которая для всех заведений предсказывает один класс — самый частый класс (ироничным образом он в данном случае совпадает с медианой).\n",
    "\n",
    "**Важно!** Мы будем много раз повторять вам мантру о том, что **информация из тестовой выборки не должна протекать в процесс обучения**. Так вот, и среднее, и самый частый класс вы должны считать именно на обучающей выборке!\n",
    "\n",
    "**5 и 6. Напишите эти две модели и сдайте в Контест**. В процессе проверки модели будут и обучаться, и предсказывать.\n",
    "\n",
    "Заметим, что для этих моделей нам вообще не нужны какие-то \"фичи\"; мы работаем только с таргетом.\n",
    "\n",
    "У каждой модели есть (как минимум) два метода: `fit` (обучает модель по фичам `X` и таргету `y`) `predict` (предсказывает по фичам `X`)"
   ]
  },
  {
   "cell_type": "code",
   "execution_count": 50,
   "metadata": {
    "execution": {
     "iopub.execute_input": "2025-07-29T11:16:03.487121Z",
     "iopub.status.busy": "2025-07-29T11:16:03.485750Z",
     "iopub.status.idle": "2025-07-29T11:16:03.513664Z",
     "shell.execute_reply": "2025-07-29T11:16:03.512616Z",
     "shell.execute_reply.started": "2025-07-29T11:16:03.487068Z"
    },
    "id": "lLz_sxtUGH7H",
    "tags": []
   },
   "outputs": [],
   "source": [
    "from scipy.stats import mode\n",
    "\n",
    "from sklearn.base import RegressorMixin\n",
    "\n",
    "class MeanRegressor(RegressorMixin):\n",
    "    \n",
    "    # Predicts the mean of y_train\n",
    "    def fit(self, X=None, y=None):\n",
    "        '''\n",
    "        Parameters\n",
    "        ----------\n",
    "        X : array like, shape = (n_samples, n_features)\n",
    "        Training data features\n",
    "        y : array like, shape = (_samples,)\n",
    "        Training data targets\n",
    "        '''\n",
    "        m = len(X)\n",
    "        self.mean = pd.Series(y.mean(), index=range(m))\n",
    "\n",
    "    def predict(self, X=None):\n",
    "        '''\n",
    "        Parameters\n",
    "        ----------\n",
    "        X : array like, shape = (n_samples, n_features)\n",
    "        Data to predict\n",
    "        '''\n",
    "        m = len(X)\n",
    "        return pd.Series(self.mean, index=range(m))\n",
    "\n",
    "from sklearn.base import ClassifierMixin\n",
    "\n",
    "def most_frequent(nums):\n",
    "    \"\"\"\n",
    "    Find the most frequent value in an array\n",
    "    :param nums: array of ints\n",
    "    :return: the most frequent value\n",
    "    \"\"\"\n",
    "    d = {}\n",
    "    for i in nums:\n",
    "        if i in d:\n",
    "            d[i] += 1\n",
    "        else:\n",
    "            d[i] = 1\n",
    "            \n",
    "    m = 0\n",
    "    m_key = 0 \n",
    "    for k, v in d.items():\n",
    "        if v > m:\n",
    "            m = v\n",
    "            m_key = k\n",
    "    \n",
    "    return m_key\n",
    "\n",
    "class MostFrequentClassifier(ClassifierMixin):\n",
    "    # Predicts the rounded (just in case) median of y_train\n",
    "    def fit(self, X=None, y=None):\n",
    "        '''\n",
    "        Parameters\n",
    "        ----------\n",
    "        X : array like, shape = (n_samples, n_features)\n",
    "        Training data features\n",
    "        y : array like, shape = (_samples,)\n",
    "        Training data targets\n",
    "        '''\n",
    "        self.most_freq = most_frequent(y)\n",
    "\n",
    "    def predict(self, X=None):\n",
    "        '''\n",
    "        Parameters\n",
    "        ----------\n",
    "        X : array like, shape = (n_samples, n_features)\n",
    "        Data to predict\n",
    "        '''\n",
    "        m = X.shape[0]\n",
    "        return pd.Series(self.most_freq, index=range(m))"
   ]
  },
  {
   "cell_type": "markdown",
   "metadata": {
    "id": "lo2pNhVoGH7I"
   },
   "source": [
    "Обучим наши модели"
   ]
  },
  {
   "cell_type": "code",
   "execution_count": 49,
   "metadata": {
    "execution": {
     "iopub.execute_input": "2025-07-29T11:09:04.474089Z",
     "iopub.status.busy": "2025-07-29T11:09:04.472931Z",
     "iopub.status.idle": "2025-07-29T11:09:04.554678Z",
     "shell.execute_reply": "2025-07-29T11:09:04.553700Z",
     "shell.execute_reply.started": "2025-07-29T11:09:04.474045Z"
    },
    "tags": []
   },
   "outputs": [
    {
     "name": "stderr",
     "output_type": "stream",
     "text": [
      "/tmp/ipykernel_6208/3069890745.py:1: FutureWarning: Unlike other reduction functions (e.g. `skew`, `kurtosis`), the default behavior of `mode` typically preserves the axis it acts along. In SciPy 1.11.0, this behavior will change: the default value of `keepdims` will become False, the `axis` over which the statistic is taken will be eliminated, and the value None will no longer be accepted. Set `keepdims` to True or False to avoid this warning.\n",
      "  mode([1 , 1, 2, 2, 3])\n"
     ]
    },
    {
     "data": {
      "text/plain": [
       "ModeResult(mode=array([1]), count=array([2]))"
      ]
     },
     "execution_count": 49,
     "metadata": {},
     "output_type": "execute_result"
    }
   ],
   "source": [
    "mode([1 , 1, 2, 2, 3])"
   ]
  },
  {
   "cell_type": "code",
   "execution_count": 51,
   "metadata": {
    "execution": {
     "iopub.execute_input": "2025-07-29T11:16:06.442938Z",
     "iopub.status.busy": "2025-07-29T11:16:06.441659Z",
     "iopub.status.idle": "2025-07-29T11:16:06.491438Z",
     "shell.execute_reply": "2025-07-29T11:16:06.490347Z",
     "shell.execute_reply.started": "2025-07-29T11:16:06.442887Z"
    },
    "id": "arXlaGnTGH7I",
    "tags": []
   },
   "outputs": [],
   "source": [
    "reg = MeanRegressor()\n",
    "reg.fit(X=clean_data_train, y=clean_data_train['average_bill'])\n",
    "\n",
    "clf = MostFrequentClassifier()\n",
    "clf.fit(X=clean_data_train, y=clean_data_train['average_bill'])"
   ]
  },
  {
   "cell_type": "code",
   "execution_count": 27,
   "metadata": {
    "execution": {
     "iopub.execute_input": "2025-07-29T10:51:12.723570Z",
     "iopub.status.busy": "2025-07-29T10:51:12.722278Z",
     "iopub.status.idle": "2025-07-29T10:51:12.744469Z",
     "shell.execute_reply": "2025-07-29T10:51:12.743250Z",
     "shell.execute_reply.started": "2025-07-29T10:51:12.723519Z"
    }
   },
   "outputs": [
    {
     "data": {
      "text/plain": [
       "pandas.core.series.Series"
      ]
     },
     "execution_count": 27,
     "metadata": {},
     "output_type": "execute_result"
    }
   ],
   "source": [
    "type(clean_data_train['average_bill'])"
   ]
  },
  {
   "cell_type": "code",
   "execution_count": 45,
   "metadata": {
    "execution": {
     "iopub.execute_input": "2025-07-29T10:59:18.320608Z",
     "iopub.status.busy": "2025-07-29T10:59:18.319079Z",
     "iopub.status.idle": "2025-07-29T10:59:18.345275Z",
     "shell.execute_reply": "2025-07-29T10:59:18.344171Z",
     "shell.execute_reply.started": "2025-07-29T10:59:18.320553Z"
    },
    "tags": []
   },
   "outputs": [
    {
     "data": {
      "text/plain": [
       "201344.60285540455"
      ]
     },
     "execution_count": 45,
     "metadata": {},
     "output_type": "execute_result"
    }
   ],
   "source": [
    "from sklearn.metrics import mean_squared_error \n",
    "yp = reg.predict(clean_data_test)\n",
    "mean_squared_error(yp, clean_data_test['average_bill'])"
   ]
  },
  {
   "cell_type": "code",
   "execution_count": 52,
   "metadata": {
    "execution": {
     "iopub.execute_input": "2025-07-29T11:16:17.661417Z",
     "iopub.status.busy": "2025-07-29T11:16:17.660116Z",
     "iopub.status.idle": "2025-07-29T11:16:17.695504Z",
     "shell.execute_reply": "2025-07-29T11:16:17.694388Z",
     "shell.execute_reply.started": "2025-07-29T11:16:17.661363Z"
    },
    "tags": []
   },
   "outputs": [
    {
     "data": {
      "text/plain": [
       "0.2"
      ]
     },
     "execution_count": 52,
     "metadata": {},
     "output_type": "execute_result"
    }
   ],
   "source": [
    "from sklearn.metrics import balanced_accuracy_score \n",
    "yp = clf.predict(clean_data_test)\n",
    "balanced_accuracy_score( clean_data_test['average_bill'], yp)"
   ]
  },
  {
   "cell_type": "code",
   "execution_count": 53,
   "metadata": {
    "execution": {
     "iopub.execute_input": "2025-07-29T11:16:19.696607Z",
     "iopub.status.busy": "2025-07-29T11:16:19.695255Z",
     "iopub.status.idle": "2025-07-29T11:16:19.712911Z",
     "shell.execute_reply": "2025-07-29T11:16:19.711933Z",
     "shell.execute_reply.started": "2025-07-29T11:16:19.696564Z"
    },
    "tags": []
   },
   "outputs": [
    {
     "data": {
      "text/plain": [
       "264969.35407826497"
      ]
     },
     "execution_count": 53,
     "metadata": {},
     "output_type": "execute_result"
    }
   ],
   "source": [
    "from sklearn.metrics import mean_squared_error \n",
    "yp = clf.predict(clean_data_test)\n",
    "mean_squared_error(yp, clean_data_test['average_bill'])"
   ]
  },
  {
   "cell_type": "markdown",
   "metadata": {
    "id": "jJG8x0tmGH7I"
   },
   "source": [
    "Обучите модели и оцените их качество на тестовой выборке. В качестве метрик возьмём RMSE (``np.sqrt`` от ``sklearn.metrics.mean_squared_error``) и ``sklearn.metrics.balanced_accuracy_score``.\n",
    "\n",
    "Для регрессионной модели имеет смысл считать только RMSE (значения будут не кратны 500, точно мы угадывать не будем никогда), а вот для классификационной можно найти обе метрики. Сделайте это. Какая модель оказалась лучше по RMSE?"
   ]
  },
  {
   "cell_type": "markdown",
   "metadata": {
    "id": "kvZwp54sGH7J"
   },
   "source": [
    "<details>\n",
    "  <summary>Когда будете готовы, кликните сюда</summary>\n",
    "    \n",
    "  Казалось бы, регрессор никогда не угадывает, но он в каком-то смысле лучше классификатора - справедливо ли это? Возможно. Несуществующий пользователь модели вряд ли будет задавать вопросы \"почему средний чек не кратен 500?\" Ну, выдали около 800 - ок, понятно.\n",
    "    \n",
    "</details>"
   ]
  },
  {
   "cell_type": "markdown",
   "metadata": {
    "id": "V-1-O9GyGH7J"
   },
   "source": [
    "## Усложнение модели"
   ]
  },
  {
   "cell_type": "markdown",
   "metadata": {
    "id": "dGWgxl0VGH7J"
   },
   "source": [
    "Бейзлайны будут нашей отправной точкой. Строя дальнейшие модели, мы будем спрашивать себя: получилось ли лучше бейзлайна? Если нет или если не особо, то в чём смысл усложнения?"
   ]
  },
  {
   "cell_type": "markdown",
   "metadata": {
    "id": "9w3DkuuFGH7K"
   },
   "source": [
    "Начнём с использования фичи ``city``. Мы уже видели, что в разных городах и средние чеки разные. Легко проверить, что *медиана* средних чеков всё же одна и та же и в Москве, и в Санкт-Петербурге (ох уж этот вездесущий средний чек 500!), поэтому с классификатором мы ничего не сделаем. Но вот регрессор можно попробовать починить.\n",
    "\n",
    "**7. Напишите регрессор, для каждого заведения предсказывающий среднее значение в том же городе (на обучающей выборке, конечно) и сдайте его в Контест**. Вам может помочь то, что булевы `pandas` и `numpy` столбцы можно умножать на численные — в такой ситуации False работает, как ноль, а True как единица."
   ]
  },
  {
   "cell_type": "code",
   "execution_count": 19,
   "metadata": {
    "execution": {
     "iopub.execute_input": "2025-07-30T03:27:55.425513Z",
     "iopub.status.busy": "2025-07-30T03:27:55.424599Z",
     "iopub.status.idle": "2025-07-30T03:27:55.449047Z",
     "shell.execute_reply": "2025-07-30T03:27:55.447892Z",
     "shell.execute_reply.started": "2025-07-30T03:27:55.425464Z"
    },
    "tags": []
   },
   "outputs": [],
   "source": [
    "from sklearn.base import RegressorMixin\n",
    "import pandas as pd\n",
    "\n",
    "class CityMeanRegressor(RegressorMixin):\n",
    "    def fit(self, X=None, y=None):\n",
    "        self.cities_dict = X.join(y).groupby(['city'])['average_bill'].mean().to_dict()\n",
    "\n",
    "    def predict(self, X=None):\n",
    "        return X['city'].map(self.cities_dict)"
   ]
  },
  {
   "cell_type": "code",
   "execution_count": 2,
   "metadata": {
    "execution": {
     "iopub.execute_input": "2025-07-31T10:42:35.023810Z",
     "iopub.status.busy": "2025-07-31T10:42:35.022604Z",
     "iopub.status.idle": "2025-07-31T10:42:38.355019Z",
     "shell.execute_reply": "2025-07-31T10:42:38.354020Z",
     "shell.execute_reply.started": "2025-07-31T10:42:35.023762Z"
    },
    "tags": []
   },
   "outputs": [],
   "source": [
    "import pandas as pd\n",
    "import numpy as np\n",
    "\n",
    "from sklearn.model_selection import train_test_split\n",
    "from sklearn.metrics import mean_squared_error \n",
    "\n",
    "base = ''\n",
    "data = pd.read_csv(base + 'organisations.csv')\n",
    "features = pd.read_csv(base + 'features.csv')\n",
    "rubrics = pd.read_csv(base + 'rubrics.csv')\n",
    "cleaned_data = data[data.average_bill <= 2500]\n",
    "\n",
    "clean_data = cleaned_data.copy()\n",
    "clean_data_train, clean_data_test = train_test_split(\n",
    "    clean_data, stratify=clean_data['average_bill'], test_size=0.33, random_state=42)"
   ]
  },
  {
   "cell_type": "code",
   "execution_count": 8,
   "metadata": {
    "execution": {
     "iopub.execute_input": "2025-07-30T03:22:34.645449Z",
     "iopub.status.busy": "2025-07-30T03:22:34.644044Z",
     "iopub.status.idle": "2025-07-30T03:22:34.818981Z",
     "shell.execute_reply": "2025-07-30T03:22:34.817745Z",
     "shell.execute_reply.started": "2025-07-30T03:22:34.645392Z"
    },
    "tags": []
   },
   "outputs": [
    {
     "data": {
      "text/html": [
       "<div>\n",
       "<style scoped>\n",
       "    .dataframe tbody tr th:only-of-type {\n",
       "        vertical-align: middle;\n",
       "    }\n",
       "\n",
       "    .dataframe tbody tr th {\n",
       "        vertical-align: top;\n",
       "    }\n",
       "\n",
       "    .dataframe thead th {\n",
       "        text-align: right;\n",
       "    }\n",
       "</style>\n",
       "<table border=\"1\" class=\"dataframe\">\n",
       "  <thead>\n",
       "    <tr style=\"text-align: right;\">\n",
       "      <th></th>\n",
       "      <th>org_id</th>\n",
       "      <th>city</th>\n",
       "      <th>average_bill</th>\n",
       "      <th>rating</th>\n",
       "      <th>rubrics_id</th>\n",
       "      <th>features_id</th>\n",
       "    </tr>\n",
       "  </thead>\n",
       "  <tbody>\n",
       "    <tr>\n",
       "      <th>45769</th>\n",
       "      <td>3276960721840719260</td>\n",
       "      <td>msk</td>\n",
       "      <td>500.0</td>\n",
       "      <td>4.500000</td>\n",
       "      <td>30770</td>\n",
       "      <td>11704 20422 1018 11177 1416 11867 10462</td>\n",
       "    </tr>\n",
       "    <tr>\n",
       "      <th>39061</th>\n",
       "      <td>8452997364765928283</td>\n",
       "      <td>msk</td>\n",
       "      <td>1500.0</td>\n",
       "      <td>4.442623</td>\n",
       "      <td>30774 30776</td>\n",
       "      <td>1415 3501481355 1416 11629 10462 1524 20422 11...</td>\n",
       "    </tr>\n",
       "    <tr>\n",
       "      <th>59281</th>\n",
       "      <td>14240408259222214074</td>\n",
       "      <td>spb</td>\n",
       "      <td>1000.0</td>\n",
       "      <td>4.018868</td>\n",
       "      <td>30776 30774</td>\n",
       "      <td>3502045032 11741 3502045016 10462 11704 350177...</td>\n",
       "    </tr>\n",
       "    <tr>\n",
       "      <th>51225</th>\n",
       "      <td>15114069072602161053</td>\n",
       "      <td>msk</td>\n",
       "      <td>1500.0</td>\n",
       "      <td>4.364742</td>\n",
       "      <td>31401 30776</td>\n",
       "      <td>3501513153 3501779478 3491142672 273469383 350...</td>\n",
       "    </tr>\n",
       "    <tr>\n",
       "      <th>29587</th>\n",
       "      <td>2730337118800634815</td>\n",
       "      <td>msk</td>\n",
       "      <td>1000.0</td>\n",
       "      <td>4.698718</td>\n",
       "      <td>30770</td>\n",
       "      <td>21247 10896 3491142672 11629 3501481353 350148...</td>\n",
       "    </tr>\n",
       "    <tr>\n",
       "      <th>...</th>\n",
       "      <td>...</td>\n",
       "      <td>...</td>\n",
       "      <td>...</td>\n",
       "      <td>...</td>\n",
       "      <td>...</td>\n",
       "      <td>...</td>\n",
       "    </tr>\n",
       "    <tr>\n",
       "      <th>64667</th>\n",
       "      <td>15641319025413596274</td>\n",
       "      <td>msk</td>\n",
       "      <td>500.0</td>\n",
       "      <td>4.510753</td>\n",
       "      <td>30771</td>\n",
       "      <td>20424 3501744275 273469383 10462 11177 11617 1...</td>\n",
       "    </tr>\n",
       "    <tr>\n",
       "      <th>47309</th>\n",
       "      <td>2049892259403324519</td>\n",
       "      <td>msk</td>\n",
       "      <td>500.0</td>\n",
       "      <td>4.333333</td>\n",
       "      <td>30771</td>\n",
       "      <td>273469383 20424 11704 11629 10462 20422 1018</td>\n",
       "    </tr>\n",
       "    <tr>\n",
       "      <th>26208</th>\n",
       "      <td>12224074314753892871</td>\n",
       "      <td>msk</td>\n",
       "      <td>500.0</td>\n",
       "      <td>5.000000</td>\n",
       "      <td>30775</td>\n",
       "      <td>21247 11867 11629 1524 1509 20422 1416 1415 10...</td>\n",
       "    </tr>\n",
       "    <tr>\n",
       "      <th>48599</th>\n",
       "      <td>16581456988770474074</td>\n",
       "      <td>msk</td>\n",
       "      <td>500.0</td>\n",
       "      <td>4.692308</td>\n",
       "      <td>31495 30774</td>\n",
       "      <td>3491142672 20282 3501637468 11741 3501745827 3...</td>\n",
       "    </tr>\n",
       "    <tr>\n",
       "      <th>17863</th>\n",
       "      <td>11409605273003015299</td>\n",
       "      <td>msk</td>\n",
       "      <td>500.0</td>\n",
       "      <td>3.222222</td>\n",
       "      <td>30774</td>\n",
       "      <td>3501744275 11617 3502045032 3502045016 20424 1...</td>\n",
       "    </tr>\n",
       "  </tbody>\n",
       "</table>\n",
       "<p>21531 rows × 6 columns</p>\n",
       "</div>"
      ],
      "text/plain": [
       "                     org_id  ...                                        features_id\n",
       "45769   3276960721840719260  ...            11704 20422 1018 11177 1416 11867 10462\n",
       "39061   8452997364765928283  ...  1415 3501481355 1416 11629 10462 1524 20422 11...\n",
       "59281  14240408259222214074  ...  3502045032 11741 3502045016 10462 11704 350177...\n",
       "51225  15114069072602161053  ...  3501513153 3501779478 3491142672 273469383 350...\n",
       "29587   2730337118800634815  ...  21247 10896 3491142672 11629 3501481353 350148...\n",
       "...                     ...  ...                                                ...\n",
       "64667  15641319025413596274  ...  20424 3501744275 273469383 10462 11177 11617 1...\n",
       "47309   2049892259403324519  ...       273469383 20424 11704 11629 10462 20422 1018\n",
       "26208  12224074314753892871  ...  21247 11867 11629 1524 1509 20422 1416 1415 10...\n",
       "48599  16581456988770474074  ...  3491142672 20282 3501637468 11741 3501745827 3...\n",
       "17863  11409605273003015299  ...  3501744275 11617 3502045032 3502045016 20424 1...\n",
       "\n",
       "[21531 rows x 6 columns]"
      ]
     },
     "execution_count": 8,
     "metadata": {},
     "output_type": "execute_result"
    }
   ],
   "source": [
    "clean_data_train"
   ]
  },
  {
   "cell_type": "code",
   "execution_count": 24,
   "metadata": {
    "execution": {
     "iopub.execute_input": "2025-07-30T03:40:04.017203Z",
     "iopub.status.busy": "2025-07-30T03:40:04.015831Z",
     "iopub.status.idle": "2025-07-30T03:40:04.055246Z",
     "shell.execute_reply": "2025-07-30T03:40:04.054117Z",
     "shell.execute_reply.started": "2025-07-30T03:40:04.017143Z"
    },
    "tags": []
   },
   "outputs": [
    {
     "data": {
      "text/html": [
       "<div>\n",
       "<style scoped>\n",
       "    .dataframe tbody tr th:only-of-type {\n",
       "        vertical-align: middle;\n",
       "    }\n",
       "\n",
       "    .dataframe tbody tr th {\n",
       "        vertical-align: top;\n",
       "    }\n",
       "\n",
       "    .dataframe thead th {\n",
       "        text-align: right;\n",
       "    }\n",
       "</style>\n",
       "<table border=\"1\" class=\"dataframe\">\n",
       "  <thead>\n",
       "    <tr style=\"text-align: right;\">\n",
       "      <th></th>\n",
       "      <th>org_id</th>\n",
       "      <th>city</th>\n",
       "      <th>rating</th>\n",
       "      <th>rubrics_id</th>\n",
       "      <th>features_id</th>\n",
       "      <th>asdfa</th>\n",
       "    </tr>\n",
       "  </thead>\n",
       "  <tbody>\n",
       "    <tr>\n",
       "      <th>45769</th>\n",
       "      <td>3276960721840719260</td>\n",
       "      <td>msk</td>\n",
       "      <td>4.500000</td>\n",
       "      <td>30770</td>\n",
       "      <td>11704 20422 1018 11177 1416 11867 10462</td>\n",
       "      <td>500.0</td>\n",
       "    </tr>\n",
       "    <tr>\n",
       "      <th>39061</th>\n",
       "      <td>8452997364765928283</td>\n",
       "      <td>msk</td>\n",
       "      <td>4.442623</td>\n",
       "      <td>30774 30776</td>\n",
       "      <td>1415 3501481355 1416 11629 10462 1524 20422 11...</td>\n",
       "      <td>1500.0</td>\n",
       "    </tr>\n",
       "    <tr>\n",
       "      <th>59281</th>\n",
       "      <td>14240408259222214074</td>\n",
       "      <td>spb</td>\n",
       "      <td>4.018868</td>\n",
       "      <td>30776 30774</td>\n",
       "      <td>3502045032 11741 3502045016 10462 11704 350177...</td>\n",
       "      <td>1000.0</td>\n",
       "    </tr>\n",
       "    <tr>\n",
       "      <th>51225</th>\n",
       "      <td>15114069072602161053</td>\n",
       "      <td>msk</td>\n",
       "      <td>4.364742</td>\n",
       "      <td>31401 30776</td>\n",
       "      <td>3501513153 3501779478 3491142672 273469383 350...</td>\n",
       "      <td>1500.0</td>\n",
       "    </tr>\n",
       "    <tr>\n",
       "      <th>29587</th>\n",
       "      <td>2730337118800634815</td>\n",
       "      <td>msk</td>\n",
       "      <td>4.698718</td>\n",
       "      <td>30770</td>\n",
       "      <td>21247 10896 3491142672 11629 3501481353 350148...</td>\n",
       "      <td>1000.0</td>\n",
       "    </tr>\n",
       "    <tr>\n",
       "      <th>...</th>\n",
       "      <td>...</td>\n",
       "      <td>...</td>\n",
       "      <td>...</td>\n",
       "      <td>...</td>\n",
       "      <td>...</td>\n",
       "      <td>...</td>\n",
       "    </tr>\n",
       "    <tr>\n",
       "      <th>64667</th>\n",
       "      <td>15641319025413596274</td>\n",
       "      <td>msk</td>\n",
       "      <td>4.510753</td>\n",
       "      <td>30771</td>\n",
       "      <td>20424 3501744275 273469383 10462 11177 11617 1...</td>\n",
       "      <td>500.0</td>\n",
       "    </tr>\n",
       "    <tr>\n",
       "      <th>47309</th>\n",
       "      <td>2049892259403324519</td>\n",
       "      <td>msk</td>\n",
       "      <td>4.333333</td>\n",
       "      <td>30771</td>\n",
       "      <td>273469383 20424 11704 11629 10462 20422 1018</td>\n",
       "      <td>500.0</td>\n",
       "    </tr>\n",
       "    <tr>\n",
       "      <th>26208</th>\n",
       "      <td>12224074314753892871</td>\n",
       "      <td>msk</td>\n",
       "      <td>5.000000</td>\n",
       "      <td>30775</td>\n",
       "      <td>21247 11867 11629 1524 1509 20422 1416 1415 10...</td>\n",
       "      <td>500.0</td>\n",
       "    </tr>\n",
       "    <tr>\n",
       "      <th>48599</th>\n",
       "      <td>16581456988770474074</td>\n",
       "      <td>msk</td>\n",
       "      <td>4.692308</td>\n",
       "      <td>31495 30774</td>\n",
       "      <td>3491142672 20282 3501637468 11741 3501745827 3...</td>\n",
       "      <td>500.0</td>\n",
       "    </tr>\n",
       "    <tr>\n",
       "      <th>17863</th>\n",
       "      <td>11409605273003015299</td>\n",
       "      <td>msk</td>\n",
       "      <td>3.222222</td>\n",
       "      <td>30774</td>\n",
       "      <td>3501744275 11617 3502045032 3502045016 20424 1...</td>\n",
       "      <td>500.0</td>\n",
       "    </tr>\n",
       "  </tbody>\n",
       "</table>\n",
       "<p>21531 rows × 6 columns</p>\n",
       "</div>"
      ],
      "text/plain": [
       "                     org_id  ...   asdfa\n",
       "45769   3276960721840719260  ...   500.0\n",
       "39061   8452997364765928283  ...  1500.0\n",
       "59281  14240408259222214074  ...  1000.0\n",
       "51225  15114069072602161053  ...  1500.0\n",
       "29587   2730337118800634815  ...  1000.0\n",
       "...                     ...  ...     ...\n",
       "64667  15641319025413596274  ...   500.0\n",
       "47309   2049892259403324519  ...   500.0\n",
       "26208  12224074314753892871  ...   500.0\n",
       "48599  16581456988770474074  ...   500.0\n",
       "17863  11409605273003015299  ...   500.0\n",
       "\n",
       "[21531 rows x 6 columns]"
      ]
     },
     "execution_count": 24,
     "metadata": {},
     "output_type": "execute_result"
    }
   ],
   "source": [
    "clean_data.groupby(['city'])['average_bill'].mean().to_dict()\n",
    "\n",
    "X = clean_data_train.drop(columns=['average_bill'])\n",
    "y = clean_data_train['average_bill']\n",
    "\n",
    "y.name = 'asdfa'\n",
    "X.join(y)"
   ]
  },
  {
   "cell_type": "code",
   "execution_count": 26,
   "metadata": {
    "execution": {
     "iopub.execute_input": "2025-07-30T03:40:35.891698Z",
     "iopub.status.busy": "2025-07-30T03:40:35.890158Z",
     "iopub.status.idle": "2025-07-30T03:40:35.965Z",
     "shell.execute_reply": "2025-07-30T03:40:35.963899Z",
     "shell.execute_reply.started": "2025-07-30T03:40:35.891643Z"
    },
    "tags": []
   },
   "outputs": [
    {
     "data": {
      "text/plain": [
       "198119.64335056383"
      ]
     },
     "execution_count": 26,
     "metadata": {},
     "output_type": "execute_result"
    }
   ],
   "source": [
    "from sklearn.base import RegressorMixin\n",
    "import pandas as pd\n",
    "\n",
    "class CityMeanRegressor(RegressorMixin):\n",
    "    def fit(self, X=None, y=None):\n",
    "        t = y.copy()\n",
    "        t.name = 't'\n",
    "        self.cities_dict = X.join(t).groupby(['city'])['t'].mean().to_dict()\n",
    "\n",
    "    def predict(self, X=None):\n",
    "        return X['city'].map(self.cities_dict)\n",
    "\n",
    "reg = CityMeanRegressor()\n",
    "reg.fit(X=clean_data_train, y=clean_data_train['average_bill'])\n",
    "yp = reg.predict(clean_data_test)\n",
    "mean_squared_error(yp, clean_data_test['average_bill'])"
   ]
  },
  {
   "cell_type": "markdown",
   "metadata": {
    "id": "1EeFGk24GH7K"
   },
   "source": [
    "Обучите регрессор и сравните его по метрике RMSE с бейзлайнами. Получилось ли улучшить метрику?"
   ]
  },
  {
   "cell_type": "markdown",
   "metadata": {
    "id": "jROycei1GH7L"
   },
   "source": [
    "Лучше стало, но, правда, не очень сильно. В этот момент очень важно не просто радовать руководителя приростом в третьем знаке, но и думать о том, что происходит.\n",
    "\n",
    "Средний средний чек по Москве равен 793, в Санкт-Петербурге - 676, а в целом - 752 рубля. MSE, увы, не поможет вам ответить на вопрос, стало ли лучше пользователю, если вы ему вместо 752 рублей назвали 793. Здесь вскрывается весьма существенный порок MSE в этой задаче. Дело в том, что наш изначальный таргет делит заведения на некоторые \"ценовые категории\", и различие в средних чеках 500 и 1000 в самом деле существенно. Наверное, мы хотели бы как раз правильно предсказывать ценовые категории. Но MSE не очень помогает нам об этом судить. Дальше мы ещё подумаем, как это исправить.\n",
    "\n",
    "В любом случае, несмотря на улучшение метрики, мы пока не можем судить, стало ли по жизни лучше от усложнения модели."
   ]
  },
  {
   "cell_type": "markdown",
   "metadata": {
    "id": "wEQ9eOoWGH7L"
   },
   "source": [
    "Поручинившись немного, возьмём на вооружение другую идею. Давайте использовать типы заведений!\n",
    "\n",
    "Но с типами есть некоторая проблема: в столбце ``rubrics_id`` не всегда один идентификатор, часто их несколько, и всего комбинаций довольно много. Чтобы не возиться с малочисленными типами, давайте сольём их в один безликий ``other``.\n",
    "\n",
    "Итак, добавьте в обучающие и тестовые данные столбец ``modified_rubrics``, в котором будет то же, что и в ``rubrics_id``, если соответствующая комбинация рубрик содержит хотя бы 100 заведений из обучающей (!) выборки, и строка ``other`` в противном случае.\n",
    "\n",
    "Здесь вам поможет контейнер ``Counter`` из библиотеки ``collections``."
   ]
  },
  {
   "cell_type": "code",
   "execution_count": 41,
   "metadata": {
    "execution": {
     "iopub.execute_input": "2025-07-30T04:43:08.230233Z",
     "iopub.status.busy": "2025-07-30T04:43:08.228623Z",
     "iopub.status.idle": "2025-07-30T04:43:08.260418Z",
     "shell.execute_reply": "2025-07-30T04:43:08.259346Z",
     "shell.execute_reply.started": "2025-07-30T04:43:08.230173Z"
    },
    "id": "uTVW5KkwGH7L",
    "tags": []
   },
   "outputs": [],
   "source": [
    "allowed_rubrics = clean_data_train['rubrics_id'].value_counts()\n",
    "allowed_rubrics = list(allowed_rubrics[allowed_rubrics >= 100].index)\n",
    "clean_data_train['modified_rubrics'] = clean_data_train['rubrics_id'].map(lambda x: x if x in allowed_rubrics else 'other')\n",
    "clean_data_test['modified_rubrics'] = clean_data_test['rubrics_id'].map(lambda x: x if x in allowed_rubrics else 'other')"
   ]
  },
  {
   "cell_type": "markdown",
   "metadata": {
    "id": "nZXhpBjnGH7L"
   },
   "source": [
    "Теперь настало время написать могучий классификатор, который по заведению предсказывает медиану средних чеков среди тех в обучающей выборке, у которых с ним одинаковые `modified_rubrics` и город (вы спросите, почему медиану, а не самый частый -- спишем это на вдохновение; самый частый тоже можно брать - но медиана работает лучше).\n",
    "\n",
    "**8. Напишите классификатор и сдайте в Контест**."
   ]
  },
  {
   "cell_type": "code",
   "execution_count": 47,
   "metadata": {
    "execution": {
     "iopub.execute_input": "2025-07-30T04:52:26.380037Z",
     "iopub.status.busy": "2025-07-30T04:52:26.378679Z",
     "iopub.status.idle": "2025-07-30T04:52:26.413879Z",
     "shell.execute_reply": "2025-07-30T04:52:26.412885Z",
     "shell.execute_reply.started": "2025-07-30T04:52:26.379984Z"
    }
   },
   "outputs": [
    {
     "data": {
      "text/html": [
       "<div>\n",
       "<style scoped>\n",
       "    .dataframe tbody tr th:only-of-type {\n",
       "        vertical-align: middle;\n",
       "    }\n",
       "\n",
       "    .dataframe tbody tr th {\n",
       "        vertical-align: top;\n",
       "    }\n",
       "\n",
       "    .dataframe thead th {\n",
       "        text-align: right;\n",
       "    }\n",
       "</style>\n",
       "<table border=\"1\" class=\"dataframe\">\n",
       "  <thead>\n",
       "    <tr style=\"text-align: right;\">\n",
       "      <th></th>\n",
       "      <th>org_id</th>\n",
       "      <th>city</th>\n",
       "      <th>average_bill</th>\n",
       "      <th>rating</th>\n",
       "      <th>rubrics_id</th>\n",
       "      <th>features_id</th>\n",
       "      <th>modified_rubrics</th>\n",
       "    </tr>\n",
       "  </thead>\n",
       "  <tbody>\n",
       "    <tr>\n",
       "      <th>45769</th>\n",
       "      <td>3276960721840719260</td>\n",
       "      <td>msk</td>\n",
       "      <td>500.0</td>\n",
       "      <td>4.500000</td>\n",
       "      <td>30770</td>\n",
       "      <td>11704 20422 1018 11177 1416 11867 10462</td>\n",
       "      <td>30770</td>\n",
       "    </tr>\n",
       "    <tr>\n",
       "      <th>39061</th>\n",
       "      <td>8452997364765928283</td>\n",
       "      <td>msk</td>\n",
       "      <td>1500.0</td>\n",
       "      <td>4.442623</td>\n",
       "      <td>30774 30776</td>\n",
       "      <td>1415 3501481355 1416 11629 10462 1524 20422 11...</td>\n",
       "      <td>30774 30776</td>\n",
       "    </tr>\n",
       "    <tr>\n",
       "      <th>59281</th>\n",
       "      <td>14240408259222214074</td>\n",
       "      <td>spb</td>\n",
       "      <td>1000.0</td>\n",
       "      <td>4.018868</td>\n",
       "      <td>30776 30774</td>\n",
       "      <td>3502045032 11741 3502045016 10462 11704 350177...</td>\n",
       "      <td>30776 30774</td>\n",
       "    </tr>\n",
       "    <tr>\n",
       "      <th>51225</th>\n",
       "      <td>15114069072602161053</td>\n",
       "      <td>msk</td>\n",
       "      <td>1500.0</td>\n",
       "      <td>4.364742</td>\n",
       "      <td>31401 30776</td>\n",
       "      <td>3501513153 3501779478 3491142672 273469383 350...</td>\n",
       "      <td>other</td>\n",
       "    </tr>\n",
       "    <tr>\n",
       "      <th>29587</th>\n",
       "      <td>2730337118800634815</td>\n",
       "      <td>msk</td>\n",
       "      <td>1000.0</td>\n",
       "      <td>4.698718</td>\n",
       "      <td>30770</td>\n",
       "      <td>21247 10896 3491142672 11629 3501481353 350148...</td>\n",
       "      <td>30770</td>\n",
       "    </tr>\n",
       "    <tr>\n",
       "      <th>...</th>\n",
       "      <td>...</td>\n",
       "      <td>...</td>\n",
       "      <td>...</td>\n",
       "      <td>...</td>\n",
       "      <td>...</td>\n",
       "      <td>...</td>\n",
       "      <td>...</td>\n",
       "    </tr>\n",
       "    <tr>\n",
       "      <th>64667</th>\n",
       "      <td>15641319025413596274</td>\n",
       "      <td>msk</td>\n",
       "      <td>500.0</td>\n",
       "      <td>4.510753</td>\n",
       "      <td>30771</td>\n",
       "      <td>20424 3501744275 273469383 10462 11177 11617 1...</td>\n",
       "      <td>30771</td>\n",
       "    </tr>\n",
       "    <tr>\n",
       "      <th>47309</th>\n",
       "      <td>2049892259403324519</td>\n",
       "      <td>msk</td>\n",
       "      <td>500.0</td>\n",
       "      <td>4.333333</td>\n",
       "      <td>30771</td>\n",
       "      <td>273469383 20424 11704 11629 10462 20422 1018</td>\n",
       "      <td>30771</td>\n",
       "    </tr>\n",
       "    <tr>\n",
       "      <th>26208</th>\n",
       "      <td>12224074314753892871</td>\n",
       "      <td>msk</td>\n",
       "      <td>500.0</td>\n",
       "      <td>5.000000</td>\n",
       "      <td>30775</td>\n",
       "      <td>21247 11867 11629 1524 1509 20422 1416 1415 10...</td>\n",
       "      <td>30775</td>\n",
       "    </tr>\n",
       "    <tr>\n",
       "      <th>48599</th>\n",
       "      <td>16581456988770474074</td>\n",
       "      <td>msk</td>\n",
       "      <td>500.0</td>\n",
       "      <td>4.692308</td>\n",
       "      <td>31495 30774</td>\n",
       "      <td>3491142672 20282 3501637468 11741 3501745827 3...</td>\n",
       "      <td>31495 30774</td>\n",
       "    </tr>\n",
       "    <tr>\n",
       "      <th>17863</th>\n",
       "      <td>11409605273003015299</td>\n",
       "      <td>msk</td>\n",
       "      <td>500.0</td>\n",
       "      <td>3.222222</td>\n",
       "      <td>30774</td>\n",
       "      <td>3501744275 11617 3502045032 3502045016 20424 1...</td>\n",
       "      <td>30774</td>\n",
       "    </tr>\n",
       "  </tbody>\n",
       "</table>\n",
       "<p>21531 rows × 7 columns</p>\n",
       "</div>"
      ],
      "text/plain": [
       "                     org_id  ... modified_rubrics\n",
       "45769   3276960721840719260  ...            30770\n",
       "39061   8452997364765928283  ...      30774 30776\n",
       "59281  14240408259222214074  ...      30776 30774\n",
       "51225  15114069072602161053  ...            other\n",
       "29587   2730337118800634815  ...            30770\n",
       "...                     ...  ...              ...\n",
       "64667  15641319025413596274  ...            30771\n",
       "47309   2049892259403324519  ...            30771\n",
       "26208  12224074314753892871  ...            30775\n",
       "48599  16581456988770474074  ...      31495 30774\n",
       "17863  11409605273003015299  ...            30774\n",
       "\n",
       "[21531 rows x 7 columns]"
      ]
     },
     "execution_count": 47,
     "metadata": {},
     "output_type": "execute_result"
    }
   ],
   "source": [
    "clean_data_train"
   ]
  },
  {
   "cell_type": "code",
   "execution_count": 52,
   "metadata": {
    "execution": {
     "iopub.execute_input": "2025-07-30T04:54:09.398430Z",
     "iopub.status.busy": "2025-07-30T04:54:09.396902Z",
     "iopub.status.idle": "2025-07-30T04:54:09.426675Z",
     "shell.execute_reply": "2025-07-30T04:54:09.425560Z",
     "shell.execute_reply.started": "2025-07-30T04:54:09.398372Z"
    },
    "tags": []
   },
   "outputs": [
    {
     "data": {
      "text/plain": [
       "False"
      ]
     },
     "execution_count": 52,
     "metadata": {},
     "output_type": "execute_result"
    }
   ],
   "source": [
    "(3,1) in [(1,2), (3,4)]"
   ]
  },
  {
   "cell_type": "code",
   "execution_count": 55,
   "metadata": {
    "execution": {
     "iopub.execute_input": "2025-07-30T04:56:14.908725Z",
     "iopub.status.busy": "2025-07-30T04:56:14.907131Z",
     "iopub.status.idle": "2025-07-30T04:56:15.125067Z",
     "shell.execute_reply": "2025-07-30T04:56:15.124048Z",
     "shell.execute_reply.started": "2025-07-30T04:56:14.908643Z"
    },
    "tags": []
   },
   "outputs": [
    {
     "data": {
      "text/plain": [
       "45769     720.491803\n",
       "39061    1189.542484\n",
       "59281     804.154303\n",
       "51225     732.129964\n",
       "29587     720.491803\n",
       "            ...     \n",
       "64667     512.072435\n",
       "47309     512.072435\n",
       "26208     607.526882\n",
       "48599     564.024390\n",
       "17863     713.785047\n",
       "Length: 21531, dtype: float64"
      ]
     },
     "execution_count": 55,
     "metadata": {},
     "output_type": "execute_result"
    }
   ],
   "source": [
    "d = clean_data_train.groupby(['city', 'modified_rubrics'])['average_bill'].mean().to_dict()\n",
    "clean_data_train.apply(lambda x: d[(x['city'], x['modified_rubrics'])], axis=1)"
   ]
  },
  {
   "cell_type": "code",
   "execution_count": 75,
   "metadata": {
    "execution": {
     "iopub.execute_input": "2025-07-30T05:26:28.637008Z",
     "iopub.status.busy": "2025-07-30T05:26:28.635435Z",
     "iopub.status.idle": "2025-07-30T05:26:28.751891Z",
     "shell.execute_reply": "2025-07-30T05:26:28.750782Z",
     "shell.execute_reply.started": "2025-07-30T05:26:28.636932Z"
    },
    "id": "eTfcwh5dGH7M",
    "tags": []
   },
   "outputs": [
    {
     "data": {
      "text/plain": [
       "155209.80669495522"
      ]
     },
     "execution_count": 75,
     "metadata": {},
     "output_type": "execute_result"
    }
   ],
   "source": [
    "from sklearn.base import RegressorMixin\n",
    "from sklearn.base import ClassifierMixin\n",
    "from sklearn.metrics import balanced_accuracy_score, accuracy_score\n",
    "import pandas as pd\n",
    "\n",
    "class RubricCityMedianClassifier(ClassifierMixin):\n",
    "    def fit(self, X=None, y=None):\n",
    "        t = y.copy()\n",
    "        t.name = 't'\n",
    "        self.d = X.join(t).groupby(['city', 'modified_rubrics'])['t'].median().to_dict()\n",
    "\n",
    "    def predict(self, X=None):\n",
    "        return X.apply(lambda x: self.d[(x['city'], x['modified_rubrics'])], axis=1)\n",
    "    \n",
    "reg = RubricCityMedianClassifier()\n",
    "reg.fit(X=clean_data_train, y=clean_data_train['average_bill'])\n",
    "yp = reg.predict(clean_data_test)\n",
    "mean_squared_error(yp, clean_data_test['average_bill'])\n",
    "\n",
    "#balanced_accuracy_score(clean_data_test['average_bill'], yp)"
   ]
  },
  {
   "cell_type": "markdown",
   "metadata": {
    "id": "xbgjbwgkGH7M"
   },
   "source": [
    "Сравните обученный классификатор по метрикам RMSE и balanced_accuracy_score с нашими бейзлайнами. Получилось ли улучшить?"
   ]
  },
  {
   "cell_type": "markdown",
   "metadata": {
    "id": "UMjsnCnQGH7M"
   },
   "source": [
    "Обратите внимание что рост accuracy по сравнению с бейзлайном при этом на порядок меньше:"
   ]
  },
  {
   "cell_type": "markdown",
   "metadata": {
    "id": "K2cF0I-CGH7M"
   },
   "source": [
    "accuracy_score\n",
    "\n",
    "Predict most frequent:  0.6947666195190948\n",
    "\n",
    "Predict by rubric and city:  0.7095709570957096"
   ]
  },
  {
   "cell_type": "code",
   "execution_count": 84,
   "metadata": {
    "execution": {
     "iopub.execute_input": "2025-07-30T05:29:30.854389Z",
     "iopub.status.busy": "2025-07-30T05:29:30.852974Z",
     "iopub.status.idle": "2025-07-30T05:29:30.909619Z",
     "shell.execute_reply": "2025-07-30T05:29:30.908566Z",
     "shell.execute_reply.started": "2025-07-30T05:29:30.854335Z"
    },
    "tags": []
   },
   "outputs": [
    {
     "data": {
      "text/plain": [
       "average_bill\n",
       "500.0     7368\n",
       "1000.0    1809\n",
       "1500.0     890\n",
       "2000.0     391\n",
       "2500.0     147\n",
       "dtype: int64"
      ]
     },
     "execution_count": 84,
     "metadata": {},
     "output_type": "execute_result"
    }
   ],
   "source": [
    "yp.name = 'predicted'\n",
    "clean_data_test.join(yp).groupby('average_bill').size()"
   ]
  },
  {
   "cell_type": "code",
   "execution_count": 87,
   "metadata": {
    "execution": {
     "iopub.execute_input": "2025-07-30T05:30:30.543234Z",
     "iopub.status.busy": "2025-07-30T05:30:30.541973Z",
     "iopub.status.idle": "2025-07-30T05:30:30.630101Z",
     "shell.execute_reply": "2025-07-30T05:30:30.629034Z",
     "shell.execute_reply.started": "2025-07-30T05:30:30.543180Z"
    },
    "tags": []
   },
   "outputs": [
    {
     "data": {
      "text/plain": [
       "average_bill  is_correct\n",
       "500.0         False          760\n",
       "              True          6608\n",
       "1000.0        False         1109\n",
       "              True           700\n",
       "1500.0        False          673\n",
       "              True           217\n",
       "2000.0        False          391\n",
       "2500.0        False          147\n",
       "dtype: int64"
      ]
     },
     "execution_count": 87,
     "metadata": {},
     "output_type": "execute_result"
    }
   ],
   "source": [
    "tmp = clean_data_test.join(yp)\n",
    "tmp['is_correct'] = tmp['average_bill'] == tmp['predicted']\n",
    "tmp.groupby(['average_bill', 'is_correct']).size()"
   ]
  },
  {
   "cell_type": "markdown",
   "metadata": {
    "id": "ylrAIjCcGH7N"
   },
   "source": [
    "Для диагностики напечатайте для каждого класса тестовой выборки, сколько в нём объектов и скольким из них наш классификатор приписал правильный класс. Что вы видите?\n",
    "\n",
    "&nbsp;\n",
    "\n",
    "<details>\n",
    "  <summary>Когда будете готовы, кликните сюда, чтобы посмотреть ответ</summary>\n",
    "    \n",
    "  Вы, вероятно, видите то, что мы стали однозначно лучше по сравнению с бейзлайном детектировать средний чек 1000 и 1500 (хотя всё равно не очень хорошо + ценой ухудшения качества на среднем чеке 500), а вот чеки 2000 и 2500 нам ну никак не даются.\n",
    "    \n",
    "</details>"
   ]
  },
  {
   "cell_type": "markdown",
   "metadata": {
    "id": "9ScOy7ZvGH7N"
   },
   "source": [
    "**Кстати**. А вы понимаете, почему приведённый выше пайплайн классификации был не очень удачным с точки зрения архитектуры? Почему его было бы правильнее воплотить по-другому?\n",
    "\n",
    "&nbsp;\n",
    "\n",
    "<details>\n",
    "  <summary>Когда будете готовы, кликните сюда, чтобы посмотреть ответ</summary>\n",
    "Собственно говоря, и не было никакого пайплайна. К счастью, у нас была одна обучающая выборка, мы на ней посчитали список рубрик для modified_rubrics и радовались жизни. Но если бы нам надо было переобучать всё на новых данных, пришлось бы помнить, что их надо везде пересчитать (ведь у нас могли появиться новые рубрики с хотя бы 100 представителями). А уж никакую кросс-валидацию (кто знает - тот поймёт) с нашим подходом к делу и вовсе бы не получилось сделать без боли.\n",
    "    \n",
    "Поэтому в следующей лабораторной вы научитесь делать честные пайплайны, в которых преобразование данных, генерация фичей и обучение классификатора будут объединены в один понятный процесс, происходящий на этапе fit.\n",
    "</details>"
   ]
  },
  {
   "cell_type": "markdown",
   "metadata": {
    "id": "4ujl3tbbGH7N"
   },
   "source": [
    "## Слишком простые и слишком сложные модели"
   ]
  },
  {
   "cell_type": "markdown",
   "metadata": {
    "id": "QF7McCHsGH7N"
   },
   "source": [
    "Бейзлайны у нас слишком просты и потому не очень полезны в жизни. Но если сложность модели растёт бесконтрольно, то тоже получается плохо.\n",
    "\n",
    "Давайте рассмотрим конкретный пример. Создадим классификатор, использующий одновременно `rubrics_id` и `features_id`.\n",
    "\n",
    "Сделайте следующее:\n",
    "\n",
    "- для каждого объекта обучающей выборки сконкатенируйте строку `rubrics_id` с разделителем (например, буквой 'q') и содержимым `features_id`. Полученный столбец озаглавьте `modified_features`. Это не самый клёвый способ заиспользовать все фичи, но сейчас пока сойдёт. Причём на сей раз не будем выкидывать мало представленные значения (вся информация важна, не так ли?).\n",
    "- при этом для тестовой выборке заменяйте на строку `other` все конкатенации, которые не встретились в обучающей выборке.\n",
    "\n",
    "То есть элементы в этом столбце будут иметь вид `other` или `30776 30774 q 3502045032 11741 3502045016 1046...`."
   ]
  },
  {
   "cell_type": "code",
   "execution_count": 2,
   "metadata": {
    "execution": {
     "iopub.execute_input": "2025-07-31T10:56:24.753574Z",
     "iopub.status.busy": "2025-07-31T10:56:24.752433Z",
     "iopub.status.idle": "2025-07-31T10:56:27.247535Z",
     "shell.execute_reply": "2025-07-31T10:56:27.246649Z",
     "shell.execute_reply.started": "2025-07-31T10:56:24.753524Z"
    },
    "tags": []
   },
   "outputs": [],
   "source": [
    "clean_data_train['modified_features'] = clean_data_train['rubrics_id'] + ' q ' + clean_data_train['features_id']\n",
    "clean_data_test['modified_features'] = clean_data_test['rubrics_id'] + ' q ' + clean_data_test['features_id']\n",
    "allowed_features =  clean_data_train['modified_features'].value_counts().index.to_list()\n",
    "clean_data_test['modified_features'] = clean_data_test['modified_features'].map(lambda x: x if x in allowed_features else 'other')"
   ]
  },
  {
   "cell_type": "code",
   "execution_count": 3,
   "metadata": {
    "execution": {
     "iopub.execute_input": "2025-07-31T11:21:48.310109Z",
     "iopub.status.busy": "2025-07-31T11:21:48.308715Z",
     "iopub.status.idle": "2025-07-31T11:21:48.362863Z",
     "shell.execute_reply": "2025-07-31T11:21:48.362001Z",
     "shell.execute_reply.started": "2025-07-31T11:21:48.310061Z"
    },
    "tags": []
   },
   "outputs": [
    {
     "data": {
      "text/html": [
       "<div>\n",
       "<style scoped>\n",
       "    .dataframe tbody tr th:only-of-type {\n",
       "        vertical-align: middle;\n",
       "    }\n",
       "\n",
       "    .dataframe tbody tr th {\n",
       "        vertical-align: top;\n",
       "    }\n",
       "\n",
       "    .dataframe thead th {\n",
       "        text-align: right;\n",
       "    }\n",
       "</style>\n",
       "<table border=\"1\" class=\"dataframe\">\n",
       "  <thead>\n",
       "    <tr style=\"text-align: right;\">\n",
       "      <th></th>\n",
       "      <th>org_id</th>\n",
       "      <th>city</th>\n",
       "      <th>average_bill</th>\n",
       "      <th>rating</th>\n",
       "      <th>rubrics_id</th>\n",
       "      <th>features_id</th>\n",
       "      <th>modified_features</th>\n",
       "    </tr>\n",
       "  </thead>\n",
       "  <tbody>\n",
       "    <tr>\n",
       "      <th>65841</th>\n",
       "      <td>14385912302763770021</td>\n",
       "      <td>spb</td>\n",
       "      <td>1000.0</td>\n",
       "      <td>4.748444</td>\n",
       "      <td>30776 30770 31401</td>\n",
       "      <td>11177 3501618484 10462 3501481355 1509 1416 20...</td>\n",
       "      <td>other</td>\n",
       "    </tr>\n",
       "    <tr>\n",
       "      <th>48882</th>\n",
       "      <td>16695436192794975203</td>\n",
       "      <td>msk</td>\n",
       "      <td>500.0</td>\n",
       "      <td>3.793758</td>\n",
       "      <td>30771</td>\n",
       "      <td>3501744275 273469383 3501513153 11617 10462 11...</td>\n",
       "      <td>other</td>\n",
       "    </tr>\n",
       "    <tr>\n",
       "      <th>33711</th>\n",
       "      <td>11841431940065207518</td>\n",
       "      <td>msk</td>\n",
       "      <td>500.0</td>\n",
       "      <td>3.606557</td>\n",
       "      <td>30771 30777</td>\n",
       "      <td>3501773763 3501744275 3501773764 3501618484 15...</td>\n",
       "      <td>other</td>\n",
       "    </tr>\n",
       "    <tr>\n",
       "      <th>33544</th>\n",
       "      <td>16028521499441205186</td>\n",
       "      <td>msk</td>\n",
       "      <td>2000.0</td>\n",
       "      <td>4.683841</td>\n",
       "      <td>30776</td>\n",
       "      <td>3501618484 20422 1082283206 11704 11629 21247 ...</td>\n",
       "      <td>other</td>\n",
       "    </tr>\n",
       "    <tr>\n",
       "      <th>35293</th>\n",
       "      <td>12477116204055673498</td>\n",
       "      <td>spb</td>\n",
       "      <td>500.0</td>\n",
       "      <td>4.165394</td>\n",
       "      <td>30776 31401 30770</td>\n",
       "      <td>1524 246 11704 1018 3501618484 2020795524 2124...</td>\n",
       "      <td>other</td>\n",
       "    </tr>\n",
       "    <tr>\n",
       "      <th>...</th>\n",
       "      <td>...</td>\n",
       "      <td>...</td>\n",
       "      <td>...</td>\n",
       "      <td>...</td>\n",
       "      <td>...</td>\n",
       "      <td>...</td>\n",
       "      <td>...</td>\n",
       "    </tr>\n",
       "    <tr>\n",
       "      <th>55337</th>\n",
       "      <td>9041226080397910513</td>\n",
       "      <td>msk</td>\n",
       "      <td>2500.0</td>\n",
       "      <td>4.408108</td>\n",
       "      <td>30776</td>\n",
       "      <td>11629 11704 10462 11617 3501744275 20424 35017...</td>\n",
       "      <td>other</td>\n",
       "    </tr>\n",
       "    <tr>\n",
       "      <th>64048</th>\n",
       "      <td>14998683880343589209</td>\n",
       "      <td>msk</td>\n",
       "      <td>1000.0</td>\n",
       "      <td>3.555556</td>\n",
       "      <td>30776</td>\n",
       "      <td>273469383 20424 20422 246 1416 11867 11629 104...</td>\n",
       "      <td>other</td>\n",
       "    </tr>\n",
       "    <tr>\n",
       "      <th>22010</th>\n",
       "      <td>1621254442333414922</td>\n",
       "      <td>msk</td>\n",
       "      <td>2000.0</td>\n",
       "      <td>4.402516</td>\n",
       "      <td>30776</td>\n",
       "      <td>273469383 21247 11867 1082283206 20422 246 101...</td>\n",
       "      <td>other</td>\n",
       "    </tr>\n",
       "    <tr>\n",
       "      <th>40089</th>\n",
       "      <td>5620614742257813954</td>\n",
       "      <td>msk</td>\n",
       "      <td>500.0</td>\n",
       "      <td>NaN</td>\n",
       "      <td>30771</td>\n",
       "      <td>11704 1018 273469383 10462 20422</td>\n",
       "      <td>30771 q 11704 1018 273469383 10462 20422</td>\n",
       "    </tr>\n",
       "    <tr>\n",
       "      <th>32180</th>\n",
       "      <td>11624301828012509826</td>\n",
       "      <td>spb</td>\n",
       "      <td>500.0</td>\n",
       "      <td>4.250000</td>\n",
       "      <td>30774</td>\n",
       "      <td>246 11867 1018 1415 1416 1524 10462 1509 11617...</td>\n",
       "      <td>other</td>\n",
       "    </tr>\n",
       "  </tbody>\n",
       "</table>\n",
       "<p>10605 rows × 7 columns</p>\n",
       "</div>"
      ],
      "text/plain": [
       "                     org_id city  average_bill    rating         rubrics_id  \\\n",
       "65841  14385912302763770021  spb        1000.0  4.748444  30776 30770 31401   \n",
       "48882  16695436192794975203  msk         500.0  3.793758              30771   \n",
       "33711  11841431940065207518  msk         500.0  3.606557        30771 30777   \n",
       "33544  16028521499441205186  msk        2000.0  4.683841              30776   \n",
       "35293  12477116204055673498  spb         500.0  4.165394  30776 31401 30770   \n",
       "...                     ...  ...           ...       ...                ...   \n",
       "55337   9041226080397910513  msk        2500.0  4.408108              30776   \n",
       "64048  14998683880343589209  msk        1000.0  3.555556              30776   \n",
       "22010   1621254442333414922  msk        2000.0  4.402516              30776   \n",
       "40089   5620614742257813954  msk         500.0       NaN              30771   \n",
       "32180  11624301828012509826  spb         500.0  4.250000              30774   \n",
       "\n",
       "                                             features_id  \\\n",
       "65841  11177 3501618484 10462 3501481355 1509 1416 20...   \n",
       "48882  3501744275 273469383 3501513153 11617 10462 11...   \n",
       "33711  3501773763 3501744275 3501773764 3501618484 15...   \n",
       "33544  3501618484 20422 1082283206 11704 11629 21247 ...   \n",
       "35293  1524 246 11704 1018 3501618484 2020795524 2124...   \n",
       "...                                                  ...   \n",
       "55337  11629 11704 10462 11617 3501744275 20424 35017...   \n",
       "64048  273469383 20424 20422 246 1416 11867 11629 104...   \n",
       "22010  273469383 21247 11867 1082283206 20422 246 101...   \n",
       "40089                   11704 1018 273469383 10462 20422   \n",
       "32180  246 11867 1018 1415 1416 1524 10462 1509 11617...   \n",
       "\n",
       "                              modified_features  \n",
       "65841                                     other  \n",
       "48882                                     other  \n",
       "33711                                     other  \n",
       "33544                                     other  \n",
       "35293                                     other  \n",
       "...                                         ...  \n",
       "55337                                     other  \n",
       "64048                                     other  \n",
       "22010                                     other  \n",
       "40089  30771 q 11704 1018 273469383 10462 20422  \n",
       "32180                                     other  \n",
       "\n",
       "[10605 rows x 7 columns]"
      ]
     },
     "execution_count": 3,
     "metadata": {},
     "output_type": "execute_result"
    }
   ],
   "source": [
    "clean_data_test"
   ]
  },
  {
   "cell_type": "code",
   "execution_count": null,
   "metadata": {
    "tags": []
   },
   "outputs": [],
   "source": [
    "clean_data_train.groupby(['modified_features'])['average_bill'].median().to_dict()"
   ]
  },
  {
   "cell_type": "code",
   "execution_count": 29,
   "metadata": {
    "execution": {
     "iopub.execute_input": "2025-07-31T11:10:19.825798Z",
     "iopub.status.busy": "2025-07-31T11:10:19.824310Z",
     "iopub.status.idle": "2025-07-31T11:10:19.853521Z",
     "shell.execute_reply": "2025-07-31T11:10:19.852715Z",
     "shell.execute_reply.started": "2025-07-31T11:10:19.825744Z"
    },
    "tags": []
   },
   "outputs": [
    {
     "data": {
      "text/plain": [
       "'1.2.2'"
      ]
     },
     "execution_count": 29,
     "metadata": {},
     "output_type": "execute_result"
    }
   ],
   "source": [
    "from importlib.metadata import version\n",
    "version('scikit-learn')"
   ]
  },
  {
   "cell_type": "code",
   "execution_count": 4,
   "metadata": {
    "execution": {
     "iopub.execute_input": "2025-07-31T11:12:20.353594Z",
     "iopub.status.busy": "2025-07-31T11:12:20.352200Z",
     "iopub.status.idle": "2025-07-31T11:12:20.435123Z",
     "shell.execute_reply": "2025-07-31T11:12:20.434104Z",
     "shell.execute_reply.started": "2025-07-31T11:12:20.353545Z"
    },
    "tags": []
   },
   "outputs": [],
   "source": [
    "from sklearn.base import RegressorMixin\n",
    "from sklearn.base import ClassifierMixin\n",
    "from sklearn.metrics import balanced_accuracy_score, accuracy_score, mean_squared_error\n",
    "import pandas as pd\n",
    "\n",
    "class RubricCityMedianClassifier(ClassifierMixin):\n",
    "    def fit(self, X=None, y=None):\n",
    "        t = y.copy()\n",
    "        t.name = 't'\n",
    "        \n",
    "        Y = X.join(t)\n",
    "        self.median = Y['t'].median()\n",
    "        self.d = Y.groupby(['modified_features'])['t'].median().to_dict()\n",
    "\n",
    "    def predict(self, X=None):\n",
    "        return X['modified_features'].map(lambda x: self.d[x] if x in self.d else self.median )\n",
    "    \n",
    "reg = RubricCityMedianClassifier()\n",
    "reg.fit(X=clean_data_train, y=clean_data_train['average_bill'])\n",
    "test_y = reg.predict(clean_data_test)\n",
    "train_y = reg.predict(clean_data_train)"
   ]
  },
  {
   "cell_type": "code",
   "execution_count": 5,
   "metadata": {
    "execution": {
     "iopub.execute_input": "2025-07-31T11:35:58.973544Z",
     "iopub.status.busy": "2025-07-31T11:35:58.972281Z",
     "iopub.status.idle": "2025-07-31T11:35:59.021581Z",
     "shell.execute_reply": "2025-07-31T11:35:59.020560Z",
     "shell.execute_reply.started": "2025-07-31T11:35:58.973494Z"
    },
    "tags": []
   },
   "outputs": [
    {
     "name": "stdout",
     "output_type": "stream",
     "text": [
      "32.4162067388783\n",
      "0.9931928777769354\n",
      "513.9898108867789\n",
      "0.2010249213051401\n"
     ]
    },
    {
     "name": "stderr",
     "output_type": "stream",
     "text": [
      "c:\\Users\\Pavel\\Desktop\\Projects\\ML_Learning\\.venv\\Lib\\site-packages\\sklearn\\metrics\\_classification.py:2801: UserWarning: y_pred contains classes not in y_true\n",
      "  warnings.warn(\"y_pred contains classes not in y_true\")\n",
      "c:\\Users\\Pavel\\Desktop\\Projects\\ML_Learning\\.venv\\Lib\\site-packages\\sklearn\\metrics\\_classification.py:2801: UserWarning: y_pred contains classes not in y_true\n",
      "  warnings.warn(\"y_pred contains classes not in y_true\")\n"
     ]
    }
   ],
   "source": [
    "print(np.sqrt(mean_squared_error(train_y, clean_data_train['average_bill'])))\n",
    "print(balanced_accuracy_score(clean_data_train['average_bill'], train_y))\n",
    "\n",
    "print(np.sqrt(mean_squared_error(test_y, clean_data_test['average_bill'])))\n",
    "print(balanced_accuracy_score(clean_data_test['average_bill'], test_y))"
   ]
  },
  {
   "cell_type": "markdown",
   "metadata": {
    "id": "e8tNBPzVGH7O"
   },
   "source": [
    "Теперь обучите классификатор, который для заведения предсказывает медиану среднего чека по всем объектам тестовой выборки с таким же, как у него, значением `modified_features`, а если такого в обучающей выборке нет, то глобальную медиану среднего чека по всей обучающей выборке.\n",
    "\n",
    "**9. Загрузите в Контест предсказания этого классификатора на тестовой выборке**\n",
    "\n",
    "Мы ждём файла **.csv**, у которого в каждой строке будет только одно число - предсказание классификатора.\n",
    "\n",
    "Возможно, вам будет полезна библиотека ``tqdm``, позволяющая отслеживать в реальном времени, сколько времени уже крутится цикл и сколько итераций ещё осталось. Впрочем, если вы всё написали нормально, то должно работать не очень долго."
   ]
  },
  {
   "cell_type": "code",
   "execution_count": 6,
   "metadata": {},
   "outputs": [
    {
     "data": {
      "text/plain": [
       "65841    500.0\n",
       "48882    500.0\n",
       "33711    500.0\n",
       "33544    500.0\n",
       "35293    500.0\n",
       "         ...  \n",
       "55337    500.0\n",
       "64048    500.0\n",
       "22010    500.0\n",
       "40089    500.0\n",
       "32180    500.0\n",
       "Name: modified_features, Length: 10605, dtype: float64"
      ]
     },
     "execution_count": 6,
     "metadata": {},
     "output_type": "execute_result"
    }
   ],
   "source": [
    "test_y"
   ]
  },
  {
   "cell_type": "code",
   "execution_count": 7,
   "metadata": {
    "execution": {
     "iopub.execute_input": "2025-07-31T11:20:28.991675Z",
     "iopub.status.busy": "2025-07-31T11:20:28.990793Z",
     "iopub.status.idle": "2025-07-31T11:20:29.063056Z",
     "shell.execute_reply": "2025-07-31T11:20:29.062049Z",
     "shell.execute_reply.started": "2025-07-31T11:20:28.991634Z"
    },
    "tags": []
   },
   "outputs": [],
   "source": [
    "test_y.to_csv('as.txt', header=False, index=True)"
   ]
  },
  {
   "cell_type": "code",
   "execution_count": 35,
   "metadata": {
    "execution": {
     "iopub.execute_input": "2025-07-31T11:14:19.995029Z",
     "iopub.status.busy": "2025-07-31T11:14:19.993733Z",
     "iopub.status.idle": "2025-07-31T11:14:20.151561Z",
     "shell.execute_reply": "2025-07-31T11:14:20.150659Z",
     "shell.execute_reply.started": "2025-07-31T11:14:19.994978Z"
    },
    "tags": []
   },
   "outputs": [],
   "source": [
    "test_y.to_csv('as.csv', header=False, index=False)"
   ]
  },
  {
   "cell_type": "markdown",
   "metadata": {
    "id": "_XrswPW4GH7O"
   },
   "source": [
    "Модель, очевидно, очень сложная. Число параметров (различных категорий) в ней сопоставимо с числом объектов в обучающей выборке. А получилось ли хорошо?\n",
    "\n",
    "Давайте посчитаем RMSE и balanced_accuracy_score на обучающей и на тестовой выборках.\n",
    "\n",
    "**10. Введите их в Контест**"
   ]
  },
  {
   "cell_type": "markdown",
   "metadata": {
    "id": "fGDTpxFgGH7O"
   },
   "source": [
    "Налицо переобучение: на трейне метрики отличные, на тесте - вообще никакие\n",
    "\n",
    "В общем, не гонитесь за чрезмерной сложностью модели.."
   ]
  },
  {
   "cell_type": "markdown",
   "metadata": {
    "id": "YTU2yubYGH7O"
   },
   "source": [
    "## ML без данных что компутер без электричества"
   ]
  },
  {
   "cell_type": "markdown",
   "metadata": {
    "id": "DBVOCVf2GH7P"
   },
   "source": [
    "Возможно, вы смотрите на полученные выше результаты и думаете: вот если бы мы не какие-то убогие медианы предсказывали, а гоняли бы нейросети, то тут-то бы всё и получилось!\n",
    "\n",
    "Но, увы, совсем даже не всегда от счастья нас отделяет выбор хорошей модели (и стратегии обучения). Если данные не очень, то даже самая крутая модель не сработает. В этой ситуации нужно либо добывать новые фичи каким-то образом, либо собирать новые данные (увеличивать датасет), либо просто бросать задачу.\n",
    "\n",
    "Давайте посмотрим, что выжмет из наших данных одна из самых мощных моделей для табличных данных - градиентный бустинг на решающих деревьях в исполнении [CatBoost](https://catboost.ai/)."
   ]
  },
  {
   "cell_type": "markdown",
   "metadata": {
    "id": "a0L4UmzSGH7P"
   },
   "source": [
    "Но прежде, чем сделать fit, нам надо облагородить данные. Несмотря на то, что CatBoost отлично работает с категориальными фичами, мешок признаков из `rubrics_id` или `features_id` может ему оказаться не по зубам. Поэтому мы соберём датасет в пристойную матрицу, создав для каждого типа рубрик и фичей отдельный столбец и записав там единицы для тех объектов, у которых эта рубрика или фича имеет место.\n",
    "\n",
    "В матрице почти все элементы будут нулями. Такие матрицы считаются **разреженными** и их можно хранить гораздо эффективней, чем просто таблицей. Этим и займёмся)"
   ]
  },
  {
   "cell_type": "markdown",
   "metadata": {
    "id": "IJKuMtNbGH7P"
   },
   "source": [
    "Есть несколько форматов хранения разреженных матриц (многие из них реализованы в [пакете sparse библиотеки scipy](https://docs.scipy.org/doc/scipy/reference/sparse.html)), и каждый пригоден для чего-то своего.\n",
    "\n",
    "Создавать разреженную матрицу лучше в [формате COO](https://docs.scipy.org/doc/scipy/reference/generated/scipy.sparse.coo_array.html#scipy.sparse.coo_array). Он предполагает, что разреженная матрица задаётся в виде трёх списков: `row`, `col`, `data`, причём каждая тройка `(row[i], col[i], data[i])` кодирует элемент со значением `data[i]`, стоящий на позиции `(row[i], col[i])`. Считается, что на позициях `(row, col)`, которые ни разу не встретились, стоят нули.\n",
    "\n",
    "Нетрудно видеть, что заполнять такую матрицу - одно удовольствие, и особенно этому помогает тот факт, что **пара `(row, col)` может встретиться несколько раз** (тогда в итоговой матрице на соответствующей позиции стоит сумма соответствующих `data[i]`). Но, с другой стороны, почти ничего другого с такой матрицей не сделаешь: произвольного доступа к элементам она не предоставляет, умножить её тоже особо ничего не умножишь. Поэтому для дальнейшего использования созданную таким образом матрицу преобразуют в один из более удобных форматов, например, [CSR (compressed sparse row)](https://scipy-lectures.org/advanced/scipy_sparse/csr_matrix.html). Он, к примеру, хорошо подходит для умножения на вектор (потому что матрица хранится по строкам). Не будем разбирать его подробно, но можете почитать по ссылке, если интересно."
   ]
  },
  {
   "cell_type": "markdown",
   "metadata": {
    "id": "2hd_Sob3GH7P"
   },
   "source": [
    "Вам нужно будет превратить обучающие и тестовые данные в разреженные матрицы `sparse_data_train` и `sparse_data_test` соответственно, таким образом, что:\n",
    "\n",
    "- столбец `city` превратится в столбец из единиц и нулей (например, 1 - Москва, 0 - Питер);\n",
    "- столбец `rating` перекочует в разреженные матрицы без изменений;\n",
    "- каждый типы рубрик и каждая фича превратятся в отдельный 0-1-принак;\n",
    "\n",
    "В тестовой выборке будут фичи, которых в обучающей выборке не было. С ними можно по-разному работать, но давайте создадим дополнительную фантомную фичу `feature_other`, в которой будет то, сколько неизвестных по обучающей выборке фичей есть у данного объекта."
   ]
  },
  {
   "cell_type": "code",
   "execution_count": 111,
   "metadata": {
    "id": "7-UAatGJGH7P"
   },
   "outputs": [],
   "source": [
    "cat_data_train = clean_data_train[['city', 'rating', 'rubrics_id', 'features_id']].reset_index(drop=True) \n",
    "cat_data_test= clean_data_test[['city', 'rating', 'rubrics_id', 'features_id']].reset_index(drop=True) \n",
    "\n",
    "\n",
    "from itertools import chain\n",
    "\n",
    "allowed_features = cat_data_train['features_id'].str.split().apply(set)\n",
    "allowed_rubrics = cat_data_train['rubrics_id'].str.split().apply(set)\n",
    "\n",
    "allowed_rubrics_dict = { r: i + 2 for i, r in enumerate(set(chain.from_iterable(allowed_rubrics.values)))}\n",
    "allowed_features_dict = { f: i + 2 + len(allowed_rubrics_dict) for i, f in enumerate(set(chain.from_iterable(allowed_features.values)))}\n"
   ]
  },
  {
   "cell_type": "markdown",
   "metadata": {
    "id": "lFfj-1E4GH7Q"
   },
   "source": [
    "Данные готовы, и теперь можно запустить катбуст"
   ]
  },
  {
   "cell_type": "code",
   "execution_count": 82,
   "metadata": {},
   "outputs": [
    {
     "data": {
      "text/plain": [
       "True"
      ]
     },
     "execution_count": 82,
     "metadata": {},
     "output_type": "execute_result"
    }
   ],
   "source": [
    "'1592' in allowed_features_dict.keys()"
   ]
  },
  {
   "cell_type": "code",
   "execution_count": 101,
   "metadata": {},
   "outputs": [
    {
     "data": {
      "text/plain": [
       "array([1, 1, 1, ..., 1, 1, 1], shape=(21531,))"
      ]
     },
     "execution_count": 101,
     "metadata": {},
     "output_type": "execute_result"
    }
   ],
   "source": [
    "#np.array(list(chain.from_iterable()))\n",
    "\n",
    "np.array(other[other != 0])\n"
   ]
  },
  {
   "cell_type": "code",
   "execution_count": 108,
   "metadata": {},
   "outputs": [
    {
     "data": {
      "text/plain": [
       "<COOrdinate sparse matrix of dtype 'float64'\n",
       "\twith 390624 stored elements and shape (21531, 605)>"
      ]
     },
     "execution_count": 108,
     "metadata": {},
     "output_type": "execute_result"
    }
   ],
   "source": [
    "import numpy as np\n",
    "from scipy.sparse import coo_matrix\n",
    "\n",
    "# Define non-zero data and their coordinates\n",
    "cat_data = cat_data_train\n",
    "\n",
    "data = np.array([5, 11])\n",
    "row = np.array([1, 3])\n",
    "col = np.array([2, 0])\n",
    "\n",
    "m = cat_data.shape[0]\n",
    "n = len(['city', 'rating', 'feature_other']) + len(allowed_features_dict) + len(allowed_rubrics_dict)\n",
    "\n",
    "\n",
    "city_row = cat_data[cat_data['city'] == 'msk'].index.to_numpy()\n",
    "city_col = np.full(len(city_row), 0)\n",
    "city_val = np.full(len(city_row), 1)\n",
    "\n",
    "rating_row = cat_data['rating'].index.to_numpy()\n",
    "rating_col = np.full(len(rating_row), 1)\n",
    "rating_val = cat_data['rating'].to_numpy()\n",
    "\n",
    "rubric_row = np.array(list(chain.from_iterable(cat_data.apply(lambda x: [x.name for i in x['rubrics_id'].split() ], axis=1))))\n",
    "rubric_col = np.array(list(chain.from_iterable(cat_data.apply(lambda x: [allowed_rubrics_dict[i] for i in x['rubrics_id'].split() ], axis=1))))\n",
    "rubric_val = np.full(len(rubric_row), 1)\n",
    "\n",
    "feature_row = np.array(list(chain.from_iterable(cat_data.apply(lambda x: [x.name for i in x['features_id'].split() ], axis=1))))\n",
    "feature_col = np.array(list(chain.from_iterable(cat_data.apply(lambda x: [allowed_features_dict[i] for i in x['features_id'].split() ], axis=1))))\n",
    "feature_val = np.full(len(feature_row), 1)\n",
    "\n",
    "other = cat_data.apply(lambda x: len([i for i in x['rubrics_id'].split() if i not in allowed_rubrics_dict.keys()]), axis=1) \n",
    "other_row = other[other != 0].index.to_numpy()\n",
    "other_col = np.full(len(other[other != 0]), n - 1)\n",
    "other_val = np.array(other[other != 0])\n",
    "\n",
    "data = np.concatenate([city_val, rating_val, rubric_val, feature_val, other_val])\n",
    "row = np.concatenate([city_row, rating_row, rubric_row, feature_row, other_row])\n",
    "col = np.concatenate([city_col, rating_col, rubric_col, feature_col, other_col])\n",
    "\n",
    "# Create a 4x4 sparse matrix\n",
    "sparse_data_train = coo_matrix((data, (row, col)), shape=(m, n))\n",
    "sparse_data_train"
   ]
  },
  {
   "cell_type": "code",
   "execution_count": 21,
   "metadata": {},
   "outputs": [
    {
     "data": {
      "text/plain": [
       "array([4.5       , 4.44262295, 4.01886792, ..., 5.        , 4.69230769,\n",
       "       3.22222222], shape=(21531,))"
      ]
     },
     "execution_count": 21,
     "metadata": {},
     "output_type": "execute_result"
    }
   ],
   "source": [
    "rating_val"
   ]
  },
  {
   "cell_type": "code",
   "execution_count": 23,
   "metadata": {},
   "outputs": [
    {
     "data": {
      "text/plain": [
       "array([1.        , 1.        , 1.        , ..., 5.        , 4.69230769,\n",
       "       3.22222222], shape=(35471,))"
      ]
     },
     "execution_count": 23,
     "metadata": {},
     "output_type": "execute_result"
    }
   ],
   "source": [
    "np.concatenate([city_val, rating_val])"
   ]
  },
  {
   "cell_type": "code",
   "execution_count": 113,
   "metadata": {
    "id": "m2lP5NouGH7Q"
   },
   "outputs": [
    {
     "data": {
      "text/plain": [
       "<COOrdinate sparse matrix of dtype 'float64'\n",
       "\twith 191108 stored elements and shape (10605, 605)>"
      ]
     },
     "execution_count": 113,
     "metadata": {},
     "output_type": "execute_result"
    }
   ],
   "source": [
    "cat_data = cat_data_test\n",
    "\n",
    "data = np.array([5, 11])\n",
    "row = np.array([1, 3])\n",
    "col = np.array([2, 0])\n",
    "\n",
    "m = cat_data.shape[0]\n",
    "n = len(['city', 'rating', 'feature_other']) + len(allowed_features_dict) + len(allowed_rubrics_dict)\n",
    "\n",
    "\n",
    "city_row = cat_data[cat_data['city'] == 'msk'].index.to_numpy()\n",
    "city_col = np.full(len(city_row), 0)\n",
    "city_val = np.full(len(city_row), 1)\n",
    "\n",
    "rating_row = cat_data['rating'].index.to_numpy()\n",
    "rating_col = np.full(len(rating_row), 1)\n",
    "rating_val = cat_data['rating'].to_numpy()\n",
    "\n",
    "rubric_row = np.array(list(chain.from_iterable(cat_data.apply(lambda x: [x.name for i in x['rubrics_id'].split() ], axis=1))))\n",
    "rubric_col = np.array(list(chain.from_iterable(cat_data.apply(lambda x: [allowed_rubrics_dict[i] for i in x['rubrics_id'].split() ], axis=1))))\n",
    "rubric_val = np.full(len(rubric_row), 1)\n",
    "\n",
    "feature_row = np.array(list(chain.from_iterable(cat_data.apply(lambda x: [x.name for i in x['features_id'].split() if i in allowed_features_dict], axis=1))))\n",
    "feature_col = np.array(list(chain.from_iterable(cat_data.apply(lambda x: [allowed_features_dict[i] for i in x['features_id'].split() if i in allowed_features_dict], axis=1))))\n",
    "feature_val = np.full(len(feature_row), 1)\n",
    "\n",
    "other = cat_data.apply(lambda x: len([i for i in x['rubrics_id'].split() if i not in allowed_rubrics_dict.keys()]), axis=1) \n",
    "other_row = other[other != 0].index.to_numpy()\n",
    "other_col = np.full(len(other[other != 0]), n - 1)\n",
    "other_val = np.array(other[other != 0])\n",
    "\n",
    "data = np.concatenate([city_val, rating_val, rubric_val, feature_val, other_val])\n",
    "row = np.concatenate([city_row, rating_row, rubric_row, feature_row, other_row])\n",
    "col = np.concatenate([city_col, rating_col, rubric_col, feature_col, other_col])\n",
    "\n",
    "# Create a 4x4 sparse matrix\n",
    "sparse_data_test = coo_matrix((data, (row, col)), shape=(m, n))\n",
    "sparse_data_test"
   ]
  },
  {
   "cell_type": "code",
   "execution_count": 109,
   "metadata": {
    "id": "jpW6uR0oGH7Q"
   },
   "outputs": [
    {
     "name": "stdout",
     "output_type": "stream",
     "text": [
      "Learning rate set to 0.092536\n",
      "0:\tlearn: 1.4342624\ttotal: 166ms\tremaining: 2m 45s\n",
      "1:\tlearn: 1.3161737\ttotal: 197ms\tremaining: 1m 38s\n",
      "2:\tlearn: 1.2229277\ttotal: 233ms\tremaining: 1m 17s\n",
      "3:\tlearn: 1.1497351\ttotal: 272ms\tremaining: 1m 7s\n",
      "4:\tlearn: 1.0918334\ttotal: 306ms\tremaining: 1m\n",
      "5:\tlearn: 1.0461429\ttotal: 338ms\tremaining: 55.9s\n",
      "6:\tlearn: 1.0057269\ttotal: 371ms\tremaining: 52.7s\n",
      "7:\tlearn: 0.9679049\ttotal: 411ms\tremaining: 50.9s\n",
      "8:\tlearn: 0.9387442\ttotal: 443ms\tremaining: 48.8s\n",
      "9:\tlearn: 0.9116463\ttotal: 483ms\tremaining: 47.8s\n",
      "10:\tlearn: 0.8901845\ttotal: 522ms\tremaining: 46.9s\n",
      "11:\tlearn: 0.8707782\ttotal: 562ms\tremaining: 46.3s\n",
      "12:\tlearn: 0.8531091\ttotal: 604ms\tremaining: 45.9s\n",
      "13:\tlearn: 0.8361485\ttotal: 641ms\tremaining: 45.1s\n",
      "14:\tlearn: 0.8204410\ttotal: 679ms\tremaining: 44.6s\n",
      "15:\tlearn: 0.8055259\ttotal: 720ms\tremaining: 44.3s\n",
      "16:\tlearn: 0.7962903\ttotal: 766ms\tremaining: 44.3s\n",
      "17:\tlearn: 0.7861286\ttotal: 803ms\tremaining: 43.8s\n",
      "18:\tlearn: 0.7767888\ttotal: 837ms\tremaining: 43.2s\n",
      "19:\tlearn: 0.7676465\ttotal: 869ms\tremaining: 42.6s\n",
      "20:\tlearn: 0.7606351\ttotal: 898ms\tremaining: 41.9s\n",
      "21:\tlearn: 0.7541478\ttotal: 931ms\tremaining: 41.4s\n",
      "22:\tlearn: 0.7466275\ttotal: 1.04s\tremaining: 44.2s\n",
      "23:\tlearn: 0.7405933\ttotal: 1.09s\tremaining: 44.4s\n",
      "24:\tlearn: 0.7354879\ttotal: 1.13s\tremaining: 44s\n",
      "25:\tlearn: 0.7296365\ttotal: 1.18s\tremaining: 44.1s\n",
      "26:\tlearn: 0.7241299\ttotal: 1.22s\tremaining: 43.9s\n",
      "27:\tlearn: 0.7202071\ttotal: 1.25s\tremaining: 43.4s\n",
      "28:\tlearn: 0.7164907\ttotal: 1.28s\tremaining: 43s\n",
      "29:\tlearn: 0.7137181\ttotal: 1.32s\tremaining: 42.6s\n",
      "30:\tlearn: 0.7097549\ttotal: 1.35s\tremaining: 42.1s\n",
      "31:\tlearn: 0.7061465\ttotal: 1.38s\tremaining: 41.8s\n",
      "32:\tlearn: 0.7022126\ttotal: 1.44s\tremaining: 42.1s\n",
      "33:\tlearn: 0.6993068\ttotal: 1.47s\tremaining: 41.8s\n",
      "34:\tlearn: 0.6974716\ttotal: 1.5s\tremaining: 41.4s\n",
      "35:\tlearn: 0.6958629\ttotal: 1.53s\tremaining: 41.1s\n",
      "36:\tlearn: 0.6941640\ttotal: 1.56s\tremaining: 40.8s\n",
      "37:\tlearn: 0.6910782\ttotal: 1.6s\tremaining: 40.6s\n",
      "38:\tlearn: 0.6884853\ttotal: 1.64s\tremaining: 40.5s\n",
      "39:\tlearn: 0.6865321\ttotal: 1.68s\tremaining: 40.4s\n",
      "40:\tlearn: 0.6847696\ttotal: 1.72s\tremaining: 40.3s\n",
      "41:\tlearn: 0.6827250\ttotal: 1.76s\tremaining: 40.2s\n",
      "42:\tlearn: 0.6812826\ttotal: 1.8s\tremaining: 40s\n",
      "43:\tlearn: 0.6799604\ttotal: 1.83s\tremaining: 39.8s\n",
      "44:\tlearn: 0.6787015\ttotal: 1.86s\tremaining: 39.4s\n",
      "45:\tlearn: 0.6771331\ttotal: 1.89s\tremaining: 39.2s\n",
      "46:\tlearn: 0.6761189\ttotal: 1.92s\tremaining: 38.9s\n",
      "47:\tlearn: 0.6749167\ttotal: 1.95s\tremaining: 38.7s\n",
      "48:\tlearn: 0.6732913\ttotal: 1.99s\tremaining: 38.6s\n",
      "49:\tlearn: 0.6704795\ttotal: 2.03s\tremaining: 38.5s\n",
      "50:\tlearn: 0.6693427\ttotal: 2.06s\tremaining: 38.3s\n",
      "51:\tlearn: 0.6683198\ttotal: 2.09s\tremaining: 38.1s\n",
      "52:\tlearn: 0.6673601\ttotal: 2.12s\tremaining: 37.9s\n",
      "53:\tlearn: 0.6662678\ttotal: 2.15s\tremaining: 37.6s\n",
      "54:\tlearn: 0.6649150\ttotal: 2.17s\tremaining: 37.4s\n",
      "55:\tlearn: 0.6641861\ttotal: 2.2s\tremaining: 37.1s\n",
      "56:\tlearn: 0.6640219\ttotal: 2.23s\tremaining: 36.9s\n",
      "57:\tlearn: 0.6619475\ttotal: 2.27s\tremaining: 36.9s\n",
      "58:\tlearn: 0.6603122\ttotal: 2.31s\tremaining: 36.8s\n",
      "59:\tlearn: 0.6584727\ttotal: 2.34s\tremaining: 36.7s\n",
      "60:\tlearn: 0.6573925\ttotal: 2.37s\tremaining: 36.5s\n",
      "61:\tlearn: 0.6565379\ttotal: 2.4s\tremaining: 36.4s\n",
      "62:\tlearn: 0.6552846\ttotal: 2.44s\tremaining: 36.2s\n",
      "63:\tlearn: 0.6551687\ttotal: 2.46s\tremaining: 36s\n",
      "64:\tlearn: 0.6548183\ttotal: 2.49s\tremaining: 35.9s\n",
      "65:\tlearn: 0.6542993\ttotal: 2.52s\tremaining: 35.7s\n",
      "66:\tlearn: 0.6541440\ttotal: 2.55s\tremaining: 35.5s\n",
      "67:\tlearn: 0.6536032\ttotal: 2.58s\tremaining: 35.3s\n",
      "68:\tlearn: 0.6530652\ttotal: 2.61s\tremaining: 35.2s\n",
      "69:\tlearn: 0.6523066\ttotal: 2.63s\tremaining: 35s\n",
      "70:\tlearn: 0.6518642\ttotal: 2.66s\tremaining: 34.8s\n",
      "71:\tlearn: 0.6515260\ttotal: 2.69s\tremaining: 34.6s\n",
      "72:\tlearn: 0.6511643\ttotal: 2.72s\tremaining: 34.5s\n",
      "73:\tlearn: 0.6504586\ttotal: 2.75s\tremaining: 34.4s\n",
      "74:\tlearn: 0.6503142\ttotal: 2.77s\tremaining: 34.2s\n",
      "75:\tlearn: 0.6500221\ttotal: 2.8s\tremaining: 34.1s\n",
      "76:\tlearn: 0.6496581\ttotal: 2.83s\tremaining: 33.9s\n",
      "77:\tlearn: 0.6495164\ttotal: 2.85s\tremaining: 33.7s\n",
      "78:\tlearn: 0.6485685\ttotal: 2.88s\tremaining: 33.6s\n",
      "79:\tlearn: 0.6477463\ttotal: 2.92s\tremaining: 33.5s\n",
      "80:\tlearn: 0.6474735\ttotal: 2.94s\tremaining: 33.4s\n",
      "81:\tlearn: 0.6466315\ttotal: 2.97s\tremaining: 33.3s\n",
      "82:\tlearn: 0.6460511\ttotal: 3s\tremaining: 33.1s\n",
      "83:\tlearn: 0.6453783\ttotal: 3.03s\tremaining: 33s\n",
      "84:\tlearn: 0.6447593\ttotal: 3.06s\tremaining: 32.9s\n",
      "85:\tlearn: 0.6441659\ttotal: 3.09s\tremaining: 32.8s\n",
      "86:\tlearn: 0.6435665\ttotal: 3.12s\tremaining: 32.7s\n",
      "87:\tlearn: 0.6431876\ttotal: 3.15s\tremaining: 32.6s\n",
      "88:\tlearn: 0.6427782\ttotal: 3.17s\tremaining: 32.5s\n",
      "89:\tlearn: 0.6421341\ttotal: 3.2s\tremaining: 32.4s\n",
      "90:\tlearn: 0.6416198\ttotal: 3.23s\tremaining: 32.3s\n",
      "91:\tlearn: 0.6413672\ttotal: 3.26s\tremaining: 32.2s\n",
      "92:\tlearn: 0.6411178\ttotal: 3.29s\tremaining: 32s\n",
      "93:\tlearn: 0.6410341\ttotal: 3.31s\tremaining: 31.9s\n",
      "94:\tlearn: 0.6406559\ttotal: 3.34s\tremaining: 31.8s\n",
      "95:\tlearn: 0.6405566\ttotal: 3.37s\tremaining: 31.7s\n",
      "96:\tlearn: 0.6402716\ttotal: 3.4s\tremaining: 31.6s\n",
      "97:\tlearn: 0.6393607\ttotal: 3.43s\tremaining: 31.5s\n",
      "98:\tlearn: 0.6388154\ttotal: 3.46s\tremaining: 31.5s\n",
      "99:\tlearn: 0.6384773\ttotal: 3.49s\tremaining: 31.4s\n",
      "100:\tlearn: 0.6378028\ttotal: 3.52s\tremaining: 31.3s\n",
      "101:\tlearn: 0.6376342\ttotal: 3.55s\tremaining: 31.2s\n",
      "102:\tlearn: 0.6374856\ttotal: 3.57s\tremaining: 31.1s\n",
      "103:\tlearn: 0.6369366\ttotal: 3.61s\tremaining: 31.1s\n",
      "104:\tlearn: 0.6363815\ttotal: 3.64s\tremaining: 31s\n",
      "105:\tlearn: 0.6356926\ttotal: 3.67s\tremaining: 30.9s\n",
      "106:\tlearn: 0.6351843\ttotal: 3.69s\tremaining: 30.8s\n",
      "107:\tlearn: 0.6344610\ttotal: 3.73s\tremaining: 30.8s\n",
      "108:\tlearn: 0.6342731\ttotal: 3.75s\tremaining: 30.7s\n",
      "109:\tlearn: 0.6338425\ttotal: 3.78s\tremaining: 30.6s\n",
      "110:\tlearn: 0.6331312\ttotal: 3.81s\tremaining: 30.5s\n",
      "111:\tlearn: 0.6327531\ttotal: 3.84s\tremaining: 30.4s\n",
      "112:\tlearn: 0.6321153\ttotal: 3.87s\tremaining: 30.4s\n",
      "113:\tlearn: 0.6315018\ttotal: 3.9s\tremaining: 30.3s\n",
      "114:\tlearn: 0.6310899\ttotal: 3.93s\tremaining: 30.2s\n",
      "115:\tlearn: 0.6310066\ttotal: 3.96s\tremaining: 30.1s\n",
      "116:\tlearn: 0.6305923\ttotal: 3.99s\tremaining: 30.1s\n",
      "117:\tlearn: 0.6305287\ttotal: 4.01s\tremaining: 30s\n",
      "118:\tlearn: 0.6299337\ttotal: 4.05s\tremaining: 30s\n",
      "119:\tlearn: 0.6292293\ttotal: 4.08s\tremaining: 29.9s\n",
      "120:\tlearn: 0.6289846\ttotal: 4.11s\tremaining: 29.9s\n",
      "121:\tlearn: 0.6288099\ttotal: 4.14s\tremaining: 29.8s\n",
      "122:\tlearn: 0.6285043\ttotal: 4.17s\tremaining: 29.7s\n",
      "123:\tlearn: 0.6277422\ttotal: 4.2s\tremaining: 29.7s\n",
      "124:\tlearn: 0.6273628\ttotal: 4.23s\tremaining: 29.6s\n",
      "125:\tlearn: 0.6271161\ttotal: 4.25s\tremaining: 29.5s\n",
      "126:\tlearn: 0.6266800\ttotal: 4.29s\tremaining: 29.5s\n",
      "127:\tlearn: 0.6261888\ttotal: 4.31s\tremaining: 29.4s\n",
      "128:\tlearn: 0.6254362\ttotal: 4.34s\tremaining: 29.3s\n",
      "129:\tlearn: 0.6247610\ttotal: 4.38s\tremaining: 29.3s\n",
      "130:\tlearn: 0.6245822\ttotal: 4.41s\tremaining: 29.2s\n",
      "131:\tlearn: 0.6242436\ttotal: 4.44s\tremaining: 29.2s\n",
      "132:\tlearn: 0.6239726\ttotal: 4.46s\tremaining: 29.1s\n",
      "133:\tlearn: 0.6234530\ttotal: 4.5s\tremaining: 29.1s\n",
      "134:\tlearn: 0.6232708\ttotal: 4.52s\tremaining: 29s\n",
      "135:\tlearn: 0.6227283\ttotal: 4.56s\tremaining: 28.9s\n",
      "136:\tlearn: 0.6223662\ttotal: 4.59s\tremaining: 28.9s\n",
      "137:\tlearn: 0.6215276\ttotal: 4.62s\tremaining: 28.9s\n",
      "138:\tlearn: 0.6211968\ttotal: 4.65s\tremaining: 28.8s\n",
      "139:\tlearn: 0.6207742\ttotal: 4.68s\tremaining: 28.8s\n",
      "140:\tlearn: 0.6206030\ttotal: 4.71s\tremaining: 28.7s\n",
      "141:\tlearn: 0.6203152\ttotal: 4.74s\tremaining: 28.6s\n",
      "142:\tlearn: 0.6198110\ttotal: 4.77s\tremaining: 28.6s\n",
      "143:\tlearn: 0.6194305\ttotal: 4.8s\tremaining: 28.5s\n",
      "144:\tlearn: 0.6190854\ttotal: 4.83s\tremaining: 28.5s\n",
      "145:\tlearn: 0.6187970\ttotal: 4.86s\tremaining: 28.5s\n",
      "146:\tlearn: 0.6186997\ttotal: 4.89s\tremaining: 28.4s\n",
      "147:\tlearn: 0.6183668\ttotal: 4.92s\tremaining: 28.3s\n",
      "148:\tlearn: 0.6181581\ttotal: 4.95s\tremaining: 28.3s\n",
      "149:\tlearn: 0.6176919\ttotal: 4.98s\tremaining: 28.2s\n",
      "150:\tlearn: 0.6171616\ttotal: 5.01s\tremaining: 28.2s\n",
      "151:\tlearn: 0.6163849\ttotal: 5.04s\tremaining: 28.1s\n",
      "152:\tlearn: 0.6156936\ttotal: 5.08s\tremaining: 28.1s\n",
      "153:\tlearn: 0.6148599\ttotal: 5.11s\tremaining: 28.1s\n",
      "154:\tlearn: 0.6147274\ttotal: 5.14s\tremaining: 28s\n",
      "155:\tlearn: 0.6145817\ttotal: 5.17s\tremaining: 28s\n",
      "156:\tlearn: 0.6139343\ttotal: 5.2s\tremaining: 27.9s\n",
      "157:\tlearn: 0.6133588\ttotal: 5.23s\tremaining: 27.9s\n",
      "158:\tlearn: 0.6131468\ttotal: 5.26s\tremaining: 27.8s\n",
      "159:\tlearn: 0.6130329\ttotal: 5.29s\tremaining: 27.8s\n",
      "160:\tlearn: 0.6127985\ttotal: 5.32s\tremaining: 27.7s\n",
      "161:\tlearn: 0.6127254\ttotal: 5.34s\tremaining: 27.6s\n",
      "162:\tlearn: 0.6125657\ttotal: 5.37s\tremaining: 27.6s\n",
      "163:\tlearn: 0.6124798\ttotal: 5.4s\tremaining: 27.5s\n",
      "164:\tlearn: 0.6124021\ttotal: 5.42s\tremaining: 27.5s\n",
      "165:\tlearn: 0.6120877\ttotal: 5.45s\tremaining: 27.4s\n",
      "166:\tlearn: 0.6119993\ttotal: 5.48s\tremaining: 27.3s\n",
      "167:\tlearn: 0.6119681\ttotal: 5.51s\tremaining: 27.3s\n",
      "168:\tlearn: 0.6117856\ttotal: 5.54s\tremaining: 27.2s\n",
      "169:\tlearn: 0.6114568\ttotal: 5.57s\tremaining: 27.2s\n",
      "170:\tlearn: 0.6112307\ttotal: 5.6s\tremaining: 27.1s\n",
      "171:\tlearn: 0.6110957\ttotal: 5.63s\tremaining: 27.1s\n",
      "172:\tlearn: 0.6108470\ttotal: 5.65s\tremaining: 27s\n",
      "173:\tlearn: 0.6107492\ttotal: 5.68s\tremaining: 27s\n",
      "174:\tlearn: 0.6103212\ttotal: 5.72s\tremaining: 27s\n",
      "175:\tlearn: 0.6101352\ttotal: 5.75s\tremaining: 26.9s\n",
      "176:\tlearn: 0.6097856\ttotal: 5.78s\tremaining: 26.9s\n",
      "177:\tlearn: 0.6096413\ttotal: 5.8s\tremaining: 26.8s\n",
      "178:\tlearn: 0.6095262\ttotal: 5.83s\tremaining: 26.7s\n",
      "179:\tlearn: 0.6094270\ttotal: 5.86s\tremaining: 26.7s\n",
      "180:\tlearn: 0.6093765\ttotal: 5.88s\tremaining: 26.6s\n",
      "181:\tlearn: 0.6091833\ttotal: 5.91s\tremaining: 26.6s\n",
      "182:\tlearn: 0.6088358\ttotal: 5.94s\tremaining: 26.5s\n",
      "183:\tlearn: 0.6086408\ttotal: 5.97s\tremaining: 26.5s\n",
      "184:\tlearn: 0.6084528\ttotal: 6s\tremaining: 26.4s\n",
      "185:\tlearn: 0.6083184\ttotal: 6.03s\tremaining: 26.4s\n",
      "186:\tlearn: 0.6082813\ttotal: 6.05s\tremaining: 26.3s\n",
      "187:\tlearn: 0.6079133\ttotal: 6.09s\tremaining: 26.3s\n",
      "188:\tlearn: 0.6077802\ttotal: 6.11s\tremaining: 26.2s\n",
      "189:\tlearn: 0.6073826\ttotal: 6.14s\tremaining: 26.2s\n",
      "190:\tlearn: 0.6073141\ttotal: 6.18s\tremaining: 26.2s\n",
      "191:\tlearn: 0.6072901\ttotal: 6.21s\tremaining: 26.1s\n",
      "192:\tlearn: 0.6071909\ttotal: 6.24s\tremaining: 26.1s\n",
      "193:\tlearn: 0.6070798\ttotal: 6.26s\tremaining: 26s\n",
      "194:\tlearn: 0.6070466\ttotal: 6.29s\tremaining: 26s\n",
      "195:\tlearn: 0.6069793\ttotal: 6.31s\tremaining: 25.9s\n",
      "196:\tlearn: 0.6067687\ttotal: 6.34s\tremaining: 25.9s\n",
      "197:\tlearn: 0.6064727\ttotal: 6.37s\tremaining: 25.8s\n",
      "198:\tlearn: 0.6060943\ttotal: 6.41s\tremaining: 25.8s\n",
      "199:\tlearn: 0.6060432\ttotal: 6.44s\tremaining: 25.8s\n",
      "200:\tlearn: 0.6058648\ttotal: 6.46s\tremaining: 25.7s\n",
      "201:\tlearn: 0.6057656\ttotal: 6.49s\tremaining: 25.6s\n",
      "202:\tlearn: 0.6056727\ttotal: 6.52s\tremaining: 25.6s\n",
      "203:\tlearn: 0.6055018\ttotal: 6.55s\tremaining: 25.6s\n",
      "204:\tlearn: 0.6053890\ttotal: 6.58s\tremaining: 25.5s\n",
      "205:\tlearn: 0.6052362\ttotal: 6.61s\tremaining: 25.5s\n",
      "206:\tlearn: 0.6049110\ttotal: 6.65s\tremaining: 25.5s\n",
      "207:\tlearn: 0.6047513\ttotal: 6.68s\tremaining: 25.4s\n",
      "208:\tlearn: 0.6046905\ttotal: 6.71s\tremaining: 25.4s\n",
      "209:\tlearn: 0.6043346\ttotal: 6.74s\tremaining: 25.4s\n",
      "210:\tlearn: 0.6039067\ttotal: 6.78s\tremaining: 25.3s\n",
      "211:\tlearn: 0.6037533\ttotal: 6.81s\tremaining: 25.3s\n",
      "212:\tlearn: 0.6035813\ttotal: 6.84s\tremaining: 25.3s\n",
      "213:\tlearn: 0.6034733\ttotal: 6.87s\tremaining: 25.2s\n",
      "214:\tlearn: 0.6034288\ttotal: 6.9s\tremaining: 25.2s\n",
      "215:\tlearn: 0.6032878\ttotal: 6.93s\tremaining: 25.2s\n",
      "216:\tlearn: 0.6030703\ttotal: 6.96s\tremaining: 25.1s\n",
      "217:\tlearn: 0.6029622\ttotal: 6.99s\tremaining: 25.1s\n",
      "218:\tlearn: 0.6023039\ttotal: 7.02s\tremaining: 25s\n",
      "219:\tlearn: 0.6021858\ttotal: 7.05s\tremaining: 25s\n",
      "220:\tlearn: 0.6018830\ttotal: 7.09s\tremaining: 25s\n",
      "221:\tlearn: 0.6017272\ttotal: 7.12s\tremaining: 25s\n",
      "222:\tlearn: 0.6016594\ttotal: 7.15s\tremaining: 24.9s\n",
      "223:\tlearn: 0.6015946\ttotal: 7.19s\tremaining: 24.9s\n",
      "224:\tlearn: 0.6015204\ttotal: 7.22s\tremaining: 24.9s\n",
      "225:\tlearn: 0.6013954\ttotal: 7.25s\tremaining: 24.8s\n",
      "226:\tlearn: 0.6012651\ttotal: 7.28s\tremaining: 24.8s\n",
      "227:\tlearn: 0.6011589\ttotal: 7.31s\tremaining: 24.8s\n",
      "228:\tlearn: 0.6008083\ttotal: 7.34s\tremaining: 24.7s\n",
      "229:\tlearn: 0.6006532\ttotal: 7.37s\tremaining: 24.7s\n",
      "230:\tlearn: 0.6004933\ttotal: 7.41s\tremaining: 24.7s\n",
      "231:\tlearn: 0.6000524\ttotal: 7.44s\tremaining: 24.6s\n",
      "232:\tlearn: 0.5994885\ttotal: 7.48s\tremaining: 24.6s\n",
      "233:\tlearn: 0.5993735\ttotal: 7.51s\tremaining: 24.6s\n",
      "234:\tlearn: 0.5991091\ttotal: 7.54s\tremaining: 24.6s\n",
      "235:\tlearn: 0.5988010\ttotal: 7.59s\tremaining: 24.6s\n",
      "236:\tlearn: 0.5987113\ttotal: 7.63s\tremaining: 24.6s\n",
      "237:\tlearn: 0.5986271\ttotal: 7.66s\tremaining: 24.5s\n",
      "238:\tlearn: 0.5983989\ttotal: 7.7s\tremaining: 24.5s\n",
      "239:\tlearn: 0.5980914\ttotal: 7.73s\tremaining: 24.5s\n",
      "240:\tlearn: 0.5980438\ttotal: 7.77s\tremaining: 24.5s\n",
      "241:\tlearn: 0.5975959\ttotal: 7.8s\tremaining: 24.4s\n",
      "242:\tlearn: 0.5973761\ttotal: 7.83s\tremaining: 24.4s\n",
      "243:\tlearn: 0.5973349\ttotal: 7.86s\tremaining: 24.4s\n",
      "244:\tlearn: 0.5970780\ttotal: 7.91s\tremaining: 24.4s\n",
      "245:\tlearn: 0.5965715\ttotal: 7.94s\tremaining: 24.3s\n",
      "246:\tlearn: 0.5962741\ttotal: 7.98s\tremaining: 24.3s\n",
      "247:\tlearn: 0.5961302\ttotal: 8.02s\tremaining: 24.3s\n",
      "248:\tlearn: 0.5956787\ttotal: 8.05s\tremaining: 24.3s\n",
      "249:\tlearn: 0.5954270\ttotal: 8.08s\tremaining: 24.3s\n",
      "250:\tlearn: 0.5950486\ttotal: 8.12s\tremaining: 24.2s\n",
      "251:\tlearn: 0.5949458\ttotal: 8.15s\tremaining: 24.2s\n",
      "252:\tlearn: 0.5948570\ttotal: 8.19s\tremaining: 24.2s\n",
      "253:\tlearn: 0.5947425\ttotal: 8.22s\tremaining: 24.1s\n",
      "254:\tlearn: 0.5944923\ttotal: 8.27s\tremaining: 24.2s\n",
      "255:\tlearn: 0.5942460\ttotal: 8.3s\tremaining: 24.1s\n",
      "256:\tlearn: 0.5940772\ttotal: 8.33s\tremaining: 24.1s\n",
      "257:\tlearn: 0.5940575\ttotal: 8.36s\tremaining: 24s\n",
      "258:\tlearn: 0.5939187\ttotal: 8.39s\tremaining: 24s\n",
      "259:\tlearn: 0.5936823\ttotal: 8.43s\tremaining: 24s\n",
      "260:\tlearn: 0.5936183\ttotal: 8.45s\tremaining: 23.9s\n",
      "261:\tlearn: 0.5934433\ttotal: 8.48s\tremaining: 23.9s\n",
      "262:\tlearn: 0.5932427\ttotal: 8.51s\tremaining: 23.9s\n",
      "263:\tlearn: 0.5929932\ttotal: 8.54s\tremaining: 23.8s\n",
      "264:\tlearn: 0.5928080\ttotal: 8.58s\tremaining: 23.8s\n",
      "265:\tlearn: 0.5927618\ttotal: 8.62s\tremaining: 23.8s\n",
      "266:\tlearn: 0.5926378\ttotal: 8.64s\tremaining: 23.7s\n",
      "267:\tlearn: 0.5925983\ttotal: 8.67s\tremaining: 23.7s\n",
      "268:\tlearn: 0.5922900\ttotal: 8.7s\tremaining: 23.7s\n",
      "269:\tlearn: 0.5921913\ttotal: 8.73s\tremaining: 23.6s\n",
      "270:\tlearn: 0.5921516\ttotal: 8.76s\tremaining: 23.6s\n",
      "271:\tlearn: 0.5921141\ttotal: 8.79s\tremaining: 23.5s\n",
      "272:\tlearn: 0.5920607\ttotal: 8.82s\tremaining: 23.5s\n",
      "273:\tlearn: 0.5919049\ttotal: 8.85s\tremaining: 23.4s\n",
      "274:\tlearn: 0.5917052\ttotal: 8.88s\tremaining: 23.4s\n",
      "275:\tlearn: 0.5916882\ttotal: 8.9s\tremaining: 23.4s\n",
      "276:\tlearn: 0.5915236\ttotal: 8.94s\tremaining: 23.3s\n",
      "277:\tlearn: 0.5912088\ttotal: 8.96s\tremaining: 23.3s\n",
      "278:\tlearn: 0.5910500\ttotal: 8.99s\tremaining: 23.2s\n",
      "279:\tlearn: 0.5910026\ttotal: 9.02s\tremaining: 23.2s\n",
      "280:\tlearn: 0.5907995\ttotal: 9.06s\tremaining: 23.2s\n",
      "281:\tlearn: 0.5907251\ttotal: 9.14s\tremaining: 23.3s\n",
      "282:\tlearn: 0.5905863\ttotal: 9.18s\tremaining: 23.3s\n",
      "283:\tlearn: 0.5904011\ttotal: 9.22s\tremaining: 23.2s\n",
      "284:\tlearn: 0.5902723\ttotal: 9.25s\tremaining: 23.2s\n",
      "285:\tlearn: 0.5900894\ttotal: 9.28s\tremaining: 23.2s\n",
      "286:\tlearn: 0.5900467\ttotal: 9.31s\tremaining: 23.1s\n",
      "287:\tlearn: 0.5899836\ttotal: 9.34s\tremaining: 23.1s\n",
      "288:\tlearn: 0.5899500\ttotal: 9.36s\tremaining: 23s\n",
      "289:\tlearn: 0.5898135\ttotal: 9.39s\tremaining: 23s\n",
      "290:\tlearn: 0.5897392\ttotal: 9.42s\tremaining: 23s\n",
      "291:\tlearn: 0.5893944\ttotal: 9.45s\tremaining: 22.9s\n",
      "292:\tlearn: 0.5893248\ttotal: 9.48s\tremaining: 22.9s\n",
      "293:\tlearn: 0.5893067\ttotal: 9.51s\tremaining: 22.8s\n",
      "294:\tlearn: 0.5890446\ttotal: 9.54s\tremaining: 22.8s\n",
      "295:\tlearn: 0.5889081\ttotal: 9.58s\tremaining: 22.8s\n",
      "296:\tlearn: 0.5886295\ttotal: 9.61s\tremaining: 22.7s\n",
      "297:\tlearn: 0.5885686\ttotal: 9.64s\tremaining: 22.7s\n",
      "298:\tlearn: 0.5881718\ttotal: 9.67s\tremaining: 22.7s\n",
      "299:\tlearn: 0.5878139\ttotal: 9.7s\tremaining: 22.6s\n",
      "300:\tlearn: 0.5877040\ttotal: 9.73s\tremaining: 22.6s\n",
      "301:\tlearn: 0.5874366\ttotal: 9.77s\tremaining: 22.6s\n",
      "302:\tlearn: 0.5872834\ttotal: 9.79s\tremaining: 22.5s\n",
      "303:\tlearn: 0.5866952\ttotal: 9.83s\tremaining: 22.5s\n",
      "304:\tlearn: 0.5866684\ttotal: 9.85s\tremaining: 22.5s\n",
      "305:\tlearn: 0.5866595\ttotal: 9.88s\tremaining: 22.4s\n",
      "306:\tlearn: 0.5865472\ttotal: 9.91s\tremaining: 22.4s\n",
      "307:\tlearn: 0.5865072\ttotal: 9.94s\tremaining: 22.3s\n",
      "308:\tlearn: 0.5862178\ttotal: 9.98s\tremaining: 22.3s\n",
      "309:\tlearn: 0.5861808\ttotal: 10s\tremaining: 22.3s\n",
      "310:\tlearn: 0.5860883\ttotal: 10s\tremaining: 22.2s\n",
      "311:\tlearn: 0.5858788\ttotal: 10.1s\tremaining: 22.2s\n",
      "312:\tlearn: 0.5858270\ttotal: 10.1s\tremaining: 22.2s\n",
      "313:\tlearn: 0.5857961\ttotal: 10.1s\tremaining: 22.1s\n",
      "314:\tlearn: 0.5855302\ttotal: 10.2s\tremaining: 22.1s\n",
      "315:\tlearn: 0.5853890\ttotal: 10.2s\tremaining: 22.1s\n",
      "316:\tlearn: 0.5851747\ttotal: 10.2s\tremaining: 22s\n",
      "317:\tlearn: 0.5851414\ttotal: 10.3s\tremaining: 22s\n",
      "318:\tlearn: 0.5848552\ttotal: 10.3s\tremaining: 22s\n",
      "319:\tlearn: 0.5847078\ttotal: 10.3s\tremaining: 21.9s\n",
      "320:\tlearn: 0.5844498\ttotal: 10.3s\tremaining: 21.9s\n",
      "321:\tlearn: 0.5843624\ttotal: 10.4s\tremaining: 21.9s\n",
      "322:\tlearn: 0.5843228\ttotal: 10.4s\tremaining: 21.8s\n",
      "323:\tlearn: 0.5842604\ttotal: 10.4s\tremaining: 21.8s\n",
      "324:\tlearn: 0.5840982\ttotal: 10.5s\tremaining: 21.7s\n",
      "325:\tlearn: 0.5840314\ttotal: 10.5s\tremaining: 21.7s\n",
      "326:\tlearn: 0.5839231\ttotal: 10.5s\tremaining: 21.7s\n",
      "327:\tlearn: 0.5837087\ttotal: 10.6s\tremaining: 21.6s\n",
      "328:\tlearn: 0.5833154\ttotal: 10.6s\tremaining: 21.6s\n",
      "329:\tlearn: 0.5832255\ttotal: 10.6s\tremaining: 21.6s\n",
      "330:\tlearn: 0.5831474\ttotal: 10.7s\tremaining: 21.6s\n",
      "331:\tlearn: 0.5829835\ttotal: 10.7s\tremaining: 21.5s\n",
      "332:\tlearn: 0.5825700\ttotal: 10.8s\tremaining: 21.5s\n",
      "333:\tlearn: 0.5825217\ttotal: 10.8s\tremaining: 21.5s\n",
      "334:\tlearn: 0.5823692\ttotal: 10.8s\tremaining: 21.5s\n",
      "335:\tlearn: 0.5821687\ttotal: 10.9s\tremaining: 21.4s\n",
      "336:\tlearn: 0.5819832\ttotal: 10.9s\tremaining: 21.4s\n",
      "337:\tlearn: 0.5819602\ttotal: 10.9s\tremaining: 21.4s\n",
      "338:\tlearn: 0.5818644\ttotal: 10.9s\tremaining: 21.3s\n",
      "339:\tlearn: 0.5818382\ttotal: 11s\tremaining: 21.3s\n",
      "340:\tlearn: 0.5816407\ttotal: 11s\tremaining: 21.3s\n",
      "341:\tlearn: 0.5816320\ttotal: 11s\tremaining: 21.2s\n",
      "342:\tlearn: 0.5813896\ttotal: 11.1s\tremaining: 21.2s\n",
      "343:\tlearn: 0.5813412\ttotal: 11.1s\tremaining: 21.2s\n",
      "344:\tlearn: 0.5812824\ttotal: 11.1s\tremaining: 21.1s\n",
      "345:\tlearn: 0.5811240\ttotal: 11.2s\tremaining: 21.1s\n",
      "346:\tlearn: 0.5806511\ttotal: 11.2s\tremaining: 21.1s\n",
      "347:\tlearn: 0.5805545\ttotal: 11.2s\tremaining: 21s\n",
      "348:\tlearn: 0.5803364\ttotal: 11.3s\tremaining: 21s\n",
      "349:\tlearn: 0.5802999\ttotal: 11.3s\tremaining: 21s\n",
      "350:\tlearn: 0.5799526\ttotal: 11.3s\tremaining: 20.9s\n",
      "351:\tlearn: 0.5799150\ttotal: 11.3s\tremaining: 20.9s\n",
      "352:\tlearn: 0.5798712\ttotal: 11.4s\tremaining: 20.8s\n",
      "353:\tlearn: 0.5798362\ttotal: 11.4s\tremaining: 20.8s\n",
      "354:\tlearn: 0.5796721\ttotal: 11.4s\tremaining: 20.8s\n",
      "355:\tlearn: 0.5795884\ttotal: 11.5s\tremaining: 20.7s\n",
      "356:\tlearn: 0.5795657\ttotal: 11.5s\tremaining: 20.7s\n",
      "357:\tlearn: 0.5793376\ttotal: 11.5s\tremaining: 20.7s\n",
      "358:\tlearn: 0.5791924\ttotal: 11.6s\tremaining: 20.6s\n",
      "359:\tlearn: 0.5787937\ttotal: 11.6s\tremaining: 20.6s\n",
      "360:\tlearn: 0.5787280\ttotal: 11.6s\tremaining: 20.6s\n",
      "361:\tlearn: 0.5787141\ttotal: 11.6s\tremaining: 20.5s\n",
      "362:\tlearn: 0.5784813\ttotal: 11.7s\tremaining: 20.5s\n",
      "363:\tlearn: 0.5782796\ttotal: 11.7s\tremaining: 20.5s\n",
      "364:\tlearn: 0.5778995\ttotal: 11.7s\tremaining: 20.4s\n",
      "365:\tlearn: 0.5777822\ttotal: 11.8s\tremaining: 20.4s\n",
      "366:\tlearn: 0.5777432\ttotal: 11.8s\tremaining: 20.4s\n",
      "367:\tlearn: 0.5776195\ttotal: 11.8s\tremaining: 20.3s\n",
      "368:\tlearn: 0.5775319\ttotal: 11.9s\tremaining: 20.3s\n",
      "369:\tlearn: 0.5772129\ttotal: 11.9s\tremaining: 20.2s\n",
      "370:\tlearn: 0.5771767\ttotal: 11.9s\tremaining: 20.2s\n",
      "371:\tlearn: 0.5770333\ttotal: 12s\tremaining: 20.2s\n",
      "372:\tlearn: 0.5767150\ttotal: 12s\tremaining: 20.1s\n",
      "373:\tlearn: 0.5766651\ttotal: 12s\tremaining: 20.1s\n",
      "374:\tlearn: 0.5766063\ttotal: 12s\tremaining: 20.1s\n",
      "375:\tlearn: 0.5764869\ttotal: 12.1s\tremaining: 20s\n",
      "376:\tlearn: 0.5764378\ttotal: 12.1s\tremaining: 20s\n",
      "377:\tlearn: 0.5763685\ttotal: 12.1s\tremaining: 20s\n",
      "378:\tlearn: 0.5763158\ttotal: 12.2s\tremaining: 19.9s\n",
      "379:\tlearn: 0.5762337\ttotal: 12.2s\tremaining: 19.9s\n",
      "380:\tlearn: 0.5761151\ttotal: 12.2s\tremaining: 19.9s\n",
      "381:\tlearn: 0.5759375\ttotal: 12.3s\tremaining: 19.8s\n",
      "382:\tlearn: 0.5758400\ttotal: 12.3s\tremaining: 19.8s\n",
      "383:\tlearn: 0.5755290\ttotal: 12.3s\tremaining: 19.8s\n",
      "384:\tlearn: 0.5752487\ttotal: 12.3s\tremaining: 19.7s\n",
      "385:\tlearn: 0.5752002\ttotal: 12.4s\tremaining: 19.7s\n",
      "386:\tlearn: 0.5748864\ttotal: 12.4s\tremaining: 19.7s\n",
      "387:\tlearn: 0.5748381\ttotal: 12.4s\tremaining: 19.6s\n",
      "388:\tlearn: 0.5747736\ttotal: 12.5s\tremaining: 19.6s\n",
      "389:\tlearn: 0.5745485\ttotal: 12.5s\tremaining: 19.6s\n",
      "390:\tlearn: 0.5742915\ttotal: 12.5s\tremaining: 19.5s\n",
      "391:\tlearn: 0.5742127\ttotal: 12.6s\tremaining: 19.5s\n",
      "392:\tlearn: 0.5740503\ttotal: 12.6s\tremaining: 19.5s\n",
      "393:\tlearn: 0.5738843\ttotal: 12.7s\tremaining: 19.5s\n",
      "394:\tlearn: 0.5738320\ttotal: 12.7s\tremaining: 19.4s\n",
      "395:\tlearn: 0.5738191\ttotal: 12.7s\tremaining: 19.4s\n",
      "396:\tlearn: 0.5738080\ttotal: 12.7s\tremaining: 19.4s\n",
      "397:\tlearn: 0.5737357\ttotal: 12.8s\tremaining: 19.3s\n",
      "398:\tlearn: 0.5736968\ttotal: 12.8s\tremaining: 19.3s\n",
      "399:\tlearn: 0.5735215\ttotal: 12.8s\tremaining: 19.3s\n",
      "400:\tlearn: 0.5734912\ttotal: 12.9s\tremaining: 19.2s\n",
      "401:\tlearn: 0.5734772\ttotal: 12.9s\tremaining: 19.2s\n",
      "402:\tlearn: 0.5733930\ttotal: 12.9s\tremaining: 19.1s\n",
      "403:\tlearn: 0.5730693\ttotal: 13s\tremaining: 19.1s\n",
      "404:\tlearn: 0.5729529\ttotal: 13s\tremaining: 19.1s\n",
      "405:\tlearn: 0.5726474\ttotal: 13s\tremaining: 19.1s\n",
      "406:\tlearn: 0.5726271\ttotal: 13.1s\tremaining: 19s\n",
      "407:\tlearn: 0.5723014\ttotal: 13.1s\tremaining: 19s\n",
      "408:\tlearn: 0.5720986\ttotal: 13.1s\tremaining: 19s\n",
      "409:\tlearn: 0.5720815\ttotal: 13.1s\tremaining: 18.9s\n",
      "410:\tlearn: 0.5719007\ttotal: 13.2s\tremaining: 18.9s\n",
      "411:\tlearn: 0.5718660\ttotal: 13.2s\tremaining: 18.9s\n",
      "412:\tlearn: 0.5715571\ttotal: 13.2s\tremaining: 18.8s\n",
      "413:\tlearn: 0.5713998\ttotal: 13.3s\tremaining: 18.8s\n",
      "414:\tlearn: 0.5713402\ttotal: 13.3s\tremaining: 18.8s\n",
      "415:\tlearn: 0.5712147\ttotal: 13.3s\tremaining: 18.7s\n",
      "416:\tlearn: 0.5711676\ttotal: 13.4s\tremaining: 18.7s\n",
      "417:\tlearn: 0.5706868\ttotal: 13.4s\tremaining: 18.7s\n",
      "418:\tlearn: 0.5706618\ttotal: 13.4s\tremaining: 18.6s\n",
      "419:\tlearn: 0.5704257\ttotal: 13.5s\tremaining: 18.6s\n",
      "420:\tlearn: 0.5704121\ttotal: 13.5s\tremaining: 18.6s\n",
      "421:\tlearn: 0.5702582\ttotal: 13.5s\tremaining: 18.5s\n",
      "422:\tlearn: 0.5701615\ttotal: 13.6s\tremaining: 18.5s\n",
      "423:\tlearn: 0.5699492\ttotal: 13.6s\tremaining: 18.5s\n",
      "424:\tlearn: 0.5698200\ttotal: 13.6s\tremaining: 18.4s\n",
      "425:\tlearn: 0.5695785\ttotal: 13.6s\tremaining: 18.4s\n",
      "426:\tlearn: 0.5695251\ttotal: 13.7s\tremaining: 18.4s\n",
      "427:\tlearn: 0.5693483\ttotal: 13.7s\tremaining: 18.3s\n",
      "428:\tlearn: 0.5693023\ttotal: 13.8s\tremaining: 18.3s\n",
      "429:\tlearn: 0.5691655\ttotal: 13.8s\tremaining: 18.3s\n",
      "430:\tlearn: 0.5690665\ttotal: 13.8s\tremaining: 18.2s\n",
      "431:\tlearn: 0.5687120\ttotal: 13.8s\tremaining: 18.2s\n",
      "432:\tlearn: 0.5685292\ttotal: 13.9s\tremaining: 18.2s\n",
      "433:\tlearn: 0.5683215\ttotal: 13.9s\tremaining: 18.2s\n",
      "434:\tlearn: 0.5682287\ttotal: 14s\tremaining: 18.1s\n",
      "435:\tlearn: 0.5680134\ttotal: 14s\tremaining: 18.1s\n",
      "436:\tlearn: 0.5678286\ttotal: 14s\tremaining: 18.1s\n",
      "437:\tlearn: 0.5678100\ttotal: 14.1s\tremaining: 18s\n",
      "438:\tlearn: 0.5677529\ttotal: 14.1s\tremaining: 18s\n",
      "439:\tlearn: 0.5674467\ttotal: 14.1s\tremaining: 18s\n",
      "440:\tlearn: 0.5671758\ttotal: 14.2s\tremaining: 17.9s\n",
      "441:\tlearn: 0.5670732\ttotal: 14.2s\tremaining: 17.9s\n",
      "442:\tlearn: 0.5669290\ttotal: 14.2s\tremaining: 17.9s\n",
      "443:\tlearn: 0.5667092\ttotal: 14.3s\tremaining: 17.8s\n",
      "444:\tlearn: 0.5666557\ttotal: 14.3s\tremaining: 17.8s\n",
      "445:\tlearn: 0.5666176\ttotal: 14.3s\tremaining: 17.8s\n",
      "446:\tlearn: 0.5665798\ttotal: 14.3s\tremaining: 17.7s\n",
      "447:\tlearn: 0.5664514\ttotal: 14.4s\tremaining: 17.7s\n",
      "448:\tlearn: 0.5664120\ttotal: 14.4s\tremaining: 17.7s\n",
      "449:\tlearn: 0.5662349\ttotal: 14.4s\tremaining: 17.6s\n",
      "450:\tlearn: 0.5661119\ttotal: 14.5s\tremaining: 17.6s\n",
      "451:\tlearn: 0.5658046\ttotal: 14.5s\tremaining: 17.6s\n",
      "452:\tlearn: 0.5657946\ttotal: 14.5s\tremaining: 17.5s\n",
      "453:\tlearn: 0.5657314\ttotal: 14.6s\tremaining: 17.5s\n",
      "454:\tlearn: 0.5656929\ttotal: 14.6s\tremaining: 17.5s\n",
      "455:\tlearn: 0.5654803\ttotal: 14.6s\tremaining: 17.4s\n",
      "456:\tlearn: 0.5654002\ttotal: 14.7s\tremaining: 17.4s\n",
      "457:\tlearn: 0.5652393\ttotal: 14.7s\tremaining: 17.4s\n",
      "458:\tlearn: 0.5650970\ttotal: 14.7s\tremaining: 17.4s\n",
      "459:\tlearn: 0.5650648\ttotal: 14.8s\tremaining: 17.3s\n",
      "460:\tlearn: 0.5647649\ttotal: 14.8s\tremaining: 17.3s\n",
      "461:\tlearn: 0.5646804\ttotal: 14.8s\tremaining: 17.3s\n",
      "462:\tlearn: 0.5644983\ttotal: 14.9s\tremaining: 17.2s\n",
      "463:\tlearn: 0.5644350\ttotal: 14.9s\tremaining: 17.2s\n",
      "464:\tlearn: 0.5643724\ttotal: 14.9s\tremaining: 17.2s\n",
      "465:\tlearn: 0.5643637\ttotal: 14.9s\tremaining: 17.1s\n",
      "466:\tlearn: 0.5642685\ttotal: 15s\tremaining: 17.1s\n",
      "467:\tlearn: 0.5642143\ttotal: 15s\tremaining: 17.1s\n",
      "468:\tlearn: 0.5640657\ttotal: 15s\tremaining: 17s\n",
      "469:\tlearn: 0.5639707\ttotal: 15.1s\tremaining: 17s\n",
      "470:\tlearn: 0.5639379\ttotal: 15.1s\tremaining: 17s\n",
      "471:\tlearn: 0.5637923\ttotal: 15.1s\tremaining: 16.9s\n",
      "472:\tlearn: 0.5635792\ttotal: 15.2s\tremaining: 16.9s\n",
      "473:\tlearn: 0.5632704\ttotal: 15.2s\tremaining: 16.9s\n",
      "474:\tlearn: 0.5631908\ttotal: 15.2s\tremaining: 16.8s\n",
      "475:\tlearn: 0.5629444\ttotal: 15.3s\tremaining: 16.8s\n",
      "476:\tlearn: 0.5628894\ttotal: 15.3s\tremaining: 16.8s\n",
      "477:\tlearn: 0.5625579\ttotal: 15.3s\tremaining: 16.7s\n",
      "478:\tlearn: 0.5625043\ttotal: 15.4s\tremaining: 16.7s\n",
      "479:\tlearn: 0.5623692\ttotal: 15.4s\tremaining: 16.7s\n",
      "480:\tlearn: 0.5621271\ttotal: 15.4s\tremaining: 16.6s\n",
      "481:\tlearn: 0.5619530\ttotal: 15.5s\tremaining: 16.6s\n",
      "482:\tlearn: 0.5619246\ttotal: 15.5s\tremaining: 16.6s\n",
      "483:\tlearn: 0.5616191\ttotal: 15.5s\tremaining: 16.6s\n",
      "484:\tlearn: 0.5615530\ttotal: 15.6s\tremaining: 16.5s\n",
      "485:\tlearn: 0.5613981\ttotal: 15.6s\tremaining: 16.5s\n",
      "486:\tlearn: 0.5613743\ttotal: 15.6s\tremaining: 16.5s\n",
      "487:\tlearn: 0.5613353\ttotal: 15.7s\tremaining: 16.4s\n",
      "488:\tlearn: 0.5607771\ttotal: 15.7s\tremaining: 16.4s\n",
      "489:\tlearn: 0.5607074\ttotal: 15.7s\tremaining: 16.4s\n",
      "490:\tlearn: 0.5606077\ttotal: 15.8s\tremaining: 16.3s\n",
      "491:\tlearn: 0.5604368\ttotal: 15.8s\tremaining: 16.3s\n",
      "492:\tlearn: 0.5604119\ttotal: 15.8s\tremaining: 16.3s\n",
      "493:\tlearn: 0.5601961\ttotal: 15.9s\tremaining: 16.3s\n",
      "494:\tlearn: 0.5601616\ttotal: 15.9s\tremaining: 16.2s\n",
      "495:\tlearn: 0.5599611\ttotal: 15.9s\tremaining: 16.2s\n",
      "496:\tlearn: 0.5597478\ttotal: 16s\tremaining: 16.2s\n",
      "497:\tlearn: 0.5594787\ttotal: 16s\tremaining: 16.1s\n",
      "498:\tlearn: 0.5594670\ttotal: 16s\tremaining: 16.1s\n",
      "499:\tlearn: 0.5593084\ttotal: 16.1s\tremaining: 16.1s\n",
      "500:\tlearn: 0.5592832\ttotal: 16.1s\tremaining: 16s\n",
      "501:\tlearn: 0.5592427\ttotal: 16.1s\tremaining: 16s\n",
      "502:\tlearn: 0.5589042\ttotal: 16.1s\tremaining: 16s\n",
      "503:\tlearn: 0.5588602\ttotal: 16.2s\tremaining: 15.9s\n",
      "504:\tlearn: 0.5586893\ttotal: 16.2s\tremaining: 15.9s\n",
      "505:\tlearn: 0.5584890\ttotal: 16.3s\tremaining: 15.9s\n",
      "506:\tlearn: 0.5584302\ttotal: 16.3s\tremaining: 15.8s\n",
      "507:\tlearn: 0.5583409\ttotal: 16.3s\tremaining: 15.8s\n",
      "508:\tlearn: 0.5581277\ttotal: 16.3s\tremaining: 15.8s\n",
      "509:\tlearn: 0.5581143\ttotal: 16.4s\tremaining: 15.7s\n",
      "510:\tlearn: 0.5579695\ttotal: 16.4s\tremaining: 15.7s\n",
      "511:\tlearn: 0.5577968\ttotal: 16.5s\tremaining: 15.7s\n",
      "512:\tlearn: 0.5573740\ttotal: 16.5s\tremaining: 15.7s\n",
      "513:\tlearn: 0.5571246\ttotal: 16.5s\tremaining: 15.6s\n",
      "514:\tlearn: 0.5571135\ttotal: 16.6s\tremaining: 15.6s\n",
      "515:\tlearn: 0.5570680\ttotal: 16.6s\tremaining: 15.6s\n",
      "516:\tlearn: 0.5569227\ttotal: 16.6s\tremaining: 15.6s\n",
      "517:\tlearn: 0.5567465\ttotal: 16.7s\tremaining: 15.5s\n",
      "518:\tlearn: 0.5567235\ttotal: 16.7s\tremaining: 15.5s\n",
      "519:\tlearn: 0.5567107\ttotal: 16.7s\tremaining: 15.5s\n",
      "520:\tlearn: 0.5565850\ttotal: 16.8s\tremaining: 15.4s\n",
      "521:\tlearn: 0.5564778\ttotal: 16.8s\tremaining: 15.4s\n",
      "522:\tlearn: 0.5564523\ttotal: 16.8s\tremaining: 15.4s\n",
      "523:\tlearn: 0.5563213\ttotal: 16.9s\tremaining: 15.3s\n",
      "524:\tlearn: 0.5562489\ttotal: 16.9s\tremaining: 15.3s\n",
      "525:\tlearn: 0.5561340\ttotal: 16.9s\tremaining: 15.3s\n",
      "526:\tlearn: 0.5561272\ttotal: 17s\tremaining: 15.2s\n",
      "527:\tlearn: 0.5559818\ttotal: 17s\tremaining: 15.2s\n",
      "528:\tlearn: 0.5559313\ttotal: 17s\tremaining: 15.2s\n",
      "529:\tlearn: 0.5557945\ttotal: 17.1s\tremaining: 15.1s\n",
      "530:\tlearn: 0.5556950\ttotal: 17.1s\tremaining: 15.1s\n",
      "531:\tlearn: 0.5554746\ttotal: 17.1s\tremaining: 15.1s\n",
      "532:\tlearn: 0.5553730\ttotal: 17.2s\tremaining: 15s\n",
      "533:\tlearn: 0.5553580\ttotal: 17.2s\tremaining: 15s\n",
      "534:\tlearn: 0.5552958\ttotal: 17.2s\tremaining: 15s\n",
      "535:\tlearn: 0.5551753\ttotal: 17.3s\tremaining: 14.9s\n",
      "536:\tlearn: 0.5550321\ttotal: 17.3s\tremaining: 14.9s\n",
      "537:\tlearn: 0.5550041\ttotal: 17.3s\tremaining: 14.9s\n",
      "538:\tlearn: 0.5546717\ttotal: 17.4s\tremaining: 14.8s\n",
      "539:\tlearn: 0.5545268\ttotal: 17.4s\tremaining: 14.8s\n",
      "540:\tlearn: 0.5545078\ttotal: 17.4s\tremaining: 14.8s\n",
      "541:\tlearn: 0.5542669\ttotal: 17.5s\tremaining: 14.7s\n",
      "542:\tlearn: 0.5542533\ttotal: 17.5s\tremaining: 14.7s\n",
      "543:\tlearn: 0.5542437\ttotal: 17.5s\tremaining: 14.7s\n",
      "544:\tlearn: 0.5542362\ttotal: 17.5s\tremaining: 14.6s\n",
      "545:\tlearn: 0.5542273\ttotal: 17.6s\tremaining: 14.6s\n",
      "546:\tlearn: 0.5542170\ttotal: 17.6s\tremaining: 14.6s\n",
      "547:\tlearn: 0.5542057\ttotal: 17.6s\tremaining: 14.5s\n",
      "548:\tlearn: 0.5541379\ttotal: 17.7s\tremaining: 14.5s\n",
      "549:\tlearn: 0.5540988\ttotal: 17.7s\tremaining: 14.5s\n",
      "550:\tlearn: 0.5540919\ttotal: 17.7s\tremaining: 14.4s\n",
      "551:\tlearn: 0.5539710\ttotal: 17.7s\tremaining: 14.4s\n",
      "552:\tlearn: 0.5535630\ttotal: 17.8s\tremaining: 14.4s\n",
      "553:\tlearn: 0.5535108\ttotal: 17.8s\tremaining: 14.3s\n",
      "554:\tlearn: 0.5532843\ttotal: 17.8s\tremaining: 14.3s\n",
      "555:\tlearn: 0.5531666\ttotal: 17.9s\tremaining: 14.3s\n",
      "556:\tlearn: 0.5529289\ttotal: 17.9s\tremaining: 14.2s\n",
      "557:\tlearn: 0.5527306\ttotal: 17.9s\tremaining: 14.2s\n",
      "558:\tlearn: 0.5525927\ttotal: 18s\tremaining: 14.2s\n",
      "559:\tlearn: 0.5523654\ttotal: 18s\tremaining: 14.2s\n",
      "560:\tlearn: 0.5521988\ttotal: 18s\tremaining: 14.1s\n",
      "561:\tlearn: 0.5520002\ttotal: 18.1s\tremaining: 14.1s\n",
      "562:\tlearn: 0.5518901\ttotal: 18.1s\tremaining: 14.1s\n",
      "563:\tlearn: 0.5518205\ttotal: 18.1s\tremaining: 14s\n",
      "564:\tlearn: 0.5518003\ttotal: 18.2s\tremaining: 14s\n",
      "565:\tlearn: 0.5517734\ttotal: 18.2s\tremaining: 14s\n",
      "566:\tlearn: 0.5516317\ttotal: 18.2s\tremaining: 13.9s\n",
      "567:\tlearn: 0.5515868\ttotal: 18.3s\tremaining: 13.9s\n",
      "568:\tlearn: 0.5514220\ttotal: 18.3s\tremaining: 13.9s\n",
      "569:\tlearn: 0.5512887\ttotal: 18.3s\tremaining: 13.8s\n",
      "570:\tlearn: 0.5511529\ttotal: 18.4s\tremaining: 13.8s\n",
      "571:\tlearn: 0.5510904\ttotal: 18.4s\tremaining: 13.8s\n",
      "572:\tlearn: 0.5509727\ttotal: 18.4s\tremaining: 13.7s\n",
      "573:\tlearn: 0.5508603\ttotal: 18.5s\tremaining: 13.7s\n",
      "574:\tlearn: 0.5507161\ttotal: 18.5s\tremaining: 13.7s\n",
      "575:\tlearn: 0.5506855\ttotal: 18.5s\tremaining: 13.6s\n",
      "576:\tlearn: 0.5505560\ttotal: 18.6s\tremaining: 13.6s\n",
      "577:\tlearn: 0.5504970\ttotal: 18.6s\tremaining: 13.6s\n",
      "578:\tlearn: 0.5504760\ttotal: 18.6s\tremaining: 13.5s\n",
      "579:\tlearn: 0.5503322\ttotal: 18.7s\tremaining: 13.5s\n",
      "580:\tlearn: 0.5503182\ttotal: 18.7s\tremaining: 13.5s\n",
      "581:\tlearn: 0.5501967\ttotal: 18.7s\tremaining: 13.5s\n",
      "582:\tlearn: 0.5501043\ttotal: 18.8s\tremaining: 13.4s\n",
      "583:\tlearn: 0.5500301\ttotal: 18.8s\tremaining: 13.4s\n",
      "584:\tlearn: 0.5499407\ttotal: 18.9s\tremaining: 13.4s\n",
      "585:\tlearn: 0.5497980\ttotal: 18.9s\tremaining: 13.3s\n",
      "586:\tlearn: 0.5497170\ttotal: 18.9s\tremaining: 13.3s\n",
      "587:\tlearn: 0.5496344\ttotal: 19s\tremaining: 13.3s\n",
      "588:\tlearn: 0.5494247\ttotal: 19s\tremaining: 13.3s\n",
      "589:\tlearn: 0.5492613\ttotal: 19s\tremaining: 13.2s\n",
      "590:\tlearn: 0.5489382\ttotal: 19.1s\tremaining: 13.2s\n",
      "591:\tlearn: 0.5487506\ttotal: 19.1s\tremaining: 13.2s\n",
      "592:\tlearn: 0.5487109\ttotal: 19.1s\tremaining: 13.1s\n",
      "593:\tlearn: 0.5485349\ttotal: 19.2s\tremaining: 13.1s\n",
      "594:\tlearn: 0.5483770\ttotal: 19.2s\tremaining: 13.1s\n",
      "595:\tlearn: 0.5483084\ttotal: 19.2s\tremaining: 13s\n",
      "596:\tlearn: 0.5482796\ttotal: 19.3s\tremaining: 13s\n",
      "597:\tlearn: 0.5482491\ttotal: 19.3s\tremaining: 13s\n",
      "598:\tlearn: 0.5482382\ttotal: 19.3s\tremaining: 12.9s\n",
      "599:\tlearn: 0.5478470\ttotal: 19.4s\tremaining: 12.9s\n",
      "600:\tlearn: 0.5476077\ttotal: 19.4s\tremaining: 12.9s\n",
      "601:\tlearn: 0.5475459\ttotal: 19.4s\tremaining: 12.9s\n",
      "602:\tlearn: 0.5474540\ttotal: 19.5s\tremaining: 12.8s\n",
      "603:\tlearn: 0.5474478\ttotal: 19.5s\tremaining: 12.8s\n",
      "604:\tlearn: 0.5473578\ttotal: 19.5s\tremaining: 12.8s\n",
      "605:\tlearn: 0.5469557\ttotal: 19.6s\tremaining: 12.7s\n",
      "606:\tlearn: 0.5469190\ttotal: 19.6s\tremaining: 12.7s\n",
      "607:\tlearn: 0.5468222\ttotal: 19.6s\tremaining: 12.7s\n",
      "608:\tlearn: 0.5467456\ttotal: 19.7s\tremaining: 12.6s\n",
      "609:\tlearn: 0.5466133\ttotal: 19.7s\tremaining: 12.6s\n",
      "610:\tlearn: 0.5465675\ttotal: 19.8s\tremaining: 12.6s\n",
      "611:\tlearn: 0.5465618\ttotal: 19.8s\tremaining: 12.6s\n",
      "612:\tlearn: 0.5464679\ttotal: 19.9s\tremaining: 12.5s\n",
      "613:\tlearn: 0.5462419\ttotal: 19.9s\tremaining: 12.5s\n",
      "614:\tlearn: 0.5461891\ttotal: 19.9s\tremaining: 12.5s\n",
      "615:\tlearn: 0.5461716\ttotal: 20s\tremaining: 12.5s\n",
      "616:\tlearn: 0.5461613\ttotal: 20s\tremaining: 12.4s\n",
      "617:\tlearn: 0.5461046\ttotal: 20s\tremaining: 12.4s\n",
      "618:\tlearn: 0.5460517\ttotal: 20.1s\tremaining: 12.3s\n",
      "619:\tlearn: 0.5460119\ttotal: 20.1s\tremaining: 12.3s\n",
      "620:\tlearn: 0.5458994\ttotal: 20.1s\tremaining: 12.3s\n",
      "621:\tlearn: 0.5458933\ttotal: 20.2s\tremaining: 12.2s\n",
      "622:\tlearn: 0.5456106\ttotal: 20.2s\tremaining: 12.2s\n",
      "623:\tlearn: 0.5454362\ttotal: 20.2s\tremaining: 12.2s\n",
      "624:\tlearn: 0.5454057\ttotal: 20.3s\tremaining: 12.2s\n",
      "625:\tlearn: 0.5452310\ttotal: 20.3s\tremaining: 12.1s\n",
      "626:\tlearn: 0.5452139\ttotal: 20.3s\tremaining: 12.1s\n",
      "627:\tlearn: 0.5451976\ttotal: 20.4s\tremaining: 12.1s\n",
      "628:\tlearn: 0.5451576\ttotal: 20.4s\tremaining: 12s\n",
      "629:\tlearn: 0.5451278\ttotal: 20.4s\tremaining: 12s\n",
      "630:\tlearn: 0.5450118\ttotal: 20.5s\tremaining: 12s\n",
      "631:\tlearn: 0.5448141\ttotal: 20.5s\tremaining: 11.9s\n",
      "632:\tlearn: 0.5447941\ttotal: 20.5s\tremaining: 11.9s\n",
      "633:\tlearn: 0.5446956\ttotal: 20.6s\tremaining: 11.9s\n",
      "634:\tlearn: 0.5446722\ttotal: 20.6s\tremaining: 11.8s\n",
      "635:\tlearn: 0.5445242\ttotal: 20.6s\tremaining: 11.8s\n",
      "636:\tlearn: 0.5443891\ttotal: 20.7s\tremaining: 11.8s\n",
      "637:\tlearn: 0.5442463\ttotal: 20.7s\tremaining: 11.8s\n",
      "638:\tlearn: 0.5442399\ttotal: 20.7s\tremaining: 11.7s\n",
      "639:\tlearn: 0.5442180\ttotal: 20.8s\tremaining: 11.7s\n",
      "640:\tlearn: 0.5441212\ttotal: 20.8s\tremaining: 11.7s\n",
      "641:\tlearn: 0.5439834\ttotal: 20.9s\tremaining: 11.6s\n",
      "642:\tlearn: 0.5437787\ttotal: 20.9s\tremaining: 11.6s\n",
      "643:\tlearn: 0.5436174\ttotal: 20.9s\tremaining: 11.6s\n",
      "644:\tlearn: 0.5433137\ttotal: 21s\tremaining: 11.5s\n",
      "645:\tlearn: 0.5432740\ttotal: 21s\tremaining: 11.5s\n",
      "646:\tlearn: 0.5429575\ttotal: 21.1s\tremaining: 11.5s\n",
      "647:\tlearn: 0.5428056\ttotal: 21.1s\tremaining: 11.5s\n",
      "648:\tlearn: 0.5427354\ttotal: 21.1s\tremaining: 11.4s\n",
      "649:\tlearn: 0.5425364\ttotal: 21.2s\tremaining: 11.4s\n",
      "650:\tlearn: 0.5424670\ttotal: 21.2s\tremaining: 11.4s\n",
      "651:\tlearn: 0.5423465\ttotal: 21.2s\tremaining: 11.3s\n",
      "652:\tlearn: 0.5420938\ttotal: 21.3s\tremaining: 11.3s\n",
      "653:\tlearn: 0.5419934\ttotal: 21.3s\tremaining: 11.3s\n",
      "654:\tlearn: 0.5419870\ttotal: 21.3s\tremaining: 11.2s\n",
      "655:\tlearn: 0.5418787\ttotal: 21.4s\tremaining: 11.2s\n",
      "656:\tlearn: 0.5418693\ttotal: 21.4s\tremaining: 11.2s\n",
      "657:\tlearn: 0.5415689\ttotal: 21.5s\tremaining: 11.2s\n",
      "658:\tlearn: 0.5413772\ttotal: 21.5s\tremaining: 11.1s\n",
      "659:\tlearn: 0.5413360\ttotal: 21.5s\tremaining: 11.1s\n",
      "660:\tlearn: 0.5413189\ttotal: 21.6s\tremaining: 11.1s\n",
      "661:\tlearn: 0.5412735\ttotal: 21.6s\tremaining: 11s\n",
      "662:\tlearn: 0.5410246\ttotal: 21.6s\tremaining: 11s\n",
      "663:\tlearn: 0.5410154\ttotal: 21.7s\tremaining: 11s\n",
      "664:\tlearn: 0.5408924\ttotal: 21.7s\tremaining: 10.9s\n",
      "665:\tlearn: 0.5408460\ttotal: 21.7s\tremaining: 10.9s\n",
      "666:\tlearn: 0.5407901\ttotal: 21.8s\tremaining: 10.9s\n",
      "667:\tlearn: 0.5404845\ttotal: 21.8s\tremaining: 10.8s\n",
      "668:\tlearn: 0.5404415\ttotal: 21.9s\tremaining: 10.8s\n",
      "669:\tlearn: 0.5402884\ttotal: 21.9s\tremaining: 10.8s\n",
      "670:\tlearn: 0.5401567\ttotal: 21.9s\tremaining: 10.7s\n",
      "671:\tlearn: 0.5401155\ttotal: 21.9s\tremaining: 10.7s\n",
      "672:\tlearn: 0.5399604\ttotal: 22s\tremaining: 10.7s\n",
      "673:\tlearn: 0.5396687\ttotal: 22s\tremaining: 10.7s\n",
      "674:\tlearn: 0.5396203\ttotal: 22.1s\tremaining: 10.6s\n",
      "675:\tlearn: 0.5395806\ttotal: 22.1s\tremaining: 10.6s\n",
      "676:\tlearn: 0.5395346\ttotal: 22.1s\tremaining: 10.6s\n",
      "677:\tlearn: 0.5391810\ttotal: 22.2s\tremaining: 10.5s\n",
      "678:\tlearn: 0.5391559\ttotal: 22.2s\tremaining: 10.5s\n",
      "679:\tlearn: 0.5390891\ttotal: 22.2s\tremaining: 10.5s\n",
      "680:\tlearn: 0.5390820\ttotal: 22.3s\tremaining: 10.4s\n",
      "681:\tlearn: 0.5389601\ttotal: 22.3s\tremaining: 10.4s\n",
      "682:\tlearn: 0.5387772\ttotal: 22.3s\tremaining: 10.4s\n",
      "683:\tlearn: 0.5387028\ttotal: 22.4s\tremaining: 10.3s\n",
      "684:\tlearn: 0.5385052\ttotal: 22.4s\tremaining: 10.3s\n",
      "685:\tlearn: 0.5384500\ttotal: 22.4s\tremaining: 10.3s\n",
      "686:\tlearn: 0.5383441\ttotal: 22.5s\tremaining: 10.2s\n",
      "687:\tlearn: 0.5382598\ttotal: 22.5s\tremaining: 10.2s\n",
      "688:\tlearn: 0.5382347\ttotal: 22.5s\tremaining: 10.2s\n",
      "689:\tlearn: 0.5382133\ttotal: 22.6s\tremaining: 10.1s\n",
      "690:\tlearn: 0.5381753\ttotal: 22.6s\tremaining: 10.1s\n",
      "691:\tlearn: 0.5381243\ttotal: 22.6s\tremaining: 10.1s\n",
      "692:\tlearn: 0.5379235\ttotal: 22.7s\tremaining: 10s\n",
      "693:\tlearn: 0.5379169\ttotal: 22.7s\tremaining: 10s\n",
      "694:\tlearn: 0.5378813\ttotal: 22.7s\tremaining: 9.98s\n",
      "695:\tlearn: 0.5378763\ttotal: 22.8s\tremaining: 9.95s\n",
      "696:\tlearn: 0.5378180\ttotal: 22.8s\tremaining: 9.91s\n",
      "697:\tlearn: 0.5378097\ttotal: 22.8s\tremaining: 9.88s\n",
      "698:\tlearn: 0.5376292\ttotal: 22.9s\tremaining: 9.85s\n",
      "699:\tlearn: 0.5375615\ttotal: 22.9s\tremaining: 9.81s\n",
      "700:\tlearn: 0.5374370\ttotal: 22.9s\tremaining: 9.78s\n",
      "701:\tlearn: 0.5372529\ttotal: 23s\tremaining: 9.75s\n",
      "702:\tlearn: 0.5371387\ttotal: 23s\tremaining: 9.72s\n",
      "703:\tlearn: 0.5369415\ttotal: 23s\tremaining: 9.69s\n",
      "704:\tlearn: 0.5368803\ttotal: 23.1s\tremaining: 9.65s\n",
      "705:\tlearn: 0.5366331\ttotal: 23.1s\tremaining: 9.62s\n",
      "706:\tlearn: 0.5366004\ttotal: 23.1s\tremaining: 9.59s\n",
      "707:\tlearn: 0.5365377\ttotal: 23.2s\tremaining: 9.56s\n",
      "708:\tlearn: 0.5364693\ttotal: 23.2s\tremaining: 9.53s\n",
      "709:\tlearn: 0.5364309\ttotal: 23.2s\tremaining: 9.49s\n",
      "710:\tlearn: 0.5362840\ttotal: 23.3s\tremaining: 9.46s\n",
      "711:\tlearn: 0.5360891\ttotal: 23.3s\tremaining: 9.43s\n",
      "712:\tlearn: 0.5360761\ttotal: 23.3s\tremaining: 9.4s\n",
      "713:\tlearn: 0.5360344\ttotal: 23.4s\tremaining: 9.36s\n",
      "714:\tlearn: 0.5358419\ttotal: 23.4s\tremaining: 9.33s\n",
      "715:\tlearn: 0.5356786\ttotal: 23.4s\tremaining: 9.3s\n",
      "716:\tlearn: 0.5356052\ttotal: 23.5s\tremaining: 9.27s\n",
      "717:\tlearn: 0.5355206\ttotal: 23.5s\tremaining: 9.23s\n",
      "718:\tlearn: 0.5353662\ttotal: 23.5s\tremaining: 9.2s\n",
      "719:\tlearn: 0.5352948\ttotal: 23.6s\tremaining: 9.17s\n",
      "720:\tlearn: 0.5350718\ttotal: 23.6s\tremaining: 9.14s\n",
      "721:\tlearn: 0.5350158\ttotal: 23.6s\tremaining: 9.1s\n",
      "722:\tlearn: 0.5349216\ttotal: 23.7s\tremaining: 9.07s\n",
      "723:\tlearn: 0.5348195\ttotal: 23.7s\tremaining: 9.04s\n",
      "724:\tlearn: 0.5348079\ttotal: 23.8s\tremaining: 9.01s\n",
      "725:\tlearn: 0.5347556\ttotal: 23.8s\tremaining: 8.98s\n",
      "726:\tlearn: 0.5346269\ttotal: 23.8s\tremaining: 8.94s\n",
      "727:\tlearn: 0.5345874\ttotal: 23.8s\tremaining: 8.91s\n",
      "728:\tlearn: 0.5345364\ttotal: 23.9s\tremaining: 8.88s\n",
      "729:\tlearn: 0.5345182\ttotal: 23.9s\tremaining: 8.84s\n",
      "730:\tlearn: 0.5345023\ttotal: 23.9s\tremaining: 8.81s\n",
      "731:\tlearn: 0.5342897\ttotal: 24s\tremaining: 8.78s\n",
      "732:\tlearn: 0.5342253\ttotal: 24s\tremaining: 8.75s\n",
      "733:\tlearn: 0.5341032\ttotal: 24s\tremaining: 8.71s\n",
      "734:\tlearn: 0.5340870\ttotal: 24.1s\tremaining: 8.68s\n",
      "735:\tlearn: 0.5338321\ttotal: 24.1s\tremaining: 8.65s\n",
      "736:\tlearn: 0.5337814\ttotal: 24.1s\tremaining: 8.62s\n",
      "737:\tlearn: 0.5336934\ttotal: 24.2s\tremaining: 8.58s\n",
      "738:\tlearn: 0.5336079\ttotal: 24.2s\tremaining: 8.55s\n",
      "739:\tlearn: 0.5334135\ttotal: 24.2s\tremaining: 8.52s\n",
      "740:\tlearn: 0.5332813\ttotal: 24.3s\tremaining: 8.48s\n",
      "741:\tlearn: 0.5332238\ttotal: 24.3s\tremaining: 8.45s\n",
      "742:\tlearn: 0.5332139\ttotal: 24.3s\tremaining: 8.42s\n",
      "743:\tlearn: 0.5331746\ttotal: 24.4s\tremaining: 8.39s\n",
      "744:\tlearn: 0.5331239\ttotal: 24.4s\tremaining: 8.35s\n",
      "745:\tlearn: 0.5329995\ttotal: 24.4s\tremaining: 8.32s\n",
      "746:\tlearn: 0.5328134\ttotal: 24.5s\tremaining: 8.29s\n",
      "747:\tlearn: 0.5326242\ttotal: 24.5s\tremaining: 8.26s\n",
      "748:\tlearn: 0.5326038\ttotal: 24.6s\tremaining: 8.23s\n",
      "749:\tlearn: 0.5325135\ttotal: 24.6s\tremaining: 8.2s\n",
      "750:\tlearn: 0.5324583\ttotal: 24.6s\tremaining: 8.17s\n",
      "751:\tlearn: 0.5322023\ttotal: 24.7s\tremaining: 8.14s\n",
      "752:\tlearn: 0.5321935\ttotal: 24.7s\tremaining: 8.1s\n",
      "753:\tlearn: 0.5321856\ttotal: 24.7s\tremaining: 8.07s\n",
      "754:\tlearn: 0.5321626\ttotal: 24.8s\tremaining: 8.04s\n",
      "755:\tlearn: 0.5320822\ttotal: 24.8s\tremaining: 8.01s\n",
      "756:\tlearn: 0.5318977\ttotal: 24.9s\tremaining: 7.98s\n",
      "757:\tlearn: 0.5318676\ttotal: 24.9s\tremaining: 7.95s\n",
      "758:\tlearn: 0.5316582\ttotal: 24.9s\tremaining: 7.91s\n",
      "759:\tlearn: 0.5315872\ttotal: 25s\tremaining: 7.88s\n",
      "760:\tlearn: 0.5312755\ttotal: 25s\tremaining: 7.85s\n",
      "761:\tlearn: 0.5312264\ttotal: 25s\tremaining: 7.82s\n",
      "762:\tlearn: 0.5311976\ttotal: 25.1s\tremaining: 7.78s\n",
      "763:\tlearn: 0.5308868\ttotal: 25.1s\tremaining: 7.75s\n",
      "764:\tlearn: 0.5307373\ttotal: 25.1s\tremaining: 7.72s\n",
      "765:\tlearn: 0.5306262\ttotal: 25.2s\tremaining: 7.69s\n",
      "766:\tlearn: 0.5304631\ttotal: 25.2s\tremaining: 7.66s\n",
      "767:\tlearn: 0.5303893\ttotal: 25.2s\tremaining: 7.62s\n",
      "768:\tlearn: 0.5302239\ttotal: 25.3s\tremaining: 7.59s\n",
      "769:\tlearn: 0.5302173\ttotal: 25.3s\tremaining: 7.56s\n",
      "770:\tlearn: 0.5300015\ttotal: 25.3s\tremaining: 7.53s\n",
      "771:\tlearn: 0.5299739\ttotal: 25.4s\tremaining: 7.5s\n",
      "772:\tlearn: 0.5298534\ttotal: 25.4s\tremaining: 7.46s\n",
      "773:\tlearn: 0.5298485\ttotal: 25.4s\tremaining: 7.43s\n",
      "774:\tlearn: 0.5297580\ttotal: 25.5s\tremaining: 7.39s\n",
      "775:\tlearn: 0.5296457\ttotal: 25.5s\tremaining: 7.36s\n",
      "776:\tlearn: 0.5295199\ttotal: 25.5s\tremaining: 7.33s\n",
      "777:\tlearn: 0.5295016\ttotal: 25.6s\tremaining: 7.3s\n",
      "778:\tlearn: 0.5293205\ttotal: 25.6s\tremaining: 7.27s\n",
      "779:\tlearn: 0.5293133\ttotal: 25.6s\tremaining: 7.23s\n",
      "780:\tlearn: 0.5291925\ttotal: 25.7s\tremaining: 7.2s\n",
      "781:\tlearn: 0.5290643\ttotal: 25.7s\tremaining: 7.17s\n",
      "782:\tlearn: 0.5289681\ttotal: 25.8s\tremaining: 7.14s\n",
      "783:\tlearn: 0.5289528\ttotal: 25.8s\tremaining: 7.11s\n",
      "784:\tlearn: 0.5288178\ttotal: 25.8s\tremaining: 7.08s\n",
      "785:\tlearn: 0.5286330\ttotal: 25.9s\tremaining: 7.04s\n",
      "786:\tlearn: 0.5286070\ttotal: 25.9s\tremaining: 7.01s\n",
      "787:\tlearn: 0.5284169\ttotal: 25.9s\tremaining: 6.98s\n",
      "788:\tlearn: 0.5283712\ttotal: 26s\tremaining: 6.94s\n",
      "789:\tlearn: 0.5282820\ttotal: 26s\tremaining: 6.91s\n",
      "790:\tlearn: 0.5281284\ttotal: 26s\tremaining: 6.88s\n",
      "791:\tlearn: 0.5280407\ttotal: 26.1s\tremaining: 6.85s\n",
      "792:\tlearn: 0.5280080\ttotal: 26.1s\tremaining: 6.82s\n",
      "793:\tlearn: 0.5279223\ttotal: 26.2s\tremaining: 6.79s\n",
      "794:\tlearn: 0.5276484\ttotal: 26.2s\tremaining: 6.76s\n",
      "795:\tlearn: 0.5275024\ttotal: 26.2s\tremaining: 6.73s\n",
      "796:\tlearn: 0.5274934\ttotal: 26.3s\tremaining: 6.69s\n",
      "797:\tlearn: 0.5273982\ttotal: 26.3s\tremaining: 6.67s\n",
      "798:\tlearn: 0.5271311\ttotal: 26.4s\tremaining: 6.63s\n",
      "799:\tlearn: 0.5270402\ttotal: 26.4s\tremaining: 6.6s\n",
      "800:\tlearn: 0.5270170\ttotal: 26.5s\tremaining: 6.57s\n",
      "801:\tlearn: 0.5269559\ttotal: 26.5s\tremaining: 6.54s\n",
      "802:\tlearn: 0.5268799\ttotal: 26.5s\tremaining: 6.5s\n",
      "803:\tlearn: 0.5267540\ttotal: 26.6s\tremaining: 6.47s\n",
      "804:\tlearn: 0.5267401\ttotal: 26.6s\tremaining: 6.44s\n",
      "805:\tlearn: 0.5266026\ttotal: 26.6s\tremaining: 6.41s\n",
      "806:\tlearn: 0.5265451\ttotal: 26.7s\tremaining: 6.37s\n",
      "807:\tlearn: 0.5264881\ttotal: 26.7s\tremaining: 6.34s\n",
      "808:\tlearn: 0.5264844\ttotal: 26.7s\tremaining: 6.31s\n",
      "809:\tlearn: 0.5264287\ttotal: 26.8s\tremaining: 6.28s\n",
      "810:\tlearn: 0.5264170\ttotal: 26.8s\tremaining: 6.24s\n",
      "811:\tlearn: 0.5263240\ttotal: 26.8s\tremaining: 6.21s\n",
      "812:\tlearn: 0.5261281\ttotal: 26.9s\tremaining: 6.18s\n",
      "813:\tlearn: 0.5259613\ttotal: 26.9s\tremaining: 6.14s\n",
      "814:\tlearn: 0.5259028\ttotal: 26.9s\tremaining: 6.11s\n",
      "815:\tlearn: 0.5256734\ttotal: 27s\tremaining: 6.08s\n",
      "816:\tlearn: 0.5256365\ttotal: 27s\tremaining: 6.05s\n",
      "817:\tlearn: 0.5256273\ttotal: 27s\tremaining: 6.01s\n",
      "818:\tlearn: 0.5255741\ttotal: 27.1s\tremaining: 5.98s\n",
      "819:\tlearn: 0.5254788\ttotal: 27.1s\tremaining: 5.95s\n",
      "820:\tlearn: 0.5254442\ttotal: 27.1s\tremaining: 5.91s\n",
      "821:\tlearn: 0.5253114\ttotal: 27.2s\tremaining: 5.88s\n",
      "822:\tlearn: 0.5250569\ttotal: 27.2s\tremaining: 5.85s\n",
      "823:\tlearn: 0.5249407\ttotal: 27.2s\tremaining: 5.82s\n",
      "824:\tlearn: 0.5248469\ttotal: 27.3s\tremaining: 5.78s\n",
      "825:\tlearn: 0.5245840\ttotal: 27.3s\tremaining: 5.75s\n",
      "826:\tlearn: 0.5242945\ttotal: 27.3s\tremaining: 5.72s\n",
      "827:\tlearn: 0.5241055\ttotal: 27.4s\tremaining: 5.69s\n",
      "828:\tlearn: 0.5240969\ttotal: 27.4s\tremaining: 5.65s\n",
      "829:\tlearn: 0.5240173\ttotal: 27.4s\tremaining: 5.62s\n",
      "830:\tlearn: 0.5236966\ttotal: 27.5s\tremaining: 5.59s\n",
      "831:\tlearn: 0.5236794\ttotal: 27.5s\tremaining: 5.55s\n",
      "832:\tlearn: 0.5235341\ttotal: 27.6s\tremaining: 5.52s\n",
      "833:\tlearn: 0.5235042\ttotal: 27.6s\tremaining: 5.49s\n",
      "834:\tlearn: 0.5233756\ttotal: 27.6s\tremaining: 5.46s\n",
      "835:\tlearn: 0.5232218\ttotal: 27.7s\tremaining: 5.42s\n",
      "836:\tlearn: 0.5230710\ttotal: 27.7s\tremaining: 5.39s\n",
      "837:\tlearn: 0.5228805\ttotal: 27.7s\tremaining: 5.36s\n",
      "838:\tlearn: 0.5228484\ttotal: 27.8s\tremaining: 5.33s\n",
      "839:\tlearn: 0.5226591\ttotal: 27.8s\tremaining: 5.29s\n",
      "840:\tlearn: 0.5224992\ttotal: 27.8s\tremaining: 5.26s\n",
      "841:\tlearn: 0.5224924\ttotal: 27.9s\tremaining: 5.23s\n",
      "842:\tlearn: 0.5224524\ttotal: 27.9s\tremaining: 5.19s\n",
      "843:\tlearn: 0.5223696\ttotal: 27.9s\tremaining: 5.16s\n",
      "844:\tlearn: 0.5222052\ttotal: 28s\tremaining: 5.13s\n",
      "845:\tlearn: 0.5220628\ttotal: 28s\tremaining: 5.09s\n",
      "846:\tlearn: 0.5219815\ttotal: 28s\tremaining: 5.06s\n",
      "847:\tlearn: 0.5219593\ttotal: 28s\tremaining: 5.03s\n",
      "848:\tlearn: 0.5218159\ttotal: 28.1s\tremaining: 4.99s\n",
      "849:\tlearn: 0.5217218\ttotal: 28.1s\tremaining: 4.96s\n",
      "850:\tlearn: 0.5215241\ttotal: 28.1s\tremaining: 4.93s\n",
      "851:\tlearn: 0.5214679\ttotal: 28.2s\tremaining: 4.89s\n",
      "852:\tlearn: 0.5213763\ttotal: 28.2s\tremaining: 4.86s\n",
      "853:\tlearn: 0.5209871\ttotal: 28.3s\tremaining: 4.83s\n",
      "854:\tlearn: 0.5209683\ttotal: 28.3s\tremaining: 4.79s\n",
      "855:\tlearn: 0.5208189\ttotal: 28.3s\tremaining: 4.76s\n",
      "856:\tlearn: 0.5207475\ttotal: 28.3s\tremaining: 4.73s\n",
      "857:\tlearn: 0.5206470\ttotal: 28.4s\tremaining: 4.7s\n",
      "858:\tlearn: 0.5204861\ttotal: 28.4s\tremaining: 4.66s\n",
      "859:\tlearn: 0.5203455\ttotal: 28.4s\tremaining: 4.63s\n",
      "860:\tlearn: 0.5202376\ttotal: 28.5s\tremaining: 4.6s\n",
      "861:\tlearn: 0.5200032\ttotal: 28.5s\tremaining: 4.57s\n",
      "862:\tlearn: 0.5198830\ttotal: 28.5s\tremaining: 4.53s\n",
      "863:\tlearn: 0.5198639\ttotal: 28.6s\tremaining: 4.5s\n",
      "864:\tlearn: 0.5196854\ttotal: 28.6s\tremaining: 4.47s\n",
      "865:\tlearn: 0.5196253\ttotal: 28.6s\tremaining: 4.43s\n",
      "866:\tlearn: 0.5195731\ttotal: 28.7s\tremaining: 4.4s\n",
      "867:\tlearn: 0.5194685\ttotal: 28.7s\tremaining: 4.37s\n",
      "868:\tlearn: 0.5192993\ttotal: 28.7s\tremaining: 4.33s\n",
      "869:\tlearn: 0.5191508\ttotal: 28.8s\tremaining: 4.3s\n",
      "870:\tlearn: 0.5191372\ttotal: 28.8s\tremaining: 4.27s\n",
      "871:\tlearn: 0.5191291\ttotal: 28.8s\tremaining: 4.23s\n",
      "872:\tlearn: 0.5189436\ttotal: 28.9s\tremaining: 4.2s\n",
      "873:\tlearn: 0.5189284\ttotal: 28.9s\tremaining: 4.17s\n",
      "874:\tlearn: 0.5188578\ttotal: 28.9s\tremaining: 4.13s\n",
      "875:\tlearn: 0.5188306\ttotal: 29s\tremaining: 4.1s\n",
      "876:\tlearn: 0.5186986\ttotal: 29s\tremaining: 4.07s\n",
      "877:\tlearn: 0.5186508\ttotal: 29s\tremaining: 4.04s\n",
      "878:\tlearn: 0.5185478\ttotal: 29.1s\tremaining: 4s\n",
      "879:\tlearn: 0.5185281\ttotal: 29.1s\tremaining: 3.97s\n",
      "880:\tlearn: 0.5184787\ttotal: 29.1s\tremaining: 3.94s\n",
      "881:\tlearn: 0.5184298\ttotal: 29.2s\tremaining: 3.9s\n",
      "882:\tlearn: 0.5183948\ttotal: 29.2s\tremaining: 3.87s\n",
      "883:\tlearn: 0.5183367\ttotal: 29.2s\tremaining: 3.83s\n",
      "884:\tlearn: 0.5183307\ttotal: 29.3s\tremaining: 3.8s\n",
      "885:\tlearn: 0.5183256\ttotal: 29.3s\tremaining: 3.77s\n",
      "886:\tlearn: 0.5182637\ttotal: 29.3s\tremaining: 3.74s\n",
      "887:\tlearn: 0.5181394\ttotal: 29.4s\tremaining: 3.7s\n",
      "888:\tlearn: 0.5180205\ttotal: 29.4s\tremaining: 3.67s\n",
      "889:\tlearn: 0.5178522\ttotal: 29.4s\tremaining: 3.64s\n",
      "890:\tlearn: 0.5178124\ttotal: 29.5s\tremaining: 3.6s\n",
      "891:\tlearn: 0.5177889\ttotal: 29.5s\tremaining: 3.57s\n",
      "892:\tlearn: 0.5177304\ttotal: 29.5s\tremaining: 3.54s\n",
      "893:\tlearn: 0.5176595\ttotal: 29.6s\tremaining: 3.51s\n",
      "894:\tlearn: 0.5176440\ttotal: 29.6s\tremaining: 3.47s\n",
      "895:\tlearn: 0.5176099\ttotal: 29.6s\tremaining: 3.44s\n",
      "896:\tlearn: 0.5175306\ttotal: 29.7s\tremaining: 3.41s\n",
      "897:\tlearn: 0.5173823\ttotal: 29.7s\tremaining: 3.38s\n",
      "898:\tlearn: 0.5173055\ttotal: 29.8s\tremaining: 3.34s\n",
      "899:\tlearn: 0.5172629\ttotal: 29.8s\tremaining: 3.31s\n",
      "900:\tlearn: 0.5171230\ttotal: 29.8s\tremaining: 3.28s\n",
      "901:\tlearn: 0.5170883\ttotal: 29.9s\tremaining: 3.25s\n",
      "902:\tlearn: 0.5168850\ttotal: 30s\tremaining: 3.22s\n",
      "903:\tlearn: 0.5168008\ttotal: 30s\tremaining: 3.19s\n",
      "904:\tlearn: 0.5167213\ttotal: 30.1s\tremaining: 3.15s\n",
      "905:\tlearn: 0.5166199\ttotal: 30.1s\tremaining: 3.12s\n",
      "906:\tlearn: 0.5163631\ttotal: 30.1s\tremaining: 3.09s\n",
      "907:\tlearn: 0.5162253\ttotal: 30.2s\tremaining: 3.06s\n",
      "908:\tlearn: 0.5161337\ttotal: 30.2s\tremaining: 3.03s\n",
      "909:\tlearn: 0.5160296\ttotal: 30.3s\tremaining: 3s\n",
      "910:\tlearn: 0.5158298\ttotal: 30.3s\tremaining: 2.96s\n",
      "911:\tlearn: 0.5157995\ttotal: 30.4s\tremaining: 2.93s\n",
      "912:\tlearn: 0.5156505\ttotal: 30.4s\tremaining: 2.9s\n",
      "913:\tlearn: 0.5156205\ttotal: 30.5s\tremaining: 2.87s\n",
      "914:\tlearn: 0.5155267\ttotal: 30.5s\tremaining: 2.83s\n",
      "915:\tlearn: 0.5154842\ttotal: 30.5s\tremaining: 2.8s\n",
      "916:\tlearn: 0.5154489\ttotal: 30.6s\tremaining: 2.77s\n",
      "917:\tlearn: 0.5153390\ttotal: 30.6s\tremaining: 2.73s\n",
      "918:\tlearn: 0.5153260\ttotal: 30.7s\tremaining: 2.7s\n",
      "919:\tlearn: 0.5152833\ttotal: 30.7s\tremaining: 2.67s\n",
      "920:\tlearn: 0.5150199\ttotal: 30.7s\tremaining: 2.63s\n",
      "921:\tlearn: 0.5149910\ttotal: 30.8s\tremaining: 2.6s\n",
      "922:\tlearn: 0.5149495\ttotal: 30.8s\tremaining: 2.57s\n",
      "923:\tlearn: 0.5146949\ttotal: 30.8s\tremaining: 2.54s\n",
      "924:\tlearn: 0.5145188\ttotal: 30.9s\tremaining: 2.5s\n",
      "925:\tlearn: 0.5144584\ttotal: 30.9s\tremaining: 2.47s\n",
      "926:\tlearn: 0.5144023\ttotal: 31s\tremaining: 2.44s\n",
      "927:\tlearn: 0.5143019\ttotal: 31s\tremaining: 2.4s\n",
      "928:\tlearn: 0.5142643\ttotal: 31s\tremaining: 2.37s\n",
      "929:\tlearn: 0.5139976\ttotal: 31.1s\tremaining: 2.34s\n",
      "930:\tlearn: 0.5139821\ttotal: 31.1s\tremaining: 2.31s\n",
      "931:\tlearn: 0.5137767\ttotal: 31.2s\tremaining: 2.27s\n",
      "932:\tlearn: 0.5134967\ttotal: 31.2s\tremaining: 2.24s\n",
      "933:\tlearn: 0.5133585\ttotal: 31.2s\tremaining: 2.21s\n",
      "934:\tlearn: 0.5130738\ttotal: 31.3s\tremaining: 2.17s\n",
      "935:\tlearn: 0.5129996\ttotal: 31.3s\tremaining: 2.14s\n",
      "936:\tlearn: 0.5128441\ttotal: 31.4s\tremaining: 2.11s\n",
      "937:\tlearn: 0.5128016\ttotal: 31.4s\tremaining: 2.08s\n",
      "938:\tlearn: 0.5126912\ttotal: 31.4s\tremaining: 2.04s\n",
      "939:\tlearn: 0.5125476\ttotal: 31.5s\tremaining: 2.01s\n",
      "940:\tlearn: 0.5124888\ttotal: 31.5s\tremaining: 1.98s\n",
      "941:\tlearn: 0.5124215\ttotal: 31.6s\tremaining: 1.94s\n",
      "942:\tlearn: 0.5123581\ttotal: 31.6s\tremaining: 1.91s\n",
      "943:\tlearn: 0.5123279\ttotal: 31.6s\tremaining: 1.88s\n",
      "944:\tlearn: 0.5121138\ttotal: 31.7s\tremaining: 1.84s\n",
      "945:\tlearn: 0.5118322\ttotal: 31.7s\tremaining: 1.81s\n",
      "946:\tlearn: 0.5118215\ttotal: 31.7s\tremaining: 1.78s\n",
      "947:\tlearn: 0.5118144\ttotal: 31.8s\tremaining: 1.74s\n",
      "948:\tlearn: 0.5118010\ttotal: 31.8s\tremaining: 1.71s\n",
      "949:\tlearn: 0.5117756\ttotal: 31.8s\tremaining: 1.68s\n",
      "950:\tlearn: 0.5116809\ttotal: 31.9s\tremaining: 1.64s\n",
      "951:\tlearn: 0.5116364\ttotal: 31.9s\tremaining: 1.61s\n",
      "952:\tlearn: 0.5114564\ttotal: 32s\tremaining: 1.57s\n",
      "953:\tlearn: 0.5113729\ttotal: 32s\tremaining: 1.54s\n",
      "954:\tlearn: 0.5113246\ttotal: 32s\tremaining: 1.51s\n",
      "955:\tlearn: 0.5113051\ttotal: 32.1s\tremaining: 1.48s\n",
      "956:\tlearn: 0.5111413\ttotal: 32.1s\tremaining: 1.44s\n",
      "957:\tlearn: 0.5109392\ttotal: 32.1s\tremaining: 1.41s\n",
      "958:\tlearn: 0.5108683\ttotal: 32.2s\tremaining: 1.38s\n",
      "959:\tlearn: 0.5108547\ttotal: 32.2s\tremaining: 1.34s\n",
      "960:\tlearn: 0.5106852\ttotal: 32.3s\tremaining: 1.31s\n",
      "961:\tlearn: 0.5105205\ttotal: 32.3s\tremaining: 1.28s\n",
      "962:\tlearn: 0.5103095\ttotal: 32.3s\tremaining: 1.24s\n",
      "963:\tlearn: 0.5102793\ttotal: 32.4s\tremaining: 1.21s\n",
      "964:\tlearn: 0.5102589\ttotal: 32.4s\tremaining: 1.18s\n",
      "965:\tlearn: 0.5101250\ttotal: 32.5s\tremaining: 1.14s\n",
      "966:\tlearn: 0.5099908\ttotal: 32.5s\tremaining: 1.11s\n",
      "967:\tlearn: 0.5099605\ttotal: 32.5s\tremaining: 1.07s\n",
      "968:\tlearn: 0.5097732\ttotal: 32.6s\tremaining: 1.04s\n",
      "969:\tlearn: 0.5096617\ttotal: 32.6s\tremaining: 1.01s\n",
      "970:\tlearn: 0.5096220\ttotal: 32.6s\tremaining: 974ms\n",
      "971:\tlearn: 0.5094889\ttotal: 32.7s\tremaining: 941ms\n",
      "972:\tlearn: 0.5094210\ttotal: 32.7s\tremaining: 908ms\n",
      "973:\tlearn: 0.5092818\ttotal: 32.7s\tremaining: 874ms\n",
      "974:\tlearn: 0.5091329\ttotal: 32.8s\tremaining: 841ms\n",
      "975:\tlearn: 0.5090800\ttotal: 32.8s\tremaining: 807ms\n",
      "976:\tlearn: 0.5089820\ttotal: 32.9s\tremaining: 774ms\n",
      "977:\tlearn: 0.5088285\ttotal: 32.9s\tremaining: 740ms\n",
      "978:\tlearn: 0.5087567\ttotal: 32.9s\tremaining: 707ms\n",
      "979:\tlearn: 0.5086476\ttotal: 33s\tremaining: 673ms\n",
      "980:\tlearn: 0.5086443\ttotal: 33s\tremaining: 639ms\n",
      "981:\tlearn: 0.5085870\ttotal: 33.1s\tremaining: 606ms\n",
      "982:\tlearn: 0.5085517\ttotal: 33.1s\tremaining: 572ms\n",
      "983:\tlearn: 0.5084701\ttotal: 33.1s\tremaining: 539ms\n",
      "984:\tlearn: 0.5082653\ttotal: 33.2s\tremaining: 505ms\n",
      "985:\tlearn: 0.5081377\ttotal: 33.2s\tremaining: 472ms\n",
      "986:\tlearn: 0.5079804\ttotal: 33.2s\tremaining: 438ms\n",
      "987:\tlearn: 0.5079143\ttotal: 33.3s\tremaining: 404ms\n",
      "988:\tlearn: 0.5077676\ttotal: 33.3s\tremaining: 371ms\n",
      "989:\tlearn: 0.5076630\ttotal: 33.4s\tremaining: 337ms\n",
      "990:\tlearn: 0.5075118\ttotal: 33.4s\tremaining: 303ms\n",
      "991:\tlearn: 0.5074209\ttotal: 33.4s\tremaining: 270ms\n",
      "992:\tlearn: 0.5074025\ttotal: 33.5s\tremaining: 236ms\n",
      "993:\tlearn: 0.5072780\ttotal: 33.5s\tremaining: 202ms\n",
      "994:\tlearn: 0.5072653\ttotal: 33.6s\tremaining: 169ms\n",
      "995:\tlearn: 0.5072188\ttotal: 33.6s\tremaining: 135ms\n",
      "996:\tlearn: 0.5071585\ttotal: 33.6s\tremaining: 101ms\n",
      "997:\tlearn: 0.5070721\ttotal: 33.7s\tremaining: 67.5ms\n",
      "998:\tlearn: 0.5068867\ttotal: 33.7s\tremaining: 33.7ms\n",
      "999:\tlearn: 0.5067764\ttotal: 33.7s\tremaining: 0us\n"
     ]
    },
    {
     "data": {
      "text/plain": [
       "<catboost.core.CatBoostClassifier at 0x1437cfa6190>"
      ]
     },
     "execution_count": 109,
     "metadata": {},
     "output_type": "execute_result"
    }
   ],
   "source": [
    "from catboost import CatBoostClassifier\n",
    "# <USE IT!>\n",
    "clf = CatBoostClassifier()\n",
    "clf.fit(sparse_data_train, clean_data_train['average_bill'])"
   ]
  },
  {
   "cell_type": "code",
   "execution_count": null,
   "metadata": {},
   "outputs": [
    {
     "ename": "NameError",
     "evalue": "name 'balanced_accuracy_score' is not defined",
     "output_type": "error",
     "traceback": [
      "\u001b[31m---------------------------------------------------------------------------\u001b[39m",
      "\u001b[31mNameError\u001b[39m                                 Traceback (most recent call last)",
      "\u001b[36mCell\u001b[39m\u001b[36m \u001b[39m\u001b[32mIn[116]\u001b[39m\u001b[32m, line 1\u001b[39m\n\u001b[32m----> \u001b[39m\u001b[32m1\u001b[39m \u001b[43mbalanced_accuracy_score\u001b[49m(clean_data_test[\u001b[33m'\u001b[39m\u001b[33maverage_bill\u001b[39m\u001b[33m'\u001b[39m], clf.predict(sparse_data_test))\n",
      "\u001b[31mNameError\u001b[39m: name 'balanced_accuracy_score' is not defined"
     ]
    }
   ],
   "source": [
    "from sklearn.metrics import balanced_accuracy_score\n",
    "\n",
    "balanced_accuracy_score(clean_data_test['average_bill'], clf.predict(sparse_data_test))"
   ]
  },
  {
   "cell_type": "markdown",
   "metadata": {
    "id": "SBOpZY9BGH7Q"
   },
   "source": [
    "**11. Пришлите в Контест balanced_accuracy_score на тестовой выборке, округлённый до двух знаков после запятой**. Стало ли сильно лучше от того, что мы воспользовались таким крутым классификатором?"
   ]
  }
 ],
 "metadata": {
  "colab": {
   "provenance": []
  },
  "kernelspec": {
   "display_name": ".venv",
   "language": "python",
   "name": "python3"
  },
  "language_info": {
   "codemirror_mode": {
    "name": "ipython",
    "version": 3
   },
   "file_extension": ".py",
   "mimetype": "text/x-python",
   "name": "python",
   "nbconvert_exporter": "python",
   "pygments_lexer": "ipython3",
   "version": "3.11.1"
  }
 },
 "nbformat": 4,
 "nbformat_minor": 4
}
